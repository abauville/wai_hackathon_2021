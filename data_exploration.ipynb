{
 "cells": [
  {
   "cell_type": "markdown",
   "id": "abandoned-iraqi",
   "metadata": {},
   "source": [
    "# WAI hackathon 2021"
   ]
  },
  {
   "cell_type": "markdown",
   "id": "furnished-clark",
   "metadata": {},
   "source": [
    "# 1. Setup"
   ]
  },
  {
   "cell_type": "code",
   "execution_count": 1,
   "id": "refined-contractor",
   "metadata": {},
   "outputs": [],
   "source": [
    "# Imports \n",
    "import numpy as np\n",
    "import matplotlib as plt\n",
    "import seaborn as sns\n",
    "import matplotlib as mpl\n",
    "import pandas as pd\n",
    "\n",
    "# Figure style\n",
    "plt.style.use('seaborn')\n",
    "mpl.rc('font', size=13)\n",
    "mpl.rc('axes', labelsize='large')\n",
    "mpl.rc('xtick', labelsize='large')\n",
    "mpl.rc('ytick', labelsize='large')\n",
    "\n",
    "plt.rcParams['figure.figsize'] = [20, 10] # For larger plots"
   ]
  },
  {
   "cell_type": "code",
   "execution_count": 2,
   "id": "bulgarian-shift",
   "metadata": {},
   "outputs": [],
   "source": [
    "# Load data\n",
    "df1 = pd.read_csv(\"./Data/20200306 Data International Women's Day Viz5 Launch.csv\")"
   ]
  },
  {
   "cell_type": "code",
   "execution_count": 3,
   "id": "multiple-bhutan",
   "metadata": {},
   "outputs": [
    {
     "data": {
      "text/html": [
       "<div>\n",
       "<style scoped>\n",
       "    .dataframe tbody tr th:only-of-type {\n",
       "        vertical-align: middle;\n",
       "    }\n",
       "\n",
       "    .dataframe tbody tr th {\n",
       "        vertical-align: top;\n",
       "    }\n",
       "\n",
       "    .dataframe thead th {\n",
       "        text-align: right;\n",
       "    }\n",
       "</style>\n",
       "<table border=\"1\" class=\"dataframe\">\n",
       "  <thead>\n",
       "    <tr style=\"text-align: right;\">\n",
       "      <th></th>\n",
       "      <th>RecordID</th>\n",
       "      <th>Country</th>\n",
       "      <th>Gender</th>\n",
       "      <th>Demographics Question</th>\n",
       "      <th>Demographics Response</th>\n",
       "      <th>Question</th>\n",
       "      <th>Survey Year</th>\n",
       "      <th>Value</th>\n",
       "    </tr>\n",
       "  </thead>\n",
       "  <tbody>\n",
       "    <tr>\n",
       "      <th>0</th>\n",
       "      <td>1</td>\n",
       "      <td>Afghanistan</td>\n",
       "      <td>F</td>\n",
       "      <td>Marital status</td>\n",
       "      <td>Never married</td>\n",
       "      <td>... if she burns the food</td>\n",
       "      <td>01/01/2015</td>\n",
       "      <td>NaN</td>\n",
       "    </tr>\n",
       "    <tr>\n",
       "      <th>1</th>\n",
       "      <td>1</td>\n",
       "      <td>Afghanistan</td>\n",
       "      <td>F</td>\n",
       "      <td>Education</td>\n",
       "      <td>Higher</td>\n",
       "      <td>... if she burns the food</td>\n",
       "      <td>01/01/2015</td>\n",
       "      <td>10.1</td>\n",
       "    </tr>\n",
       "    <tr>\n",
       "      <th>2</th>\n",
       "      <td>1</td>\n",
       "      <td>Afghanistan</td>\n",
       "      <td>F</td>\n",
       "      <td>Education</td>\n",
       "      <td>Secondary</td>\n",
       "      <td>... if she burns the food</td>\n",
       "      <td>01/01/2015</td>\n",
       "      <td>13.7</td>\n",
       "    </tr>\n",
       "    <tr>\n",
       "      <th>3</th>\n",
       "      <td>1</td>\n",
       "      <td>Afghanistan</td>\n",
       "      <td>F</td>\n",
       "      <td>Education</td>\n",
       "      <td>Primary</td>\n",
       "      <td>... if she burns the food</td>\n",
       "      <td>01/01/2015</td>\n",
       "      <td>13.8</td>\n",
       "    </tr>\n",
       "    <tr>\n",
       "      <th>4</th>\n",
       "      <td>1</td>\n",
       "      <td>Afghanistan</td>\n",
       "      <td>F</td>\n",
       "      <td>Marital status</td>\n",
       "      <td>Widowed, divorced, separated</td>\n",
       "      <td>... if she burns the food</td>\n",
       "      <td>01/01/2015</td>\n",
       "      <td>13.8</td>\n",
       "    </tr>\n",
       "  </tbody>\n",
       "</table>\n",
       "</div>"
      ],
      "text/plain": [
       "   RecordID      Country Gender Demographics Question  \\\n",
       "0         1  Afghanistan      F        Marital status   \n",
       "1         1  Afghanistan      F             Education   \n",
       "2         1  Afghanistan      F             Education   \n",
       "3         1  Afghanistan      F             Education   \n",
       "4         1  Afghanistan      F        Marital status   \n",
       "\n",
       "          Demographics Response                   Question Survey Year  Value  \n",
       "0                 Never married  ... if she burns the food  01/01/2015    NaN  \n",
       "1                        Higher  ... if she burns the food  01/01/2015   10.1  \n",
       "2                     Secondary  ... if she burns the food  01/01/2015   13.7  \n",
       "3                       Primary  ... if she burns the food  01/01/2015   13.8  \n",
       "4  Widowed, divorced, separated  ... if she burns the food  01/01/2015   13.8  "
      ]
     },
     "execution_count": 3,
     "metadata": {},
     "output_type": "execute_result"
    }
   ],
   "source": [
    "df1.head()"
   ]
  },
  {
   "cell_type": "code",
   "execution_count": 4,
   "id": "interracial-segment",
   "metadata": {},
   "outputs": [
    {
     "name": "stdout",
     "output_type": "stream",
     "text": [
      "<class 'pandas.core.frame.DataFrame'>\n",
      "RangeIndex: 12600 entries, 0 to 12599\n",
      "Data columns (total 8 columns):\n",
      " #   Column                 Non-Null Count  Dtype  \n",
      "---  ------                 --------------  -----  \n",
      " 0   RecordID               12600 non-null  int64  \n",
      " 1   Country                12600 non-null  object \n",
      " 2   Gender                 12600 non-null  object \n",
      " 3   Demographics Question  12600 non-null  object \n",
      " 4   Demographics Response  12600 non-null  object \n",
      " 5   Question               12600 non-null  object \n",
      " 6   Survey Year            12600 non-null  object \n",
      " 7   Value                  11187 non-null  float64\n",
      "dtypes: float64(1), int64(1), object(6)\n",
      "memory usage: 787.6+ KB\n"
     ]
    }
   ],
   "source": [
    "df1.info()"
   ]
  },
  {
   "cell_type": "code",
   "execution_count": 5,
   "id": "biblical-fiction",
   "metadata": {},
   "outputs": [
    {
     "data": {
      "text/plain": [
       "array(['Marital status', 'Education', 'Employment', 'Age', 'Residence'],\n",
       "      dtype=object)"
      ]
     },
     "execution_count": 5,
     "metadata": {},
     "output_type": "execute_result"
    }
   ],
   "source": [
    "df1['Demographics Question'].unique()"
   ]
  },
  {
   "cell_type": "code",
   "execution_count": 6,
   "id": "trying-picking",
   "metadata": {},
   "outputs": [
    {
     "data": {
      "text/plain": [
       "array(['... if she burns the food',\n",
       "       '... for at least one specific reason',\n",
       "       '... if she argues with him',\n",
       "       '... if she goes out without telling him',\n",
       "       '... if she neglects the children',\n",
       "       '... if she refuses to have sex with him'], dtype=object)"
      ]
     },
     "execution_count": 6,
     "metadata": {},
     "output_type": "execute_result"
    }
   ],
   "source": [
    "df1['Question'].unique()"
   ]
  },
  {
   "cell_type": "code",
   "execution_count": 7,
   "id": "interior-relation",
   "metadata": {},
   "outputs": [
    {
     "data": {
      "text/html": [
       "<div>\n",
       "<style scoped>\n",
       "    .dataframe tbody tr th:only-of-type {\n",
       "        vertical-align: middle;\n",
       "    }\n",
       "\n",
       "    .dataframe tbody tr th {\n",
       "        vertical-align: top;\n",
       "    }\n",
       "\n",
       "    .dataframe thead th {\n",
       "        text-align: right;\n",
       "    }\n",
       "</style>\n",
       "<table border=\"1\" class=\"dataframe\">\n",
       "  <thead>\n",
       "    <tr style=\"text-align: right;\">\n",
       "      <th></th>\n",
       "      <th>KpiId</th>\n",
       "      <th>KpiName</th>\n",
       "      <th>Value</th>\n",
       "      <th>DataType</th>\n",
       "      <th>Period</th>\n",
       "      <th>StartDate</th>\n",
       "      <th>EndDate</th>\n",
       "      <th>CollectionFrequency</th>\n",
       "    </tr>\n",
       "  </thead>\n",
       "  <tbody>\n",
       "    <tr>\n",
       "      <th>0</th>\n",
       "      <td>DOMV9a</td>\n",
       "      <td>Domestic Violence Incidents Level - Medium Risk</td>\n",
       "      <td>15.00 Number</td>\n",
       "      <td>Number</td>\n",
       "      <td>2011/2012_Apr</td>\n",
       "      <td>2011-04-01</td>\n",
       "      <td>2011-04-30</td>\n",
       "      <td>Monthly</td>\n",
       "    </tr>\n",
       "    <tr>\n",
       "      <th>1</th>\n",
       "      <td>DOMV9a</td>\n",
       "      <td>Domestic Violence Incidents Level - Medium Risk</td>\n",
       "      <td>36.00 Number</td>\n",
       "      <td>Number</td>\n",
       "      <td>2011/2012_Q1</td>\n",
       "      <td>2011-04-01</td>\n",
       "      <td>2011-06-30</td>\n",
       "      <td>Monthly</td>\n",
       "    </tr>\n",
       "    <tr>\n",
       "      <th>2</th>\n",
       "      <td>DOMV9a</td>\n",
       "      <td>Domestic Violence Incidents Level - Medium Risk</td>\n",
       "      <td>278.00 Number</td>\n",
       "      <td>Number</td>\n",
       "      <td>2011/2012</td>\n",
       "      <td>2011-04-01</td>\n",
       "      <td>2012-03-31</td>\n",
       "      <td>Monthly</td>\n",
       "    </tr>\n",
       "    <tr>\n",
       "      <th>3</th>\n",
       "      <td>DOMV9a</td>\n",
       "      <td>Domestic Violence Incidents Level - Medium Risk</td>\n",
       "      <td>9.00 Number</td>\n",
       "      <td>Number</td>\n",
       "      <td>2011/2012_May</td>\n",
       "      <td>2011-05-01</td>\n",
       "      <td>2011-05-31</td>\n",
       "      <td>Monthly</td>\n",
       "    </tr>\n",
       "    <tr>\n",
       "      <th>4</th>\n",
       "      <td>DOMV9a</td>\n",
       "      <td>Domestic Violence Incidents Level - Medium Risk</td>\n",
       "      <td>12.00 Number</td>\n",
       "      <td>Number</td>\n",
       "      <td>2011/2012_Jun</td>\n",
       "      <td>2011-06-01</td>\n",
       "      <td>2011-06-30</td>\n",
       "      <td>Monthly</td>\n",
       "    </tr>\n",
       "  </tbody>\n",
       "</table>\n",
       "</div>"
      ],
      "text/plain": [
       "    KpiId                                          KpiName          Value  \\\n",
       "0  DOMV9a  Domestic Violence Incidents Level - Medium Risk   15.00 Number   \n",
       "1  DOMV9a  Domestic Violence Incidents Level - Medium Risk   36.00 Number   \n",
       "2  DOMV9a  Domestic Violence Incidents Level - Medium Risk  278.00 Number   \n",
       "3  DOMV9a  Domestic Violence Incidents Level - Medium Risk    9.00 Number   \n",
       "4  DOMV9a  Domestic Violence Incidents Level - Medium Risk   12.00 Number   \n",
       "\n",
       "  DataType         Period   StartDate     EndDate CollectionFrequency  \n",
       "0   Number  2011/2012_Apr  2011-04-01  2011-04-30             Monthly  \n",
       "1   Number   2011/2012_Q1  2011-04-01  2011-06-30             Monthly  \n",
       "2   Number      2011/2012  2011-04-01  2012-03-31             Monthly  \n",
       "3   Number  2011/2012_May  2011-05-01  2011-05-31             Monthly  \n",
       "4   Number  2011/2012_Jun  2011-06-01  2011-06-30             Monthly  "
      ]
     },
     "execution_count": 7,
     "metadata": {},
     "output_type": "execute_result"
    }
   ],
   "source": [
    "# Second data set\n",
    "NY = pd.read_csv('./Data/kpi-domv9a.csv')\n",
    "NY.head()"
   ]
  },
  {
   "cell_type": "code",
   "execution_count": 8,
   "id": "prescribed-spelling",
   "metadata": {},
   "outputs": [
    {
     "name": "stdout",
     "output_type": "stream",
     "text": [
      "['DOMV9a']\n",
      "['Domestic Violence Incidents Level - Medium Risk']\n",
      "['Monthly']\n",
      "['Number']\n"
     ]
    }
   ],
   "source": [
    "print(NY.KpiId.unique())\n",
    "print(NY.KpiName.unique())\n",
    "print(NY.CollectionFrequency.unique())\n",
    "print(NY.DataType.unique())"
   ]
  },
  {
   "cell_type": "markdown",
   "id": "declared-lyric",
   "metadata": {},
   "source": [
    "# Data cleaning for dataset 2 (New York)\n",
    "The \"KpiId\", \"KpiName\", \"CollectionFrequency\", and \"DataType\" columns only store one value each. There are redundant: delete!.\n",
    "\n",
    "\"Value\" contains the word \"Number\" which needs to be deleted"
   ]
  },
  {
   "cell_type": "code",
   "execution_count": 9,
   "id": "systematic-screening",
   "metadata": {},
   "outputs": [
    {
     "data": {
      "text/html": [
       "<div>\n",
       "<style scoped>\n",
       "    .dataframe tbody tr th:only-of-type {\n",
       "        vertical-align: middle;\n",
       "    }\n",
       "\n",
       "    .dataframe tbody tr th {\n",
       "        vertical-align: top;\n",
       "    }\n",
       "\n",
       "    .dataframe thead th {\n",
       "        text-align: right;\n",
       "    }\n",
       "</style>\n",
       "<table border=\"1\" class=\"dataframe\">\n",
       "  <thead>\n",
       "    <tr style=\"text-align: right;\">\n",
       "      <th></th>\n",
       "      <th>Value</th>\n",
       "      <th>Period</th>\n",
       "      <th>StartDate</th>\n",
       "      <th>EndDate</th>\n",
       "    </tr>\n",
       "  </thead>\n",
       "  <tbody>\n",
       "    <tr>\n",
       "      <th>0</th>\n",
       "      <td>15.00 Number</td>\n",
       "      <td>2011/2012_Apr</td>\n",
       "      <td>2011-04-01</td>\n",
       "      <td>2011-04-30</td>\n",
       "    </tr>\n",
       "    <tr>\n",
       "      <th>1</th>\n",
       "      <td>36.00 Number</td>\n",
       "      <td>2011/2012_Q1</td>\n",
       "      <td>2011-04-01</td>\n",
       "      <td>2011-06-30</td>\n",
       "    </tr>\n",
       "    <tr>\n",
       "      <th>2</th>\n",
       "      <td>278.00 Number</td>\n",
       "      <td>2011/2012</td>\n",
       "      <td>2011-04-01</td>\n",
       "      <td>2012-03-31</td>\n",
       "    </tr>\n",
       "    <tr>\n",
       "      <th>3</th>\n",
       "      <td>9.00 Number</td>\n",
       "      <td>2011/2012_May</td>\n",
       "      <td>2011-05-01</td>\n",
       "      <td>2011-05-31</td>\n",
       "    </tr>\n",
       "    <tr>\n",
       "      <th>4</th>\n",
       "      <td>12.00 Number</td>\n",
       "      <td>2011/2012_Jun</td>\n",
       "      <td>2011-06-01</td>\n",
       "      <td>2011-06-30</td>\n",
       "    </tr>\n",
       "  </tbody>\n",
       "</table>\n",
       "</div>"
      ],
      "text/plain": [
       "           Value         Period   StartDate     EndDate\n",
       "0   15.00 Number  2011/2012_Apr  2011-04-01  2011-04-30\n",
       "1   36.00 Number   2011/2012_Q1  2011-04-01  2011-06-30\n",
       "2  278.00 Number      2011/2012  2011-04-01  2012-03-31\n",
       "3    9.00 Number  2011/2012_May  2011-05-01  2011-05-31\n",
       "4   12.00 Number  2011/2012_Jun  2011-06-01  2011-06-30"
      ]
     },
     "execution_count": 9,
     "metadata": {},
     "output_type": "execute_result"
    }
   ],
   "source": [
    "# Delete redundant columns\n",
    "NY.drop(columns=['KpiName', 'KpiId', 'CollectionFrequency', 'DataType'],inplace=True)\n",
    "NY.head()"
   ]
  },
  {
   "cell_type": "code",
   "execution_count": 10,
   "id": "different-coffee",
   "metadata": {},
   "outputs": [
    {
     "data": {
      "text/plain": [
       "array(['15.00', '36.00', '278.00', '9.00', '12.00', '50.00', '16.00',\n",
       "       '13.00', '21.00', '18.00', '58.00', '27.00', '134.00', '52.00',\n",
       "       '46.00', '79.00', '31.00', '463.00', '26.00', '22.00', '91.00',\n",
       "       '33.00', '37.00', '153.00', '57.00', '140.00', '47.00', '43.00',\n",
       "       '148.00', '621.00', '60.00', '145.00', '63.00', '38.00', '44.00',\n",
       "       '53.00', '188.00', '69.00', '66.00', '715.00', '51.00', '149.00',\n",
       "       '200.00', '59.00', '82.00', '56.00', '180.00', '74.00', '62.00',\n",
       "       '186.00', '54.00', '70.00', '195.00', 'NC', '75.00', nan],\n",
       "      dtype=object)"
      ]
     },
     "execution_count": 10,
     "metadata": {},
     "output_type": "execute_result"
    }
   ],
   "source": [
    "NY['Value'] = NY['Value'].str.split(' ', expand=True)[0]#.astype(float)\n",
    "NY['Value'].unique()"
   ]
  },
  {
   "cell_type": "markdown",
   "id": "understanding-coverage",
   "metadata": {},
   "source": [
    "# Missing values\n",
    "Value contains missing values stored as NC or nan.\n",
    "First, let's replace NC by nan and convert to float. Then let's think about dropping or imputing values"
   ]
  },
  {
   "cell_type": "code",
   "execution_count": 11,
   "id": "acting-identification",
   "metadata": {},
   "outputs": [],
   "source": [
    "NY['Value'][NY['Value']=='NC'] = np.nan\n"
   ]
  },
  {
   "cell_type": "code",
   "execution_count": 12,
   "id": "satisfied-square",
   "metadata": {},
   "outputs": [
    {
     "data": {
      "text/html": [
       "<div>\n",
       "<style scoped>\n",
       "    .dataframe tbody tr th:only-of-type {\n",
       "        vertical-align: middle;\n",
       "    }\n",
       "\n",
       "    .dataframe tbody tr th {\n",
       "        vertical-align: top;\n",
       "    }\n",
       "\n",
       "    .dataframe thead th {\n",
       "        text-align: right;\n",
       "    }\n",
       "</style>\n",
       "<table border=\"1\" class=\"dataframe\">\n",
       "  <thead>\n",
       "    <tr style=\"text-align: right;\">\n",
       "      <th></th>\n",
       "      <th>Value</th>\n",
       "      <th>Period</th>\n",
       "      <th>StartDate</th>\n",
       "      <th>EndDate</th>\n",
       "    </tr>\n",
       "  </thead>\n",
       "  <tbody>\n",
       "    <tr>\n",
       "      <th>0</th>\n",
       "      <td>15.0</td>\n",
       "      <td>2011/2012_Apr</td>\n",
       "      <td>2011-04-01</td>\n",
       "      <td>2011-04-30</td>\n",
       "    </tr>\n",
       "    <tr>\n",
       "      <th>1</th>\n",
       "      <td>36.0</td>\n",
       "      <td>2011/2012_Q1</td>\n",
       "      <td>2011-04-01</td>\n",
       "      <td>2011-06-30</td>\n",
       "    </tr>\n",
       "    <tr>\n",
       "      <th>2</th>\n",
       "      <td>278.0</td>\n",
       "      <td>2011/2012</td>\n",
       "      <td>2011-04-01</td>\n",
       "      <td>2012-03-31</td>\n",
       "    </tr>\n",
       "    <tr>\n",
       "      <th>3</th>\n",
       "      <td>9.0</td>\n",
       "      <td>2011/2012_May</td>\n",
       "      <td>2011-05-01</td>\n",
       "      <td>2011-05-31</td>\n",
       "    </tr>\n",
       "    <tr>\n",
       "      <th>4</th>\n",
       "      <td>12.0</td>\n",
       "      <td>2011/2012_Jun</td>\n",
       "      <td>2011-06-01</td>\n",
       "      <td>2011-06-30</td>\n",
       "    </tr>\n",
       "  </tbody>\n",
       "</table>\n",
       "</div>"
      ],
      "text/plain": [
       "   Value         Period   StartDate     EndDate\n",
       "0   15.0  2011/2012_Apr  2011-04-01  2011-04-30\n",
       "1   36.0   2011/2012_Q1  2011-04-01  2011-06-30\n",
       "2  278.0      2011/2012  2011-04-01  2012-03-31\n",
       "3    9.0  2011/2012_May  2011-05-01  2011-05-31\n",
       "4   12.0  2011/2012_Jun  2011-06-01  2011-06-30"
      ]
     },
     "execution_count": 12,
     "metadata": {},
     "output_type": "execute_result"
    }
   ],
   "source": [
    "NY.head()"
   ]
  },
  {
   "cell_type": "markdown",
   "id": "aboriginal-railway",
   "metadata": {},
   "source": [
    "# Data types\n",
    "Let's convert values to float and dates to date_time objects"
   ]
  },
  {
   "cell_type": "code",
   "execution_count": 13,
   "id": "guilty-tragedy",
   "metadata": {},
   "outputs": [],
   "source": [
    "NY['Value'] = NY['Value'].astype(float)"
   ]
  },
  {
   "cell_type": "code",
   "execution_count": 14,
   "id": "wooden-chuck",
   "metadata": {},
   "outputs": [],
   "source": [
    "NY['StartDate'] = pd.to_datetime(NY['StartDate'])\n",
    "NY['EndDate'] = pd.to_datetime(NY['EndDate'])"
   ]
  },
  {
   "cell_type": "markdown",
   "id": "departmental-sender",
   "metadata": {},
   "source": [
    "# NY dataset summary"
   ]
  },
  {
   "cell_type": "code",
   "execution_count": 15,
   "id": "crucial-savannah",
   "metadata": {},
   "outputs": [
    {
     "data": {
      "text/html": [
       "<div>\n",
       "<style scoped>\n",
       "    .dataframe tbody tr th:only-of-type {\n",
       "        vertical-align: middle;\n",
       "    }\n",
       "\n",
       "    .dataframe tbody tr th {\n",
       "        vertical-align: top;\n",
       "    }\n",
       "\n",
       "    .dataframe thead th {\n",
       "        text-align: right;\n",
       "    }\n",
       "</style>\n",
       "<table border=\"1\" class=\"dataframe\">\n",
       "  <thead>\n",
       "    <tr style=\"text-align: right;\">\n",
       "      <th></th>\n",
       "      <th>Value</th>\n",
       "      <th>Period</th>\n",
       "      <th>StartDate</th>\n",
       "      <th>EndDate</th>\n",
       "    </tr>\n",
       "  </thead>\n",
       "  <tbody>\n",
       "    <tr>\n",
       "      <th>0</th>\n",
       "      <td>15.0</td>\n",
       "      <td>2011/2012_Apr</td>\n",
       "      <td>2011-04-01</td>\n",
       "      <td>2011-04-30</td>\n",
       "    </tr>\n",
       "    <tr>\n",
       "      <th>1</th>\n",
       "      <td>36.0</td>\n",
       "      <td>2011/2012_Q1</td>\n",
       "      <td>2011-04-01</td>\n",
       "      <td>2011-06-30</td>\n",
       "    </tr>\n",
       "    <tr>\n",
       "      <th>2</th>\n",
       "      <td>278.0</td>\n",
       "      <td>2011/2012</td>\n",
       "      <td>2011-04-01</td>\n",
       "      <td>2012-03-31</td>\n",
       "    </tr>\n",
       "    <tr>\n",
       "      <th>3</th>\n",
       "      <td>9.0</td>\n",
       "      <td>2011/2012_May</td>\n",
       "      <td>2011-05-01</td>\n",
       "      <td>2011-05-31</td>\n",
       "    </tr>\n",
       "    <tr>\n",
       "      <th>4</th>\n",
       "      <td>12.0</td>\n",
       "      <td>2011/2012_Jun</td>\n",
       "      <td>2011-06-01</td>\n",
       "      <td>2011-06-30</td>\n",
       "    </tr>\n",
       "  </tbody>\n",
       "</table>\n",
       "</div>"
      ],
      "text/plain": [
       "   Value         Period  StartDate    EndDate\n",
       "0   15.0  2011/2012_Apr 2011-04-01 2011-04-30\n",
       "1   36.0   2011/2012_Q1 2011-04-01 2011-06-30\n",
       "2  278.0      2011/2012 2011-04-01 2012-03-31\n",
       "3    9.0  2011/2012_May 2011-05-01 2011-05-31\n",
       "4   12.0  2011/2012_Jun 2011-06-01 2011-06-30"
      ]
     },
     "execution_count": 15,
     "metadata": {},
     "output_type": "execute_result"
    }
   ],
   "source": [
    "NY.head()"
   ]
  },
  {
   "cell_type": "code",
   "execution_count": 16,
   "id": "hazardous-jungle",
   "metadata": {},
   "outputs": [
    {
     "name": "stdout",
     "output_type": "stream",
     "text": [
      "<class 'pandas.core.frame.DataFrame'>\n",
      "RangeIndex: 107 entries, 0 to 106\n",
      "Data columns (total 4 columns):\n",
      " #   Column     Non-Null Count  Dtype         \n",
      "---  ------     --------------  -----         \n",
      " 0   Value      73 non-null     float64       \n",
      " 1   Period     107 non-null    object        \n",
      " 2   StartDate  107 non-null    datetime64[ns]\n",
      " 3   EndDate    107 non-null    datetime64[ns]\n",
      "dtypes: datetime64[ns](2), float64(1), object(1)\n",
      "memory usage: 3.5+ KB\n"
     ]
    }
   ],
   "source": [
    "NY.info()"
   ]
  },
  {
   "cell_type": "code",
   "execution_count": 18,
   "id": "painted-panel",
   "metadata": {},
   "outputs": [
    {
     "data": {
      "text/plain": [
       "array(['2011/2012_Apr', '2011/2012_Q1', '2011/2012', '2011/2012_May',\n",
       "       '2011/2012_Jun', '2011/2012_Q2', '2011/2012_Jul', '2011/2012_Aug',\n",
       "       '2011/2012_Sep', '2011/2012_Oct', '2011/2012_Q3', '2011/2012_Nov',\n",
       "       '2011/2012_Dec', '2011/2012_Q4', '2011/2012_Jan', '2011/2012_Feb',\n",
       "       '2011/2012_Mar', '2012/2013_Q1', '2012/2013_Apr', '2012/2013',\n",
       "       '2012/2013_May', '2012/2013_Jun', '2012/2013_Q2', '2012/2013_Jul',\n",
       "       '2012/2013_Aug', '2012/2013_Sep', '2012/2013_Q3', '2012/2013_Oct',\n",
       "       '2012/2013_Nov', '2012/2013_Dec', '2012/2013_Jan', '2012/2013_Q4',\n",
       "       '2012/2013_Feb', '2012/2013_Mar', '2013/2014_Q1', '2013/2014',\n",
       "       '2013/2014_Apr', '2013/2014_May', '2013/2014_Jun', '2013/2014_Q2',\n",
       "       '2013/2014_Jul', '2013/2014_Aug', '2013/2014_Sep', '2013/2014_Oct',\n",
       "       '2013/2014_Q3', '2013/2014_Nov', '2013/2014_Dec', '2013/2014_Jan',\n",
       "       '2013/2014_Q4', '2013/2014_Feb', '2013/2014_Mar', '2014/2015',\n",
       "       '2014/2015_Apr', '2014/2015_Q1', '2014/2015_May', '2014/2015_Jun',\n",
       "       '2014/2015_Q2', '2014/2015_Jul', '2014/2015_Aug', '2014/2015_Sep',\n",
       "       '2014/2015_Oct', '2014/2015_Q3', '2014/2015_Nov', '2014/2015_Dec',\n",
       "       '2014/2015_Jan', '2014/2015_Q4', '2014/2015_Feb', '2014/2015_Mar',\n",
       "       '2015/2016_Q1', '2015/2016', '2015/2016_Apr', '2015/2016_May',\n",
       "       '2015/2016_Jun', '2015/2016_Q2', '2015/2016_Jul', '2015/2016_Aug',\n",
       "       '2015/2016_Sep', '2015/2016_Q3', '2015/2016_Oct', '2015/2016_Nov',\n",
       "       '2015/2016_Dec', '2015/2016_Jan', '2015/2016_Q4', '2015/2016_Feb',\n",
       "       '2015/2016_Mar', '2016/2017', '2016/2017_Q1', '2016/2017_Q2',\n",
       "       '2016/2017_Q3', '2016/2017_Q4', '2018/2019_Apr', '2018/2019',\n",
       "       '2018/2019_Q1', '2018/2019_May', '2018/2019_Jun', '2018/2019_Jul',\n",
       "       '2018/2019_Q2', '2018/2019_Aug', '2018/2019_Sep', '2018/2019_Oct',\n",
       "       '2018/2019_Q3', '2018/2019_Nov', '2018/2019_Dec', '2018/2019_Jan',\n",
       "       '2018/2019_Q4', '2018/2019_Feb', '2018/2019_Mar'], dtype=object)"
      ]
     },
     "execution_count": 18,
     "metadata": {},
     "output_type": "execute_result"
    }
   ],
   "source": [
    "NY['Period'].unique()"
   ]
  },
  {
   "cell_type": "code",
   "execution_count": 40,
   "id": "technological-swimming",
   "metadata": {},
   "outputs": [
    {
     "data": {
      "text/html": [
       "<div>\n",
       "<style scoped>\n",
       "    .dataframe tbody tr th:only-of-type {\n",
       "        vertical-align: middle;\n",
       "    }\n",
       "\n",
       "    .dataframe tbody tr th {\n",
       "        vertical-align: top;\n",
       "    }\n",
       "\n",
       "    .dataframe thead th {\n",
       "        text-align: right;\n",
       "    }\n",
       "</style>\n",
       "<table border=\"1\" class=\"dataframe\">\n",
       "  <thead>\n",
       "    <tr style=\"text-align: right;\">\n",
       "      <th></th>\n",
       "      <th>Value</th>\n",
       "      <th>Period</th>\n",
       "      <th>StartDate</th>\n",
       "      <th>EndDate</th>\n",
       "    </tr>\n",
       "  </thead>\n",
       "  <tbody>\n",
       "    <tr>\n",
       "      <th>0</th>\n",
       "      <td>15.0</td>\n",
       "      <td>2011/2012_Apr</td>\n",
       "      <td>2011-04-01</td>\n",
       "      <td>2011-04-30</td>\n",
       "    </tr>\n",
       "    <tr>\n",
       "      <th>3</th>\n",
       "      <td>9.0</td>\n",
       "      <td>2011/2012_May</td>\n",
       "      <td>2011-05-01</td>\n",
       "      <td>2011-05-31</td>\n",
       "    </tr>\n",
       "    <tr>\n",
       "      <th>4</th>\n",
       "      <td>12.0</td>\n",
       "      <td>2011/2012_Jun</td>\n",
       "      <td>2011-06-01</td>\n",
       "      <td>2011-06-30</td>\n",
       "    </tr>\n",
       "    <tr>\n",
       "      <th>6</th>\n",
       "      <td>16.0</td>\n",
       "      <td>2011/2012_Jul</td>\n",
       "      <td>2011-07-01</td>\n",
       "      <td>2011-07-31</td>\n",
       "    </tr>\n",
       "    <tr>\n",
       "      <th>7</th>\n",
       "      <td>13.0</td>\n",
       "      <td>2011/2012_Aug</td>\n",
       "      <td>2011-08-01</td>\n",
       "      <td>2011-08-31</td>\n",
       "    </tr>\n",
       "  </tbody>\n",
       "</table>\n",
       "</div>"
      ],
      "text/plain": [
       "   Value         Period  StartDate    EndDate\n",
       "0   15.0  2011/2012_Apr 2011-04-01 2011-04-30\n",
       "3    9.0  2011/2012_May 2011-05-01 2011-05-31\n",
       "4   12.0  2011/2012_Jun 2011-06-01 2011-06-30\n",
       "6   16.0  2011/2012_Jul 2011-07-01 2011-07-31\n",
       "7   13.0  2011/2012_Aug 2011-08-01 2011-08-31"
      ]
     },
     "execution_count": 40,
     "metadata": {},
     "output_type": "execute_result"
    }
   ],
   "source": [
    "# Keep only monthly data, i.e. discard Quarterly and annual data\n",
    "month_list = ['Jan', 'Feb', 'Mar', 'Apr', 'May', 'Jun', 'Jul', 'Aug', 'Sep', 'Oct', 'Nov', 'Dec']\n",
    "NY = NY[np.array([NY['Period'].str.contains(monthString) for monthString in month_list]).T.sum(axis=1)==1]\n",
    "NY.head()"
   ]
  },
  {
   "cell_type": "code",
   "execution_count": 41,
   "id": "massive-criterion",
   "metadata": {},
   "outputs": [
    {
     "data": {
      "text/plain": [
       "<AxesSubplot:xlabel='StartDate', ylabel='Value'>"
      ]
     },
     "execution_count": 41,
     "metadata": {},
     "output_type": "execute_result"
    },
    {
     "data": {
      "image/png": "[encoded data removed]",
      "text/plain": [
       "<Figure size 1440x720 with 1 Axes>"
      ]
     },
     "metadata": {},
     "output_type": "display_data"
    }
   ],
   "source": [
    "sns.lineplot(data=NY, y='Value', x='StartDate')"
   ]
  },
  {
   "cell_type": "markdown",
   "id": "guilty-extreme",
   "metadata": {},
   "source": [
    "Yikes! Numbers keep increasing in New York. Maybe the population also increased? Maybe we should normalize this data"
   ]
  },
  {
   "cell_type": "markdown",
   "id": "dimensional-church",
   "metadata": {},
   "source": [
    "# Third dataset"
   ]
  },
  {
   "cell_type": "code",
   "execution_count": 44,
   "id": "black-aspect",
   "metadata": {},
   "outputs": [
    {
     "data": {
      "text/html": [
       "<div>\n",
       "<style scoped>\n",
       "    .dataframe tbody tr th:only-of-type {\n",
       "        vertical-align: middle;\n",
       "    }\n",
       "\n",
       "    .dataframe tbody tr th {\n",
       "        vertical-align: top;\n",
       "    }\n",
       "\n",
       "    .dataframe thead th {\n",
       "        text-align: right;\n",
       "    }\n",
       "</style>\n",
       "<table border=\"1\" class=\"dataframe\">\n",
       "  <thead>\n",
       "    <tr style=\"text-align: right;\">\n",
       "      <th></th>\n",
       "      <th>ID</th>\n",
       "      <th>MOB/WEB</th>\n",
       "      <th>APPROVED</th>\n",
       "      <th>INCIDENT TITLE</th>\n",
       "      <th>INCIDENT DATE</th>\n",
       "      <th>CREATION DATE</th>\n",
       "      <th>LOCATION</th>\n",
       "      <th>CATEGORY</th>\n",
       "      <th>DESCRIPTION</th>\n",
       "      <th>LATITUDE</th>\n",
       "      <th>LONGITUDE</th>\n",
       "      <th>More Info</th>\n",
       "      <th>CITY</th>\n",
       "    </tr>\n",
       "  </thead>\n",
       "  <tbody>\n",
       "    <tr>\n",
       "      <th>0</th>\n",
       "      <td>13625</td>\n",
       "      <td>Web</td>\n",
       "      <td>YES</td>\n",
       "      <td>cyber bully</td>\n",
       "      <td>21 Jun 2020, 11 45 AM</td>\n",
       "      <td>08 Jul 2020, 11 47 AM</td>\n",
       "      <td>delhi green park 16 delhi green park 16, Pocke...</td>\n",
       "      <td>Online Harassment,</td>\n",
       "      <td>There is a facebook group of people who bully ...</td>\n",
       "      <td>28.704059</td>\n",
       "      <td>77.102490</td>\n",
       "      <td>NaN</td>\n",
       "      <td>DELHI</td>\n",
       "    </tr>\n",
       "    <tr>\n",
       "      <th>1</th>\n",
       "      <td>13624</td>\n",
       "      <td>Web</td>\n",
       "      <td>YES</td>\n",
       "      <td>child sexual abuse</td>\n",
       "      <td>28 May 2007, 04 00 PM</td>\n",
       "      <td>08 Jul 2020, 11 40 AM</td>\n",
       "      <td>Madangir, New Delhi, Delhi 110017, India</td>\n",
       "      <td>Rape / Sexual Assault,</td>\n",
       "      <td>I am girl. I was child at that time. my uncle ...</td>\n",
       "      <td>28.519922</td>\n",
       "      <td>77.230456</td>\n",
       "      <td>NaN</td>\n",
       "      <td>DELHI</td>\n",
       "    </tr>\n",
       "    <tr>\n",
       "      <th>2</th>\n",
       "      <td>13623</td>\n",
       "      <td>Web</td>\n",
       "      <td>YES</td>\n",
       "      <td>Biker followed</td>\n",
       "      <td>03 Jun 2017, 03 00 AM</td>\n",
       "      <td>03 Jul 2020, 12 48 PM</td>\n",
       "      <td>SBI OFFICERS COLONY, Lawsons Rd, Raja Colony, ...</td>\n",
       "      <td>Others,</td>\n",
       "      <td>It was 3 am in the morning,when I got off the ...</td>\n",
       "      <td>10.806153</td>\n",
       "      <td>78.678887</td>\n",
       "      <td>NaN</td>\n",
       "      <td>NaN</td>\n",
       "    </tr>\n",
       "    <tr>\n",
       "      <th>3</th>\n",
       "      <td>13622</td>\n",
       "      <td>Web</td>\n",
       "      <td>YES</td>\n",
       "      <td>Sexual harassment</td>\n",
       "      <td>17 Jan 2017, 05 09 PM</td>\n",
       "      <td>02 Jul 2020, 05 10 PM</td>\n",
       "      <td>Bihar - Mokama Rd, Laranpur, Bihar 801303, India</td>\n",
       "      <td>Rape / Sexual Assault,</td>\n",
       "      <td>sexual harassment by father - I have faced sex...</td>\n",
       "      <td>25.096074</td>\n",
       "      <td>85.313119</td>\n",
       "      <td>NaN</td>\n",
       "      <td>NaN</td>\n",
       "    </tr>\n",
       "    <tr>\n",
       "      <th>4</th>\n",
       "      <td>13621</td>\n",
       "      <td>Web</td>\n",
       "      <td>YES</td>\n",
       "      <td>Domestic Violence</td>\n",
       "      <td>12 May 2020, 08 00 PM</td>\n",
       "      <td>02 Jul 2020, 05 06 PM</td>\n",
       "      <td>Bihar - Mokama Rd, Laranpur, Bihar 801303, India</td>\n",
       "      <td>Domestic Violence,</td>\n",
       "      <td>My father and brother repeatedly stopped me fr...</td>\n",
       "      <td>25.096074</td>\n",
       "      <td>85.313119</td>\n",
       "      <td>NaN</td>\n",
       "      <td>NaN</td>\n",
       "    </tr>\n",
       "  </tbody>\n",
       "</table>\n",
       "</div>"
      ],
      "text/plain": [
       "      ID MOB/WEB APPROVED      INCIDENT TITLE          INCIDENT DATE  \\\n",
       "0  13625     Web      YES         cyber bully  21 Jun 2020, 11 45 AM   \n",
       "1  13624     Web      YES  child sexual abuse  28 May 2007, 04 00 PM   \n",
       "2  13623     Web      YES      Biker followed  03 Jun 2017, 03 00 AM   \n",
       "3  13622     Web      YES   Sexual harassment  17 Jan 2017, 05 09 PM   \n",
       "4  13621     Web      YES   Domestic Violence  12 May 2020, 08 00 PM   \n",
       "\n",
       "           CREATION DATE                                           LOCATION  \\\n",
       "0  08 Jul 2020, 11 47 AM  delhi green park 16 delhi green park 16, Pocke...   \n",
       "1  08 Jul 2020, 11 40 AM           Madangir, New Delhi, Delhi 110017, India   \n",
       "2  03 Jul 2020, 12 48 PM  SBI OFFICERS COLONY, Lawsons Rd, Raja Colony, ...   \n",
       "3  02 Jul 2020, 05 10 PM   Bihar - Mokama Rd, Laranpur, Bihar 801303, India   \n",
       "4  02 Jul 2020, 05 06 PM   Bihar - Mokama Rd, Laranpur, Bihar 801303, India   \n",
       "\n",
       "                  CATEGORY                                        DESCRIPTION  \\\n",
       "0      Online Harassment,   There is a facebook group of people who bully ...   \n",
       "1  Rape / Sexual Assault,   I am girl. I was child at that time. my uncle ...   \n",
       "2                 Others,   It was 3 am in the morning,when I got off the ...   \n",
       "3  Rape / Sexual Assault,   sexual harassment by father - I have faced sex...   \n",
       "4      Domestic Violence,   My father and brother repeatedly stopped me fr...   \n",
       "\n",
       "    LATITUDE  LONGITUDE More Info   CITY  \n",
       "0  28.704059  77.102490       NaN  DELHI  \n",
       "1  28.519922  77.230456       NaN  DELHI  \n",
       "2  10.806153  78.678887       NaN    NaN  \n",
       "3  25.096074  85.313119       NaN    NaN  \n",
       "4  25.096074  85.313119       NaN    NaN  "
      ]
     },
     "execution_count": 44,
     "metadata": {},
     "output_type": "execute_result"
    }
   ],
   "source": [
    "SC = pd.read_csv('./Data/SafeCity WEB+MOB_Combined - FILE2 - WEB+MOB_Combined.csv')\n",
    "SC.head()"
   ]
  },
  {
   "cell_type": "code",
   "execution_count": null,
   "id": "eligible-whole",
   "metadata": {},
   "outputs": [],
   "source": []
  }
 ],
 "metadata": {
  "kernelspec": {
   "display_name": "Python 3",
   "language": "python",
   "name": "python3"
  },
  "language_info": {
   "codemirror_mode": {
    "name": "ipython",
    "version": 3
   },
   "file_extension": ".py",
   "mimetype": "text/x-python",
   "name": "python",
   "nbconvert_exporter": "python",
   "pygments_lexer": "ipython3",
   "version": "3.8.0"
  }
 },
 "nbformat": 4,
 "nbformat_minor": 5
}
