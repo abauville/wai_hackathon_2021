{
 "cells": [
  {
   "cell_type": "code",
   "execution_count": 42,
   "id": "numeric-count",
   "metadata": {},
   "outputs": [],
   "source": [
    "# Import libraries\n",
    "import matplotlib.pyplot as plt\n",
    "import matplotlib as mpl\n",
    "import pandas as pd\n",
    "import numpy as np\n",
    "import seaborn as sns\n",
    "import plotly.express as px\n",
    "import plotly.graph_objects as go\n",
    "\n",
    "# Customize figure output\n",
    "plt.style.use('seaborn')\n",
    "mpl.rc('font', size=18)\n",
    "mpl.rc('axes', labelsize='large')\n",
    "mpl.rc('xtick', labelsize='large')\n",
    "mpl.rc('ytick', labelsize='large')\n",
    "\n",
    "plt.rcParams['figure.figsize'] = [20, 10] # For larger plots"
   ]
  },
  {
   "cell_type": "code",
   "execution_count": 102,
   "id": "sharp-respect",
   "metadata": {},
   "outputs": [],
   "source": [
    "df = pd.read_csv('./Data/acceptability_vs_experienced_coord.csv')\n",
    "df = df.merge(pd.read_csv('./Data/iso_alpha_list.csv'),\n",
    "              left_on='country', right_on='country',how='left')"
   ]
  },
  {
   "cell_type": "code",
   "execution_count": 103,
   "id": "sapphire-lawsuit",
   "metadata": {},
   "outputs": [
    {
     "data": {
      "text/html": [
       "<div>\n",
       "<style scoped>\n",
       "    .dataframe tbody tr th:only-of-type {\n",
       "        vertical-align: middle;\n",
       "    }\n",
       "\n",
       "    .dataframe tbody tr th {\n",
       "        vertical-align: top;\n",
       "    }\n",
       "\n",
       "    .dataframe thead th {\n",
       "        text-align: right;\n",
       "    }\n",
       "</style>\n",
       "<table border=\"1\" class=\"dataframe\">\n",
       "  <thead>\n",
       "    <tr style=\"text-align: right;\">\n",
       "      <th></th>\n",
       "      <th>country</th>\n",
       "      <th>experienced</th>\n",
       "      <th>acceptability</th>\n",
       "      <th>lat</th>\n",
       "      <th>lon</th>\n",
       "      <th>iso_code</th>\n",
       "    </tr>\n",
       "  </thead>\n",
       "  <tbody>\n",
       "    <tr>\n",
       "      <th>0</th>\n",
       "      <td>Afghanistan</td>\n",
       "      <td>50.8</td>\n",
       "      <td>73.203571</td>\n",
       "      <td>33.939100</td>\n",
       "      <td>67.710000</td>\n",
       "      <td>AFG</td>\n",
       "    </tr>\n",
       "    <tr>\n",
       "      <th>1</th>\n",
       "      <td>Angola</td>\n",
       "      <td>33.9</td>\n",
       "      <td>22.640000</td>\n",
       "      <td>-8.838333</td>\n",
       "      <td>13.234444</td>\n",
       "      <td>AGO</td>\n",
       "    </tr>\n",
       "    <tr>\n",
       "      <th>2</th>\n",
       "      <td>Armenia</td>\n",
       "      <td>8.1</td>\n",
       "      <td>18.546429</td>\n",
       "      <td>40.069100</td>\n",
       "      <td>45.038200</td>\n",
       "      <td>ARM</td>\n",
       "    </tr>\n",
       "    <tr>\n",
       "      <th>3</th>\n",
       "      <td>Azerbaijan</td>\n",
       "      <td>13.5</td>\n",
       "      <td>53.660714</td>\n",
       "      <td>40.143100</td>\n",
       "      <td>47.576900</td>\n",
       "      <td>AZE</td>\n",
       "    </tr>\n",
       "    <tr>\n",
       "      <th>4</th>\n",
       "      <td>Bangladesh</td>\n",
       "      <td>53.3</td>\n",
       "      <td>27.814286</td>\n",
       "      <td>23.685000</td>\n",
       "      <td>90.356300</td>\n",
       "      <td>BGD</td>\n",
       "    </tr>\n",
       "  </tbody>\n",
       "</table>\n",
       "</div>"
      ],
      "text/plain": [
       "       country  experienced  acceptability        lat        lon iso_code\n",
       "0  Afghanistan         50.8      73.203571  33.939100  67.710000      AFG\n",
       "1       Angola         33.9      22.640000  -8.838333  13.234444      AGO\n",
       "2      Armenia          8.1      18.546429  40.069100  45.038200      ARM\n",
       "3   Azerbaijan         13.5      53.660714  40.143100  47.576900      AZE\n",
       "4   Bangladesh         53.3      27.814286  23.685000  90.356300      BGD"
      ]
     },
     "execution_count": 103,
     "metadata": {},
     "output_type": "execute_result"
    }
   ],
   "source": [
    "df.head()"
   ]
  },
  {
   "cell_type": "code",
   "execution_count": 169,
   "id": "acute-punishment",
   "metadata": {},
   "outputs": [
    {
     "data": {
      "application/vnd.plotly.v1+json": {
       "config": {
        "plotlyServerURL": "https://plot.ly"
       },
       "data": [
        {
         "hoverinfosrc": "text",
         "locations": [
          "AFG",
          "AGO",
          "ARM",
          "AZE",
          "BGD",
          "BEN",
          "BFA",
          "BDI",
          "KHM",
          "CMR",
          "TCD",
          "COL",
          "COM",
          null,
          null,
          "DOM",
          "EGY",
          "ETH",
          "GAB",
          "GMB",
          "GHA",
          "GTM",
          "HTI",
          "HND",
          "IND",
          "JOR",
          "KEN",
          null,
          "LBR",
          "MWI",
          "MDV",
          "MLI",
          null,
          "MOZ",
          "MMR",
          "NAM",
          "NPL",
          "NGA",
          "PAK",
          "PER",
          "PHL",
          "RWA",
          "STP",
          "SEN",
          "SLE",
          "ZAF",
          "TJK",
          null,
          "TLS",
          "TGO",
          "UGA",
          "UKR",
          "ZMB",
          "ZWE"
         ],
         "text": [
          "country: Afghanistan<br>experience: 50.8 %<br>acceptability: 73.20357143 %<br>",
          "country: Angola<br>experience: 33.9 %<br>acceptability: 22.64 %<br>",
          "country: Armenia<br>experience: 8.1 %<br>acceptability: 18.54642857 %<br>",
          "country: Azerbaijan<br>experience: 13.5 %<br>acceptability: 53.66071429 %<br>",
          "country: Bangladesh<br>experience: 53.3 %<br>acceptability: 27.81428571 %<br>",
          "country: Benin<br>experience: 22.4 %<br>acceptability: 21.99 %<br>",
          "country: Burkina Faso<br>experience: 11.5 %<br>acceptability: 35.08 %<br>",
          "country: Burundi<br>experience: 46.7 %<br>acceptability: 45.80666667 %<br>",
          "country: Cambodia<br>experience: 18.2 %<br>acceptability: 35.96 %<br>",
          "country: Cameroon<br>experience: 36.1 %<br>acceptability: 41.14333333 %<br>",
          "country: Chad<br>experience: 28.6 %<br>acceptability: 61.18 %<br>",
          "country: Colombia<br>experience: 37.4 %<br>acceptability: 4.646666667 %<br>",
          "country: Comoros<br>experience: 6.4 %<br>acceptability: 27.75666667 %<br>",
          "country: Congo Democratic Republic<br>experience: 50.7 %<br>acceptability: 66.4 %<br>",
          "country: Cote d'Ivoire<br>experience: 25.9 %<br>acceptability: 43.12666667 %<br>",
          "country: Dominican Republic<br>experience: 20.4 %<br>acceptability: 3.403571429 %<br>",
          "country: Egypt<br>experience: 25.6 %<br>acceptability: 36.51428571 %<br>",
          "country: Ethiopia<br>experience: 26.3 %<br>acceptability: 42.16666667 %<br>",
          "country: Gabon<br>experience: 48.6 %<br>acceptability: 45.14666667 %<br>",
          "country: Gambia<br>experience: 20.1 %<br>acceptability: 44.69666667 %<br>",
          "country: Ghana<br>experience: 24.4 %<br>acceptability: 20.94333333 %<br>",
          "country: Guatemala<br>experience: 18.0 %<br>acceptability: 9.113333333 %<br>",
          "country: Haiti<br>experience: 23.5 %<br>acceptability: 13.42666667 %<br>",
          "country: Honduras<br>experience: 21.6 %<br>acceptability: 11.34666667 %<br>",
          "country: India<br>experience: 28.7 %<br>acceptability: 38.89 %<br>",
          "country: Jordan<br>experience: 18.9 %<br>acceptability: 23.7 %<br>",
          "country: Kenya<br>experience: 39.4 %<br>acceptability: 39.58 %<br>",
          "country: Kyrgyz Republic<br>experience: 25.4 %<br>acceptability: 41.28148148 %<br>",
          "country: Liberia<br>experience: 38.5 %<br>acceptability: 32.76666667 %<br>",
          "country: Malawi<br>experience: 33.8 %<br>acceptability: 13.53333333 %<br>",
          "country: Maldives<br>experience: 12.6 %<br>acceptability: 19.82333333 %<br>",
          "country: Mali<br>experience: 38.5 %<br>acceptability: 59.93 %<br>",
          "country: Moldova<br>experience: 3.4 %<br>acceptability: 22.77037037 %<br>",
          "country: Mozambique<br>experience: 18.8 %<br>acceptability: 14.65 %<br>",
          "country: Myanmar<br>experience: 16.3 %<br>acceptability: 49.97333333 %<br>",
          "country: Namibia<br>experience: 25.0 %<br>acceptability: 26.15666667 %<br>",
          "country: Nepal<br>experience: 24.3 %<br>acceptability: 26.54666667 %<br>",
          "country: Nigeria<br>experience: 21.4 %<br>acceptability: 29.89666667 %<br>",
          "country: Pakistan<br>experience: 23.7 %<br>acceptability: 38.65 %<br>",
          "country: Peru<br>experience: 37.2 %<br>acceptability: 4.04 %<br>",
          "country: Philippines<br>experience: 12.2 %<br>acceptability: 11.84666667 %<br>",
          "country: Rwanda<br>experience: 34.4 %<br>acceptability: 27.8 %<br>",
          "country: Sao Tome and Principe<br>experience: 27.9 %<br>acceptability: 20.99310345 %<br>",
          "country: Senegal<br>experience: 13.3 %<br>acceptability: 34.31333333 %<br>",
          "country: Sierra Leone<br>experience: 51.7 %<br>acceptability: 46.34666667 %<br>",
          "country: South Africa<br>experience: 15.8 %<br>acceptability: 7.520689655 %<br>",
          "country: Tajikistan<br>experience: 25.7 %<br>acceptability: 61.65333333 %<br>",
          "country: Tanzania<br>experience: 41.7 %<br>acceptability: 46.55 %<br>",
          "country: Timor-Leste<br>experience: 38.1 %<br>acceptability: 64.23666667 %<br>",
          "country: Togo<br>experience: 22.1 %<br>acceptability: 23.00666667 %<br>",
          "country: Uganda<br>experience: 46.6 %<br>acceptability: 43.41333333 %<br>",
          "country: Ukraine<br>experience: 13.2 %<br>acceptability: 7.861538462 %<br>",
          "country: Zambia<br>experience: 40.2 %<br>acceptability: 38.16 %<br>",
          "country: Zimbabwe<br>experience: 35.4 %<br>acceptability: 35.35666667 %<br>"
         ],
         "type": "choropleth",
         "visible": true,
         "z": [
          22.40357143,
          -11.259999999999998,
          10.44642857,
          40.16071429,
          -25.485714289999997,
          -0.41000000000000014,
          23.58,
          -0.8933333300000044,
          17.76,
          5.043333329999996,
          32.58,
          -32.753333333,
          21.356666670000003,
          15.700000000000003,
          17.22666667,
          -16.996428571,
          10.914285710000001,
          15.866666669999997,
          -3.4533333299999995,
          24.596666669999998,
          -3.456666669999997,
          -8.886666667,
          -10.07333333,
          -10.253333330000002,
          10.190000000000001,
          4.800000000000001,
          0.17999999999999972,
          15.881481479999998,
          -5.733333330000001,
          -20.26666667,
          7.223333330000001,
          21.43,
          19.37037037,
          -4.15,
          33.673333330000006,
          1.15666667,
          2.2466666699999998,
          8.49666667,
          14.95,
          -33.160000000000004,
          -0.3533333299999999,
          -6.599999999999998,
          -6.906896549999999,
          21.01333333,
          -5.353333330000005,
          -8.279310345,
          35.95333333000001,
          4.849999999999994,
          26.136666670000004,
          0.9066666699999999,
          -3.186666670000001,
          -5.338461537999999,
          -2.0400000000000063,
          -0.04333332999999584
         ]
        },
        {
         "hoverinfosrc": "text",
         "locations": [
          "AFG",
          "AGO",
          "ARM",
          "AZE",
          "BGD",
          "BEN",
          "BFA",
          "BDI",
          "KHM",
          "CMR",
          "TCD",
          "COL",
          "COM",
          null,
          null,
          "DOM",
          "EGY",
          "ETH",
          "GAB",
          "GMB",
          "GHA",
          "GTM",
          "HTI",
          "HND",
          "IND",
          "JOR",
          "KEN",
          null,
          "LBR",
          "MWI",
          "MDV",
          "MLI",
          null,
          "MOZ",
          "MMR",
          "NAM",
          "NPL",
          "NGA",
          "PAK",
          "PER",
          "PHL",
          "RWA",
          "STP",
          "SEN",
          "SLE",
          "ZAF",
          "TJK",
          null,
          "TLS",
          "TGO",
          "UGA",
          "UKR",
          "ZMB",
          "ZWE"
         ],
         "text": [
          "country: Afghanistan<br>experience: 50.8 %<br>acceptability: 73.20357143 %<br>",
          "country: Angola<br>experience: 33.9 %<br>acceptability: 22.64 %<br>",
          "country: Armenia<br>experience: 8.1 %<br>acceptability: 18.54642857 %<br>",
          "country: Azerbaijan<br>experience: 13.5 %<br>acceptability: 53.66071429 %<br>",
          "country: Bangladesh<br>experience: 53.3 %<br>acceptability: 27.81428571 %<br>",
          "country: Benin<br>experience: 22.4 %<br>acceptability: 21.99 %<br>",
          "country: Burkina Faso<br>experience: 11.5 %<br>acceptability: 35.08 %<br>",
          "country: Burundi<br>experience: 46.7 %<br>acceptability: 45.80666667 %<br>",
          "country: Cambodia<br>experience: 18.2 %<br>acceptability: 35.96 %<br>",
          "country: Cameroon<br>experience: 36.1 %<br>acceptability: 41.14333333 %<br>",
          "country: Chad<br>experience: 28.6 %<br>acceptability: 61.18 %<br>",
          "country: Colombia<br>experience: 37.4 %<br>acceptability: 4.646666667 %<br>",
          "country: Comoros<br>experience: 6.4 %<br>acceptability: 27.75666667 %<br>",
          "country: Congo Democratic Republic<br>experience: 50.7 %<br>acceptability: 66.4 %<br>",
          "country: Cote d'Ivoire<br>experience: 25.9 %<br>acceptability: 43.12666667 %<br>",
          "country: Dominican Republic<br>experience: 20.4 %<br>acceptability: 3.403571429 %<br>",
          "country: Egypt<br>experience: 25.6 %<br>acceptability: 36.51428571 %<br>",
          "country: Ethiopia<br>experience: 26.3 %<br>acceptability: 42.16666667 %<br>",
          "country: Gabon<br>experience: 48.6 %<br>acceptability: 45.14666667 %<br>",
          "country: Gambia<br>experience: 20.1 %<br>acceptability: 44.69666667 %<br>",
          "country: Ghana<br>experience: 24.4 %<br>acceptability: 20.94333333 %<br>",
          "country: Guatemala<br>experience: 18.0 %<br>acceptability: 9.113333333 %<br>",
          "country: Haiti<br>experience: 23.5 %<br>acceptability: 13.42666667 %<br>",
          "country: Honduras<br>experience: 21.6 %<br>acceptability: 11.34666667 %<br>",
          "country: India<br>experience: 28.7 %<br>acceptability: 38.89 %<br>",
          "country: Jordan<br>experience: 18.9 %<br>acceptability: 23.7 %<br>",
          "country: Kenya<br>experience: 39.4 %<br>acceptability: 39.58 %<br>",
          "country: Kyrgyz Republic<br>experience: 25.4 %<br>acceptability: 41.28148148 %<br>",
          "country: Liberia<br>experience: 38.5 %<br>acceptability: 32.76666667 %<br>",
          "country: Malawi<br>experience: 33.8 %<br>acceptability: 13.53333333 %<br>",
          "country: Maldives<br>experience: 12.6 %<br>acceptability: 19.82333333 %<br>",
          "country: Mali<br>experience: 38.5 %<br>acceptability: 59.93 %<br>",
          "country: Moldova<br>experience: 3.4 %<br>acceptability: 22.77037037 %<br>",
          "country: Mozambique<br>experience: 18.8 %<br>acceptability: 14.65 %<br>",
          "country: Myanmar<br>experience: 16.3 %<br>acceptability: 49.97333333 %<br>",
          "country: Namibia<br>experience: 25.0 %<br>acceptability: 26.15666667 %<br>",
          "country: Nepal<br>experience: 24.3 %<br>acceptability: 26.54666667 %<br>",
          "country: Nigeria<br>experience: 21.4 %<br>acceptability: 29.89666667 %<br>",
          "country: Pakistan<br>experience: 23.7 %<br>acceptability: 38.65 %<br>",
          "country: Peru<br>experience: 37.2 %<br>acceptability: 4.04 %<br>",
          "country: Philippines<br>experience: 12.2 %<br>acceptability: 11.84666667 %<br>",
          "country: Rwanda<br>experience: 34.4 %<br>acceptability: 27.8 %<br>",
          "country: Sao Tome and Principe<br>experience: 27.9 %<br>acceptability: 20.99310345 %<br>",
          "country: Senegal<br>experience: 13.3 %<br>acceptability: 34.31333333 %<br>",
          "country: Sierra Leone<br>experience: 51.7 %<br>acceptability: 46.34666667 %<br>",
          "country: South Africa<br>experience: 15.8 %<br>acceptability: 7.520689655 %<br>",
          "country: Tajikistan<br>experience: 25.7 %<br>acceptability: 61.65333333 %<br>",
          "country: Tanzania<br>experience: 41.7 %<br>acceptability: 46.55 %<br>",
          "country: Timor-Leste<br>experience: 38.1 %<br>acceptability: 64.23666667 %<br>",
          "country: Togo<br>experience: 22.1 %<br>acceptability: 23.00666667 %<br>",
          "country: Uganda<br>experience: 46.6 %<br>acceptability: 43.41333333 %<br>",
          "country: Ukraine<br>experience: 13.2 %<br>acceptability: 7.861538462 %<br>",
          "country: Zambia<br>experience: 40.2 %<br>acceptability: 38.16 %<br>",
          "country: Zimbabwe<br>experience: 35.4 %<br>acceptability: 35.35666667 %<br>"
         ],
         "type": "choropleth",
         "visible": false,
         "z": [
          50.8,
          33.9,
          8.1,
          13.5,
          53.3,
          22.4,
          11.5,
          46.7,
          18.2,
          36.1,
          28.6,
          37.4,
          6.4,
          50.7,
          25.9,
          20.4,
          25.6,
          26.3,
          48.6,
          20.1,
          24.4,
          18,
          23.5,
          21.6,
          28.7,
          18.9,
          39.4,
          25.4,
          38.5,
          33.8,
          12.6,
          38.5,
          3.4,
          18.8,
          16.3,
          25,
          24.3,
          21.4,
          23.7,
          37.2,
          12.2,
          34.4,
          27.9,
          13.3,
          51.7,
          15.8,
          25.7,
          41.7,
          38.1,
          22.1,
          46.6,
          13.2,
          40.2,
          35.4
         ]
        },
        {
         "hoverinfosrc": "text",
         "locations": [
          "AFG",
          "AGO",
          "ARM",
          "AZE",
          "BGD",
          "BEN",
          "BFA",
          "BDI",
          "KHM",
          "CMR",
          "TCD",
          "COL",
          "COM",
          null,
          null,
          "DOM",
          "EGY",
          "ETH",
          "GAB",
          "GMB",
          "GHA",
          "GTM",
          "HTI",
          "HND",
          "IND",
          "JOR",
          "KEN",
          null,
          "LBR",
          "MWI",
          "MDV",
          "MLI",
          null,
          "MOZ",
          "MMR",
          "NAM",
          "NPL",
          "NGA",
          "PAK",
          "PER",
          "PHL",
          "RWA",
          "STP",
          "SEN",
          "SLE",
          "ZAF",
          "TJK",
          null,
          "TLS",
          "TGO",
          "UGA",
          "UKR",
          "ZMB",
          "ZWE"
         ],
         "text": [
          "country: Afghanistan<br>experience: 50.8 %<br>acceptability: 73.20357143 %<br>",
          "country: Angola<br>experience: 33.9 %<br>acceptability: 22.64 %<br>",
          "country: Armenia<br>experience: 8.1 %<br>acceptability: 18.54642857 %<br>",
          "country: Azerbaijan<br>experience: 13.5 %<br>acceptability: 53.66071429 %<br>",
          "country: Bangladesh<br>experience: 53.3 %<br>acceptability: 27.81428571 %<br>",
          "country: Benin<br>experience: 22.4 %<br>acceptability: 21.99 %<br>",
          "country: Burkina Faso<br>experience: 11.5 %<br>acceptability: 35.08 %<br>",
          "country: Burundi<br>experience: 46.7 %<br>acceptability: 45.80666667 %<br>",
          "country: Cambodia<br>experience: 18.2 %<br>acceptability: 35.96 %<br>",
          "country: Cameroon<br>experience: 36.1 %<br>acceptability: 41.14333333 %<br>",
          "country: Chad<br>experience: 28.6 %<br>acceptability: 61.18 %<br>",
          "country: Colombia<br>experience: 37.4 %<br>acceptability: 4.646666667 %<br>",
          "country: Comoros<br>experience: 6.4 %<br>acceptability: 27.75666667 %<br>",
          "country: Congo Democratic Republic<br>experience: 50.7 %<br>acceptability: 66.4 %<br>",
          "country: Cote d'Ivoire<br>experience: 25.9 %<br>acceptability: 43.12666667 %<br>",
          "country: Dominican Republic<br>experience: 20.4 %<br>acceptability: 3.403571429 %<br>",
          "country: Egypt<br>experience: 25.6 %<br>acceptability: 36.51428571 %<br>",
          "country: Ethiopia<br>experience: 26.3 %<br>acceptability: 42.16666667 %<br>",
          "country: Gabon<br>experience: 48.6 %<br>acceptability: 45.14666667 %<br>",
          "country: Gambia<br>experience: 20.1 %<br>acceptability: 44.69666667 %<br>",
          "country: Ghana<br>experience: 24.4 %<br>acceptability: 20.94333333 %<br>",
          "country: Guatemala<br>experience: 18.0 %<br>acceptability: 9.113333333 %<br>",
          "country: Haiti<br>experience: 23.5 %<br>acceptability: 13.42666667 %<br>",
          "country: Honduras<br>experience: 21.6 %<br>acceptability: 11.34666667 %<br>",
          "country: India<br>experience: 28.7 %<br>acceptability: 38.89 %<br>",
          "country: Jordan<br>experience: 18.9 %<br>acceptability: 23.7 %<br>",
          "country: Kenya<br>experience: 39.4 %<br>acceptability: 39.58 %<br>",
          "country: Kyrgyz Republic<br>experience: 25.4 %<br>acceptability: 41.28148148 %<br>",
          "country: Liberia<br>experience: 38.5 %<br>acceptability: 32.76666667 %<br>",
          "country: Malawi<br>experience: 33.8 %<br>acceptability: 13.53333333 %<br>",
          "country: Maldives<br>experience: 12.6 %<br>acceptability: 19.82333333 %<br>",
          "country: Mali<br>experience: 38.5 %<br>acceptability: 59.93 %<br>",
          "country: Moldova<br>experience: 3.4 %<br>acceptability: 22.77037037 %<br>",
          "country: Mozambique<br>experience: 18.8 %<br>acceptability: 14.65 %<br>",
          "country: Myanmar<br>experience: 16.3 %<br>acceptability: 49.97333333 %<br>",
          "country: Namibia<br>experience: 25.0 %<br>acceptability: 26.15666667 %<br>",
          "country: Nepal<br>experience: 24.3 %<br>acceptability: 26.54666667 %<br>",
          "country: Nigeria<br>experience: 21.4 %<br>acceptability: 29.89666667 %<br>",
          "country: Pakistan<br>experience: 23.7 %<br>acceptability: 38.65 %<br>",
          "country: Peru<br>experience: 37.2 %<br>acceptability: 4.04 %<br>",
          "country: Philippines<br>experience: 12.2 %<br>acceptability: 11.84666667 %<br>",
          "country: Rwanda<br>experience: 34.4 %<br>acceptability: 27.8 %<br>",
          "country: Sao Tome and Principe<br>experience: 27.9 %<br>acceptability: 20.99310345 %<br>",
          "country: Senegal<br>experience: 13.3 %<br>acceptability: 34.31333333 %<br>",
          "country: Sierra Leone<br>experience: 51.7 %<br>acceptability: 46.34666667 %<br>",
          "country: South Africa<br>experience: 15.8 %<br>acceptability: 7.520689655 %<br>",
          "country: Tajikistan<br>experience: 25.7 %<br>acceptability: 61.65333333 %<br>",
          "country: Tanzania<br>experience: 41.7 %<br>acceptability: 46.55 %<br>",
          "country: Timor-Leste<br>experience: 38.1 %<br>acceptability: 64.23666667 %<br>",
          "country: Togo<br>experience: 22.1 %<br>acceptability: 23.00666667 %<br>",
          "country: Uganda<br>experience: 46.6 %<br>acceptability: 43.41333333 %<br>",
          "country: Ukraine<br>experience: 13.2 %<br>acceptability: 7.861538462 %<br>",
          "country: Zambia<br>experience: 40.2 %<br>acceptability: 38.16 %<br>",
          "country: Zimbabwe<br>experience: 35.4 %<br>acceptability: 35.35666667 %<br>"
         ],
         "type": "choropleth",
         "visible": false,
         "z": [
          73.20357143,
          22.64,
          18.54642857,
          53.66071429,
          27.81428571,
          21.99,
          35.08,
          45.80666667,
          35.96,
          41.14333333,
          61.18,
          4.646666667,
          27.75666667,
          66.4,
          43.12666667,
          3.403571429,
          36.51428571,
          42.16666667,
          45.14666667,
          44.69666667,
          20.94333333,
          9.113333333,
          13.42666667,
          11.34666667,
          38.89,
          23.7,
          39.58,
          41.28148148,
          32.76666667,
          13.53333333,
          19.82333333,
          59.93,
          22.77037037,
          14.65,
          49.97333333,
          26.15666667,
          26.54666667,
          29.89666667,
          38.65,
          4.04,
          11.84666667,
          27.8,
          20.99310345,
          34.31333333,
          46.34666667,
          7.520689655,
          61.65333333,
          46.55,
          64.23666667,
          23.00666667,
          43.41333333,
          7.861538462,
          38.16,
          35.35666667
         ]
        }
       ],
       "layout": {
        "autosize": true,
        "geo": {},
        "template": {
         "data": {
          "bar": [
           {
            "error_x": {
             "color": "#2a3f5f"
            },
            "error_y": {
             "color": "#2a3f5f"
            },
            "marker": {
             "line": {
              "color": "#E5ECF6",
              "width": 0.5
             }
            },
            "type": "bar"
           }
          ],
          "barpolar": [
           {
            "marker": {
             "line": {
              "color": "#E5ECF6",
              "width": 0.5
             }
            },
            "type": "barpolar"
           }
          ],
          "carpet": [
           {
            "aaxis": {
             "endlinecolor": "#2a3f5f",
             "gridcolor": "white",
             "linecolor": "white",
             "minorgridcolor": "white",
             "startlinecolor": "#2a3f5f"
            },
            "baxis": {
             "endlinecolor": "#2a3f5f",
             "gridcolor": "white",
             "linecolor": "white",
             "minorgridcolor": "white",
             "startlinecolor": "#2a3f5f"
            },
            "type": "carpet"
           }
          ],
          "choropleth": [
           {
            "colorbar": {
             "outlinewidth": 0,
             "ticks": ""
            },
            "type": "choropleth"
           }
          ],
          "contour": [
           {
            "colorbar": {
             "outlinewidth": 0,
             "ticks": ""
            },
            "colorscale": [
             [
              0,
              "#0d0887"
             ],
             [
              0.1111111111111111,
              "#46039f"
             ],
             [
              0.2222222222222222,
              "#7201a8"
             ],
             [
              0.3333333333333333,
              "#9c179e"
             ],
             [
              0.4444444444444444,
              "#bd3786"
             ],
             [
              0.5555555555555556,
              "#d8576b"
             ],
             [
              0.6666666666666666,
              "#ed7953"
             ],
             [
              0.7777777777777778,
              "#fb9f3a"
             ],
             [
              0.8888888888888888,
              "#fdca26"
             ],
             [
              1,
              "#f0f921"
             ]
            ],
            "type": "contour"
           }
          ],
          "contourcarpet": [
           {
            "colorbar": {
             "outlinewidth": 0,
             "ticks": ""
            },
            "type": "contourcarpet"
           }
          ],
          "heatmap": [
           {
            "colorbar": {
             "outlinewidth": 0,
             "ticks": ""
            },
            "colorscale": [
             [
              0,
              "#0d0887"
             ],
             [
              0.1111111111111111,
              "#46039f"
             ],
             [
              0.2222222222222222,
              "#7201a8"
             ],
             [
              0.3333333333333333,
              "#9c179e"
             ],
             [
              0.4444444444444444,
              "#bd3786"
             ],
             [
              0.5555555555555556,
              "#d8576b"
             ],
             [
              0.6666666666666666,
              "#ed7953"
             ],
             [
              0.7777777777777778,
              "#fb9f3a"
             ],
             [
              0.8888888888888888,
              "#fdca26"
             ],
             [
              1,
              "#f0f921"
             ]
            ],
            "type": "heatmap"
           }
          ],
          "heatmapgl": [
           {
            "colorbar": {
             "outlinewidth": 0,
             "ticks": ""
            },
            "colorscale": [
             [
              0,
              "#0d0887"
             ],
             [
              0.1111111111111111,
              "#46039f"
             ],
             [
              0.2222222222222222,
              "#7201a8"
             ],
             [
              0.3333333333333333,
              "#9c179e"
             ],
             [
              0.4444444444444444,
              "#bd3786"
             ],
             [
              0.5555555555555556,
              "#d8576b"
             ],
             [
              0.6666666666666666,
              "#ed7953"
             ],
             [
              0.7777777777777778,
              "#fb9f3a"
             ],
             [
              0.8888888888888888,
              "#fdca26"
             ],
             [
              1,
              "#f0f921"
             ]
            ],
            "type": "heatmapgl"
           }
          ],
          "histogram": [
           {
            "marker": {
             "colorbar": {
              "outlinewidth": 0,
              "ticks": ""
             }
            },
            "type": "histogram"
           }
          ],
          "histogram2d": [
           {
            "colorbar": {
             "outlinewidth": 0,
             "ticks": ""
            },
            "colorscale": [
             [
              0,
              "#0d0887"
             ],
             [
              0.1111111111111111,
              "#46039f"
             ],
             [
              0.2222222222222222,
              "#7201a8"
             ],
             [
              0.3333333333333333,
              "#9c179e"
             ],
             [
              0.4444444444444444,
              "#bd3786"
             ],
             [
              0.5555555555555556,
              "#d8576b"
             ],
             [
              0.6666666666666666,
              "#ed7953"
             ],
             [
              0.7777777777777778,
              "#fb9f3a"
             ],
             [
              0.8888888888888888,
              "#fdca26"
             ],
             [
              1,
              "#f0f921"
             ]
            ],
            "type": "histogram2d"
           }
          ],
          "histogram2dcontour": [
           {
            "colorbar": {
             "outlinewidth": 0,
             "ticks": ""
            },
            "colorscale": [
             [
              0,
              "#0d0887"
             ],
             [
              0.1111111111111111,
              "#46039f"
             ],
             [
              0.2222222222222222,
              "#7201a8"
             ],
             [
              0.3333333333333333,
              "#9c179e"
             ],
             [
              0.4444444444444444,
              "#bd3786"
             ],
             [
              0.5555555555555556,
              "#d8576b"
             ],
             [
              0.6666666666666666,
              "#ed7953"
             ],
             [
              0.7777777777777778,
              "#fb9f3a"
             ],
             [
              0.8888888888888888,
              "#fdca26"
             ],
             [
              1,
              "#f0f921"
             ]
            ],
            "type": "histogram2dcontour"
           }
          ],
          "mesh3d": [
           {
            "colorbar": {
             "outlinewidth": 0,
             "ticks": ""
            },
            "type": "mesh3d"
           }
          ],
          "parcoords": [
           {
            "line": {
             "colorbar": {
              "outlinewidth": 0,
              "ticks": ""
             }
            },
            "type": "parcoords"
           }
          ],
          "pie": [
           {
            "automargin": true,
            "type": "pie"
           }
          ],
          "scatter": [
           {
            "marker": {
             "colorbar": {
              "outlinewidth": 0,
              "ticks": ""
             }
            },
            "type": "scatter"
           }
          ],
          "scatter3d": [
           {
            "line": {
             "colorbar": {
              "outlinewidth": 0,
              "ticks": ""
             }
            },
            "marker": {
             "colorbar": {
              "outlinewidth": 0,
              "ticks": ""
             }
            },
            "type": "scatter3d"
           }
          ],
          "scattercarpet": [
           {
            "marker": {
             "colorbar": {
              "outlinewidth": 0,
              "ticks": ""
             }
            },
            "type": "scattercarpet"
           }
          ],
          "scattergeo": [
           {
            "marker": {
             "colorbar": {
              "outlinewidth": 0,
              "ticks": ""
             }
            },
            "type": "scattergeo"
           }
          ],
          "scattergl": [
           {
            "marker": {
             "colorbar": {
              "outlinewidth": 0,
              "ticks": ""
             }
            },
            "type": "scattergl"
           }
          ],
          "scattermapbox": [
           {
            "marker": {
             "colorbar": {
              "outlinewidth": 0,
              "ticks": ""
             }
            },
            "type": "scattermapbox"
           }
          ],
          "scatterpolar": [
           {
            "marker": {
             "colorbar": {
              "outlinewidth": 0,
              "ticks": ""
             }
            },
            "type": "scatterpolar"
           }
          ],
          "scatterpolargl": [
           {
            "marker": {
             "colorbar": {
              "outlinewidth": 0,
              "ticks": ""
             }
            },
            "type": "scatterpolargl"
           }
          ],
          "scatterternary": [
           {
            "marker": {
             "colorbar": {
              "outlinewidth": 0,
              "ticks": ""
             }
            },
            "type": "scatterternary"
           }
          ],
          "surface": [
           {
            "colorbar": {
             "outlinewidth": 0,
             "ticks": ""
            },
            "colorscale": [
             [
              0,
              "#0d0887"
             ],
             [
              0.1111111111111111,
              "#46039f"
             ],
             [
              0.2222222222222222,
              "#7201a8"
             ],
             [
              0.3333333333333333,
              "#9c179e"
             ],
             [
              0.4444444444444444,
              "#bd3786"
             ],
             [
              0.5555555555555556,
              "#d8576b"
             ],
             [
              0.6666666666666666,
              "#ed7953"
             ],
             [
              0.7777777777777778,
              "#fb9f3a"
             ],
             [
              0.8888888888888888,
              "#fdca26"
             ],
             [
              1,
              "#f0f921"
             ]
            ],
            "type": "surface"
           }
          ],
          "table": [
           {
            "cells": {
             "fill": {
              "color": "#EBF0F8"
             },
             "line": {
              "color": "white"
             }
            },
            "header": {
             "fill": {
              "color": "#C8D4E3"
             },
             "line": {
              "color": "white"
             }
            },
            "type": "table"
           }
          ]
         },
         "layout": {
          "annotationdefaults": {
           "arrowcolor": "#2a3f5f",
           "arrowhead": 0,
           "arrowwidth": 1
          },
          "autotypenumbers": "strict",
          "coloraxis": {
           "colorbar": {
            "outlinewidth": 0,
            "ticks": ""
           }
          },
          "colorscale": {
           "diverging": [
            [
             0,
             "#8e0152"
            ],
            [
             0.1,
             "#c51b7d"
            ],
            [
             0.2,
             "#de77ae"
            ],
            [
             0.3,
             "#f1b6da"
            ],
            [
             0.4,
             "#fde0ef"
            ],
            [
             0.5,
             "#f7f7f7"
            ],
            [
             0.6,
             "#e6f5d0"
            ],
            [
             0.7,
             "#b8e186"
            ],
            [
             0.8,
             "#7fbc41"
            ],
            [
             0.9,
             "#4d9221"
            ],
            [
             1,
             "#276419"
            ]
           ],
           "sequential": [
            [
             0,
             "#0d0887"
            ],
            [
             0.1111111111111111,
             "#46039f"
            ],
            [
             0.2222222222222222,
             "#7201a8"
            ],
            [
             0.3333333333333333,
             "#9c179e"
            ],
            [
             0.4444444444444444,
             "#bd3786"
            ],
            [
             0.5555555555555556,
             "#d8576b"
            ],
            [
             0.6666666666666666,
             "#ed7953"
            ],
            [
             0.7777777777777778,
             "#fb9f3a"
            ],
            [
             0.8888888888888888,
             "#fdca26"
            ],
            [
             1,
             "#f0f921"
            ]
           ],
           "sequentialminus": [
            [
             0,
             "#0d0887"
            ],
            [
             0.1111111111111111,
             "#46039f"
            ],
            [
             0.2222222222222222,
             "#7201a8"
            ],
            [
             0.3333333333333333,
             "#9c179e"
            ],
            [
             0.4444444444444444,
             "#bd3786"
            ],
            [
             0.5555555555555556,
             "#d8576b"
            ],
            [
             0.6666666666666666,
             "#ed7953"
            ],
            [
             0.7777777777777778,
             "#fb9f3a"
            ],
            [
             0.8888888888888888,
             "#fdca26"
            ],
            [
             1,
             "#f0f921"
            ]
           ]
          },
          "colorway": [
           "#636efa",
           "#EF553B",
           "#00cc96",
           "#ab63fa",
           "#FFA15A",
           "#19d3f3",
           "#FF6692",
           "#B6E880",
           "#FF97FF",
           "#FECB52"
          ],
          "font": {
           "color": "#2a3f5f"
          },
          "geo": {
           "bgcolor": "white",
           "lakecolor": "white",
           "landcolor": "#E5ECF6",
           "showlakes": true,
           "showland": true,
           "subunitcolor": "white"
          },
          "hoverlabel": {
           "align": "left"
          },
          "hovermode": "closest",
          "mapbox": {
           "style": "light"
          },
          "paper_bgcolor": "white",
          "plot_bgcolor": "#E5ECF6",
          "polar": {
           "angularaxis": {
            "gridcolor": "white",
            "linecolor": "white",
            "ticks": ""
           },
           "bgcolor": "#E5ECF6",
           "radialaxis": {
            "gridcolor": "white",
            "linecolor": "white",
            "ticks": ""
           }
          },
          "scene": {
           "xaxis": {
            "backgroundcolor": "#E5ECF6",
            "gridcolor": "white",
            "gridwidth": 2,
            "linecolor": "white",
            "showbackground": true,
            "ticks": "",
            "zerolinecolor": "white"
           },
           "yaxis": {
            "backgroundcolor": "#E5ECF6",
            "gridcolor": "white",
            "gridwidth": 2,
            "linecolor": "white",
            "showbackground": true,
            "ticks": "",
            "zerolinecolor": "white"
           },
           "zaxis": {
            "backgroundcolor": "#E5ECF6",
            "gridcolor": "white",
            "gridwidth": 2,
            "linecolor": "white",
            "showbackground": true,
            "ticks": "",
            "zerolinecolor": "white"
           }
          },
          "shapedefaults": {
           "line": {
            "color": "#2a3f5f"
           }
          },
          "ternary": {
           "aaxis": {
            "gridcolor": "white",
            "linecolor": "white",
            "ticks": ""
           },
           "baxis": {
            "gridcolor": "white",
            "linecolor": "white",
            "ticks": ""
           },
           "bgcolor": "#E5ECF6",
           "caxis": {
            "gridcolor": "white",
            "linecolor": "white",
            "ticks": ""
           }
          },
          "title": {
           "x": 0.05
          },
          "xaxis": {
           "automargin": true,
           "gridcolor": "white",
           "linecolor": "white",
           "ticks": "",
           "title": {
            "standoff": 15
           },
           "zerolinecolor": "white",
           "zerolinewidth": 2
          },
          "yaxis": {
           "automargin": true,
           "gridcolor": "white",
           "linecolor": "white",
           "ticks": "",
           "title": {
            "standoff": 15
           },
           "zerolinecolor": "white",
           "zerolinewidth": 2
          }
         }
        },
        "updatemenus": [
         {
          "active": 2,
          "buttons": [
           {
            "args": [
             {
              "visible": [
               false,
               false,
               true
              ]
             }
            ],
            "label": "Acceptability",
            "method": "restyle"
           },
           {
            "args": [
             {
              "visible": [
               false,
               true,
               false
              ]
             }
            ],
            "label": "Experience",
            "method": "restyle"
           },
           {
            "args": [
             {
              "visible": [
               true,
               false,
               false
              ]
             }
            ],
            "label": "Difference (Acceptatbility-Experience)",
            "method": "restyle"
           }
          ],
          "direction": "right",
          "showactive": true,
          "type": "buttons",
          "x": 0.57,
          "y": 1.2
         }
        ]
       }
      },
      "image/png": "[encoded data removed]",
      "text/html": [
       "<div>                            <div id=\"4cb61409-afc2-448a-8850-f24bdcdfed9b\" class=\"plotly-graph-div\" style=\"height:525px; width:100%;\"></div>            <script type=\"text/javascript\">                require([\"plotly\"], function(Plotly) {                    window.PLOTLYENV=window.PLOTLYENV || {};                                    if (document.getElementById(\"4cb61409-afc2-448a-8850-f24bdcdfed9b\")) {                    Plotly.newPlot(                        \"4cb61409-afc2-448a-8850-f24bdcdfed9b\",                        [{\"hoverinfosrc\": \"text\", \"locations\": [\"AFG\", \"AGO\", \"ARM\", \"AZE\", \"BGD\", \"BEN\", \"BFA\", \"BDI\", \"KHM\", \"CMR\", \"TCD\", \"COL\", \"COM\", null, null, \"DOM\", \"EGY\", \"ETH\", \"GAB\", \"GMB\", \"GHA\", \"GTM\", \"HTI\", \"HND\", \"IND\", \"JOR\", \"KEN\", null, \"LBR\", \"MWI\", \"MDV\", \"MLI\", null, \"MOZ\", \"MMR\", \"NAM\", \"NPL\", \"NGA\", \"PAK\", \"PER\", \"PHL\", \"RWA\", \"STP\", \"SEN\", \"SLE\", \"ZAF\", \"TJK\", null, \"TLS\", \"TGO\", \"UGA\", \"UKR\", \"ZMB\", \"ZWE\"], \"text\": [\"country: Afghanistan<br>experience: 50.8 %<br>acceptability: 73.20357143 %<br>\", \"country: Angola<br>experience: 33.9 %<br>acceptability: 22.64 %<br>\", \"country: Armenia<br>experience: 8.1 %<br>acceptability: 18.54642857 %<br>\", \"country: Azerbaijan<br>experience: 13.5 %<br>acceptability: 53.66071429 %<br>\", \"country: Bangladesh<br>experience: 53.3 %<br>acceptability: 27.81428571 %<br>\", \"country: Benin<br>experience: 22.4 %<br>acceptability: 21.99 %<br>\", \"country: Burkina Faso<br>experience: 11.5 %<br>acceptability: 35.08 %<br>\", \"country: Burundi<br>experience: 46.7 %<br>acceptability: 45.80666667 %<br>\", \"country: Cambodia<br>experience: 18.2 %<br>acceptability: 35.96 %<br>\", \"country: Cameroon<br>experience: 36.1 %<br>acceptability: 41.14333333 %<br>\", \"country: Chad<br>experience: 28.6 %<br>acceptability: 61.18 %<br>\", \"country: Colombia<br>experience: 37.4 %<br>acceptability: 4.646666667 %<br>\", \"country: Comoros<br>experience: 6.4 %<br>acceptability: 27.75666667 %<br>\", \"country: Congo Democratic Republic<br>experience: 50.7 %<br>acceptability: 66.4 %<br>\", \"country: Cote d'Ivoire<br>experience: 25.9 %<br>acceptability: 43.12666667 %<br>\", \"country: Dominican Republic<br>experience: 20.4 %<br>acceptability: 3.403571429 %<br>\", \"country: Egypt<br>experience: 25.6 %<br>acceptability: 36.51428571 %<br>\", \"country: Ethiopia<br>experience: 26.3 %<br>acceptability: 42.16666667 %<br>\", \"country: Gabon<br>experience: 48.6 %<br>acceptability: 45.14666667 %<br>\", \"country: Gambia<br>experience: 20.1 %<br>acceptability: 44.69666667 %<br>\", \"country: Ghana<br>experience: 24.4 %<br>acceptability: 20.94333333 %<br>\", \"country: Guatemala<br>experience: 18.0 %<br>acceptability: 9.113333333 %<br>\", \"country: Haiti<br>experience: 23.5 %<br>acceptability: 13.42666667 %<br>\", \"country: Honduras<br>experience: 21.6 %<br>acceptability: 11.34666667 %<br>\", \"country: India<br>experience: 28.7 %<br>acceptability: 38.89 %<br>\", \"country: Jordan<br>experience: 18.9 %<br>acceptability: 23.7 %<br>\", \"country: Kenya<br>experience: 39.4 %<br>acceptability: 39.58 %<br>\", \"country: Kyrgyz Republic<br>experience: 25.4 %<br>acceptability: 41.28148148 %<br>\", \"country: Liberia<br>experience: 38.5 %<br>acceptability: 32.76666667 %<br>\", \"country: Malawi<br>experience: 33.8 %<br>acceptability: 13.53333333 %<br>\", \"country: Maldives<br>experience: 12.6 %<br>acceptability: 19.82333333 %<br>\", \"country: Mali<br>experience: 38.5 %<br>acceptability: 59.93 %<br>\", \"country: Moldova<br>experience: 3.4 %<br>acceptability: 22.77037037 %<br>\", \"country: Mozambique<br>experience: 18.8 %<br>acceptability: 14.65 %<br>\", \"country: Myanmar<br>experience: 16.3 %<br>acceptability: 49.97333333 %<br>\", \"country: Namibia<br>experience: 25.0 %<br>acceptability: 26.15666667 %<br>\", \"country: Nepal<br>experience: 24.3 %<br>acceptability: 26.54666667 %<br>\", \"country: Nigeria<br>experience: 21.4 %<br>acceptability: 29.89666667 %<br>\", \"country: Pakistan<br>experience: 23.7 %<br>acceptability: 38.65 %<br>\", \"country: Peru<br>experience: 37.2 %<br>acceptability: 4.04 %<br>\", \"country: Philippines<br>experience: 12.2 %<br>acceptability: 11.84666667 %<br>\", \"country: Rwanda<br>experience: 34.4 %<br>acceptability: 27.8 %<br>\", \"country: Sao Tome and Principe<br>experience: 27.9 %<br>acceptability: 20.99310345 %<br>\", \"country: Senegal<br>experience: 13.3 %<br>acceptability: 34.31333333 %<br>\", \"country: Sierra Leone<br>experience: 51.7 %<br>acceptability: 46.34666667 %<br>\", \"country: South Africa<br>experience: 15.8 %<br>acceptability: 7.520689655 %<br>\", \"country: Tajikistan<br>experience: 25.7 %<br>acceptability: 61.65333333 %<br>\", \"country: Tanzania<br>experience: 41.7 %<br>acceptability: 46.55 %<br>\", \"country: Timor-Leste<br>experience: 38.1 %<br>acceptability: 64.23666667 %<br>\", \"country: Togo<br>experience: 22.1 %<br>acceptability: 23.00666667 %<br>\", \"country: Uganda<br>experience: 46.6 %<br>acceptability: 43.41333333 %<br>\", \"country: Ukraine<br>experience: 13.2 %<br>acceptability: 7.861538462 %<br>\", \"country: Zambia<br>experience: 40.2 %<br>acceptability: 38.16 %<br>\", \"country: Zimbabwe<br>experience: 35.4 %<br>acceptability: 35.35666667 %<br>\"], \"type\": \"choropleth\", \"z\": [22.40357143, -11.259999999999998, 10.44642857, 40.16071429, -25.485714289999997, -0.41000000000000014, 23.58, -0.8933333300000044, 17.76, 5.043333329999996, 32.58, -32.753333333, 21.356666670000003, 15.700000000000003, 17.22666667, -16.996428571, 10.914285710000001, 15.866666669999997, -3.4533333299999995, 24.596666669999998, -3.456666669999997, -8.886666667, -10.07333333, -10.253333330000002, 10.190000000000001, 4.800000000000001, 0.17999999999999972, 15.881481479999998, -5.733333330000001, -20.26666667, 7.223333330000001, 21.43, 19.37037037, -4.15, 33.673333330000006, 1.15666667, 2.2466666699999998, 8.49666667, 14.95, -33.160000000000004, -0.3533333299999999, -6.599999999999998, -6.906896549999999, 21.01333333, -5.353333330000005, -8.279310345, 35.95333333000001, 4.849999999999994, 26.136666670000004, 0.9066666699999999, -3.186666670000001, -5.338461537999999, -2.0400000000000063, -0.04333332999999584]}, {\"hoverinfosrc\": \"text\", \"locations\": [\"AFG\", \"AGO\", \"ARM\", \"AZE\", \"BGD\", \"BEN\", \"BFA\", \"BDI\", \"KHM\", \"CMR\", \"TCD\", \"COL\", \"COM\", null, null, \"DOM\", \"EGY\", \"ETH\", \"GAB\", \"GMB\", \"GHA\", \"GTM\", \"HTI\", \"HND\", \"IND\", \"JOR\", \"KEN\", null, \"LBR\", \"MWI\", \"MDV\", \"MLI\", null, \"MOZ\", \"MMR\", \"NAM\", \"NPL\", \"NGA\", \"PAK\", \"PER\", \"PHL\", \"RWA\", \"STP\", \"SEN\", \"SLE\", \"ZAF\", \"TJK\", null, \"TLS\", \"TGO\", \"UGA\", \"UKR\", \"ZMB\", \"ZWE\"], \"text\": [\"country: Afghanistan<br>experience: 50.8 %<br>acceptability: 73.20357143 %<br>\", \"country: Angola<br>experience: 33.9 %<br>acceptability: 22.64 %<br>\", \"country: Armenia<br>experience: 8.1 %<br>acceptability: 18.54642857 %<br>\", \"country: Azerbaijan<br>experience: 13.5 %<br>acceptability: 53.66071429 %<br>\", \"country: Bangladesh<br>experience: 53.3 %<br>acceptability: 27.81428571 %<br>\", \"country: Benin<br>experience: 22.4 %<br>acceptability: 21.99 %<br>\", \"country: Burkina Faso<br>experience: 11.5 %<br>acceptability: 35.08 %<br>\", \"country: Burundi<br>experience: 46.7 %<br>acceptability: 45.80666667 %<br>\", \"country: Cambodia<br>experience: 18.2 %<br>acceptability: 35.96 %<br>\", \"country: Cameroon<br>experience: 36.1 %<br>acceptability: 41.14333333 %<br>\", \"country: Chad<br>experience: 28.6 %<br>acceptability: 61.18 %<br>\", \"country: Colombia<br>experience: 37.4 %<br>acceptability: 4.646666667 %<br>\", \"country: Comoros<br>experience: 6.4 %<br>acceptability: 27.75666667 %<br>\", \"country: Congo Democratic Republic<br>experience: 50.7 %<br>acceptability: 66.4 %<br>\", \"country: Cote d'Ivoire<br>experience: 25.9 %<br>acceptability: 43.12666667 %<br>\", \"country: Dominican Republic<br>experience: 20.4 %<br>acceptability: 3.403571429 %<br>\", \"country: Egypt<br>experience: 25.6 %<br>acceptability: 36.51428571 %<br>\", \"country: Ethiopia<br>experience: 26.3 %<br>acceptability: 42.16666667 %<br>\", \"country: Gabon<br>experience: 48.6 %<br>acceptability: 45.14666667 %<br>\", \"country: Gambia<br>experience: 20.1 %<br>acceptability: 44.69666667 %<br>\", \"country: Ghana<br>experience: 24.4 %<br>acceptability: 20.94333333 %<br>\", \"country: Guatemala<br>experience: 18.0 %<br>acceptability: 9.113333333 %<br>\", \"country: Haiti<br>experience: 23.5 %<br>acceptability: 13.42666667 %<br>\", \"country: Honduras<br>experience: 21.6 %<br>acceptability: 11.34666667 %<br>\", \"country: India<br>experience: 28.7 %<br>acceptability: 38.89 %<br>\", \"country: Jordan<br>experience: 18.9 %<br>acceptability: 23.7 %<br>\", \"country: Kenya<br>experience: 39.4 %<br>acceptability: 39.58 %<br>\", \"country: Kyrgyz Republic<br>experience: 25.4 %<br>acceptability: 41.28148148 %<br>\", \"country: Liberia<br>experience: 38.5 %<br>acceptability: 32.76666667 %<br>\", \"country: Malawi<br>experience: 33.8 %<br>acceptability: 13.53333333 %<br>\", \"country: Maldives<br>experience: 12.6 %<br>acceptability: 19.82333333 %<br>\", \"country: Mali<br>experience: 38.5 %<br>acceptability: 59.93 %<br>\", \"country: Moldova<br>experience: 3.4 %<br>acceptability: 22.77037037 %<br>\", \"country: Mozambique<br>experience: 18.8 %<br>acceptability: 14.65 %<br>\", \"country: Myanmar<br>experience: 16.3 %<br>acceptability: 49.97333333 %<br>\", \"country: Namibia<br>experience: 25.0 %<br>acceptability: 26.15666667 %<br>\", \"country: Nepal<br>experience: 24.3 %<br>acceptability: 26.54666667 %<br>\", \"country: Nigeria<br>experience: 21.4 %<br>acceptability: 29.89666667 %<br>\", \"country: Pakistan<br>experience: 23.7 %<br>acceptability: 38.65 %<br>\", \"country: Peru<br>experience: 37.2 %<br>acceptability: 4.04 %<br>\", \"country: Philippines<br>experience: 12.2 %<br>acceptability: 11.84666667 %<br>\", \"country: Rwanda<br>experience: 34.4 %<br>acceptability: 27.8 %<br>\", \"country: Sao Tome and Principe<br>experience: 27.9 %<br>acceptability: 20.99310345 %<br>\", \"country: Senegal<br>experience: 13.3 %<br>acceptability: 34.31333333 %<br>\", \"country: Sierra Leone<br>experience: 51.7 %<br>acceptability: 46.34666667 %<br>\", \"country: South Africa<br>experience: 15.8 %<br>acceptability: 7.520689655 %<br>\", \"country: Tajikistan<br>experience: 25.7 %<br>acceptability: 61.65333333 %<br>\", \"country: Tanzania<br>experience: 41.7 %<br>acceptability: 46.55 %<br>\", \"country: Timor-Leste<br>experience: 38.1 %<br>acceptability: 64.23666667 %<br>\", \"country: Togo<br>experience: 22.1 %<br>acceptability: 23.00666667 %<br>\", \"country: Uganda<br>experience: 46.6 %<br>acceptability: 43.41333333 %<br>\", \"country: Ukraine<br>experience: 13.2 %<br>acceptability: 7.861538462 %<br>\", \"country: Zambia<br>experience: 40.2 %<br>acceptability: 38.16 %<br>\", \"country: Zimbabwe<br>experience: 35.4 %<br>acceptability: 35.35666667 %<br>\"], \"type\": \"choropleth\", \"z\": [50.8, 33.9, 8.1, 13.5, 53.3, 22.4, 11.5, 46.7, 18.2, 36.1, 28.6, 37.4, 6.4, 50.7, 25.9, 20.4, 25.6, 26.3, 48.6, 20.1, 24.4, 18.0, 23.5, 21.6, 28.7, 18.9, 39.4, 25.4, 38.5, 33.8, 12.6, 38.5, 3.4, 18.8, 16.3, 25.0, 24.3, 21.4, 23.7, 37.2, 12.2, 34.4, 27.9, 13.3, 51.7, 15.8, 25.7, 41.7, 38.1, 22.1, 46.6, 13.2, 40.2, 35.4]}, {\"hoverinfosrc\": \"text\", \"locations\": [\"AFG\", \"AGO\", \"ARM\", \"AZE\", \"BGD\", \"BEN\", \"BFA\", \"BDI\", \"KHM\", \"CMR\", \"TCD\", \"COL\", \"COM\", null, null, \"DOM\", \"EGY\", \"ETH\", \"GAB\", \"GMB\", \"GHA\", \"GTM\", \"HTI\", \"HND\", \"IND\", \"JOR\", \"KEN\", null, \"LBR\", \"MWI\", \"MDV\", \"MLI\", null, \"MOZ\", \"MMR\", \"NAM\", \"NPL\", \"NGA\", \"PAK\", \"PER\", \"PHL\", \"RWA\", \"STP\", \"SEN\", \"SLE\", \"ZAF\", \"TJK\", null, \"TLS\", \"TGO\", \"UGA\", \"UKR\", \"ZMB\", \"ZWE\"], \"text\": [\"country: Afghanistan<br>experience: 50.8 %<br>acceptability: 73.20357143 %<br>\", \"country: Angola<br>experience: 33.9 %<br>acceptability: 22.64 %<br>\", \"country: Armenia<br>experience: 8.1 %<br>acceptability: 18.54642857 %<br>\", \"country: Azerbaijan<br>experience: 13.5 %<br>acceptability: 53.66071429 %<br>\", \"country: Bangladesh<br>experience: 53.3 %<br>acceptability: 27.81428571 %<br>\", \"country: Benin<br>experience: 22.4 %<br>acceptability: 21.99 %<br>\", \"country: Burkina Faso<br>experience: 11.5 %<br>acceptability: 35.08 %<br>\", \"country: Burundi<br>experience: 46.7 %<br>acceptability: 45.80666667 %<br>\", \"country: Cambodia<br>experience: 18.2 %<br>acceptability: 35.96 %<br>\", \"country: Cameroon<br>experience: 36.1 %<br>acceptability: 41.14333333 %<br>\", \"country: Chad<br>experience: 28.6 %<br>acceptability: 61.18 %<br>\", \"country: Colombia<br>experience: 37.4 %<br>acceptability: 4.646666667 %<br>\", \"country: Comoros<br>experience: 6.4 %<br>acceptability: 27.75666667 %<br>\", \"country: Congo Democratic Republic<br>experience: 50.7 %<br>acceptability: 66.4 %<br>\", \"country: Cote d'Ivoire<br>experience: 25.9 %<br>acceptability: 43.12666667 %<br>\", \"country: Dominican Republic<br>experience: 20.4 %<br>acceptability: 3.403571429 %<br>\", \"country: Egypt<br>experience: 25.6 %<br>acceptability: 36.51428571 %<br>\", \"country: Ethiopia<br>experience: 26.3 %<br>acceptability: 42.16666667 %<br>\", \"country: Gabon<br>experience: 48.6 %<br>acceptability: 45.14666667 %<br>\", \"country: Gambia<br>experience: 20.1 %<br>acceptability: 44.69666667 %<br>\", \"country: Ghana<br>experience: 24.4 %<br>acceptability: 20.94333333 %<br>\", \"country: Guatemala<br>experience: 18.0 %<br>acceptability: 9.113333333 %<br>\", \"country: Haiti<br>experience: 23.5 %<br>acceptability: 13.42666667 %<br>\", \"country: Honduras<br>experience: 21.6 %<br>acceptability: 11.34666667 %<br>\", \"country: India<br>experience: 28.7 %<br>acceptability: 38.89 %<br>\", \"country: Jordan<br>experience: 18.9 %<br>acceptability: 23.7 %<br>\", \"country: Kenya<br>experience: 39.4 %<br>acceptability: 39.58 %<br>\", \"country: Kyrgyz Republic<br>experience: 25.4 %<br>acceptability: 41.28148148 %<br>\", \"country: Liberia<br>experience: 38.5 %<br>acceptability: 32.76666667 %<br>\", \"country: Malawi<br>experience: 33.8 %<br>acceptability: 13.53333333 %<br>\", \"country: Maldives<br>experience: 12.6 %<br>acceptability: 19.82333333 %<br>\", \"country: Mali<br>experience: 38.5 %<br>acceptability: 59.93 %<br>\", \"country: Moldova<br>experience: 3.4 %<br>acceptability: 22.77037037 %<br>\", \"country: Mozambique<br>experience: 18.8 %<br>acceptability: 14.65 %<br>\", \"country: Myanmar<br>experience: 16.3 %<br>acceptability: 49.97333333 %<br>\", \"country: Namibia<br>experience: 25.0 %<br>acceptability: 26.15666667 %<br>\", \"country: Nepal<br>experience: 24.3 %<br>acceptability: 26.54666667 %<br>\", \"country: Nigeria<br>experience: 21.4 %<br>acceptability: 29.89666667 %<br>\", \"country: Pakistan<br>experience: 23.7 %<br>acceptability: 38.65 %<br>\", \"country: Peru<br>experience: 37.2 %<br>acceptability: 4.04 %<br>\", \"country: Philippines<br>experience: 12.2 %<br>acceptability: 11.84666667 %<br>\", \"country: Rwanda<br>experience: 34.4 %<br>acceptability: 27.8 %<br>\", \"country: Sao Tome and Principe<br>experience: 27.9 %<br>acceptability: 20.99310345 %<br>\", \"country: Senegal<br>experience: 13.3 %<br>acceptability: 34.31333333 %<br>\", \"country: Sierra Leone<br>experience: 51.7 %<br>acceptability: 46.34666667 %<br>\", \"country: South Africa<br>experience: 15.8 %<br>acceptability: 7.520689655 %<br>\", \"country: Tajikistan<br>experience: 25.7 %<br>acceptability: 61.65333333 %<br>\", \"country: Tanzania<br>experience: 41.7 %<br>acceptability: 46.55 %<br>\", \"country: Timor-Leste<br>experience: 38.1 %<br>acceptability: 64.23666667 %<br>\", \"country: Togo<br>experience: 22.1 %<br>acceptability: 23.00666667 %<br>\", \"country: Uganda<br>experience: 46.6 %<br>acceptability: 43.41333333 %<br>\", \"country: Ukraine<br>experience: 13.2 %<br>acceptability: 7.861538462 %<br>\", \"country: Zambia<br>experience: 40.2 %<br>acceptability: 38.16 %<br>\", \"country: Zimbabwe<br>experience: 35.4 %<br>acceptability: 35.35666667 %<br>\"], \"type\": \"choropleth\", \"z\": [73.20357143, 22.64, 18.54642857, 53.66071429, 27.81428571, 21.99, 35.08, 45.80666667, 35.96, 41.14333333, 61.18, 4.646666667, 27.75666667, 66.4, 43.12666667, 3.403571429, 36.51428571, 42.16666667, 45.14666667, 44.69666667, 20.94333333, 9.113333333, 13.42666667, 11.34666667, 38.89, 23.7, 39.58, 41.28148148, 32.76666667, 13.53333333, 19.82333333, 59.93, 22.77037037, 14.65, 49.97333333, 26.15666667, 26.54666667, 29.89666667, 38.65, 4.04, 11.84666667, 27.8, 20.99310345, 34.31333333, 46.34666667, 7.520689655, 61.65333333, 46.55, 64.23666667, 23.00666667, 43.41333333, 7.861538462, 38.16, 35.35666667]}],                        {\"template\": {\"data\": {\"bar\": [{\"error_x\": {\"color\": \"#2a3f5f\"}, \"error_y\": {\"color\": \"#2a3f5f\"}, \"marker\": {\"line\": {\"color\": \"#E5ECF6\", \"width\": 0.5}}, \"type\": \"bar\"}], \"barpolar\": [{\"marker\": {\"line\": {\"color\": \"#E5ECF6\", \"width\": 0.5}}, \"type\": \"barpolar\"}], \"carpet\": [{\"aaxis\": {\"endlinecolor\": \"#2a3f5f\", \"gridcolor\": \"white\", \"linecolor\": \"white\", \"minorgridcolor\": \"white\", \"startlinecolor\": \"#2a3f5f\"}, \"baxis\": {\"endlinecolor\": \"#2a3f5f\", \"gridcolor\": \"white\", \"linecolor\": \"white\", \"minorgridcolor\": \"white\", \"startlinecolor\": \"#2a3f5f\"}, \"type\": \"carpet\"}], \"choropleth\": [{\"colorbar\": {\"outlinewidth\": 0, \"ticks\": \"\"}, \"type\": \"choropleth\"}], \"contour\": [{\"colorbar\": {\"outlinewidth\": 0, \"ticks\": \"\"}, \"colorscale\": [[0.0, \"#0d0887\"], [0.1111111111111111, \"#46039f\"], [0.2222222222222222, \"#7201a8\"], [0.3333333333333333, \"#9c179e\"], [0.4444444444444444, \"#bd3786\"], [0.5555555555555556, \"#d8576b\"], [0.6666666666666666, \"#ed7953\"], [0.7777777777777778, \"#fb9f3a\"], [0.8888888888888888, \"#fdca26\"], [1.0, \"#f0f921\"]], \"type\": \"contour\"}], \"contourcarpet\": [{\"colorbar\": {\"outlinewidth\": 0, \"ticks\": \"\"}, \"type\": \"contourcarpet\"}], \"heatmap\": [{\"colorbar\": {\"outlinewidth\": 0, \"ticks\": \"\"}, \"colorscale\": [[0.0, \"#0d0887\"], [0.1111111111111111, \"#46039f\"], [0.2222222222222222, \"#7201a8\"], [0.3333333333333333, \"#9c179e\"], [0.4444444444444444, \"#bd3786\"], [0.5555555555555556, \"#d8576b\"], [0.6666666666666666, \"#ed7953\"], [0.7777777777777778, \"#fb9f3a\"], [0.8888888888888888, \"#fdca26\"], [1.0, \"#f0f921\"]], \"type\": \"heatmap\"}], \"heatmapgl\": [{\"colorbar\": {\"outlinewidth\": 0, \"ticks\": \"\"}, \"colorscale\": [[0.0, \"#0d0887\"], [0.1111111111111111, \"#46039f\"], [0.2222222222222222, \"#7201a8\"], [0.3333333333333333, \"#9c179e\"], [0.4444444444444444, \"#bd3786\"], [0.5555555555555556, \"#d8576b\"], [0.6666666666666666, \"#ed7953\"], [0.7777777777777778, \"#fb9f3a\"], [0.8888888888888888, \"#fdca26\"], [1.0, \"#f0f921\"]], \"type\": \"heatmapgl\"}], \"histogram\": [{\"marker\": {\"colorbar\": {\"outlinewidth\": 0, \"ticks\": \"\"}}, \"type\": \"histogram\"}], \"histogram2d\": [{\"colorbar\": {\"outlinewidth\": 0, \"ticks\": \"\"}, \"colorscale\": [[0.0, \"#0d0887\"], [0.1111111111111111, \"#46039f\"], [0.2222222222222222, \"#7201a8\"], [0.3333333333333333, \"#9c179e\"], [0.4444444444444444, \"#bd3786\"], [0.5555555555555556, \"#d8576b\"], [0.6666666666666666, \"#ed7953\"], [0.7777777777777778, \"#fb9f3a\"], [0.8888888888888888, \"#fdca26\"], [1.0, \"#f0f921\"]], \"type\": \"histogram2d\"}], \"histogram2dcontour\": [{\"colorbar\": {\"outlinewidth\": 0, \"ticks\": \"\"}, \"colorscale\": [[0.0, \"#0d0887\"], [0.1111111111111111, \"#46039f\"], [0.2222222222222222, \"#7201a8\"], [0.3333333333333333, \"#9c179e\"], [0.4444444444444444, \"#bd3786\"], [0.5555555555555556, \"#d8576b\"], [0.6666666666666666, \"#ed7953\"], [0.7777777777777778, \"#fb9f3a\"], [0.8888888888888888, \"#fdca26\"], [1.0, \"#f0f921\"]], \"type\": \"histogram2dcontour\"}], \"mesh3d\": [{\"colorbar\": {\"outlinewidth\": 0, \"ticks\": \"\"}, \"type\": \"mesh3d\"}], \"parcoords\": [{\"line\": {\"colorbar\": {\"outlinewidth\": 0, \"ticks\": \"\"}}, \"type\": \"parcoords\"}], \"pie\": [{\"automargin\": true, \"type\": \"pie\"}], \"scatter\": [{\"marker\": {\"colorbar\": {\"outlinewidth\": 0, \"ticks\": \"\"}}, \"type\": \"scatter\"}], \"scatter3d\": [{\"line\": {\"colorbar\": {\"outlinewidth\": 0, \"ticks\": \"\"}}, \"marker\": {\"colorbar\": {\"outlinewidth\": 0, \"ticks\": \"\"}}, \"type\": \"scatter3d\"}], \"scattercarpet\": [{\"marker\": {\"colorbar\": {\"outlinewidth\": 0, \"ticks\": \"\"}}, \"type\": \"scattercarpet\"}], \"scattergeo\": [{\"marker\": {\"colorbar\": {\"outlinewidth\": 0, \"ticks\": \"\"}}, \"type\": \"scattergeo\"}], \"scattergl\": [{\"marker\": {\"colorbar\": {\"outlinewidth\": 0, \"ticks\": \"\"}}, \"type\": \"scattergl\"}], \"scattermapbox\": [{\"marker\": {\"colorbar\": {\"outlinewidth\": 0, \"ticks\": \"\"}}, \"type\": \"scattermapbox\"}], \"scatterpolar\": [{\"marker\": {\"colorbar\": {\"outlinewidth\": 0, \"ticks\": \"\"}}, \"type\": \"scatterpolar\"}], \"scatterpolargl\": [{\"marker\": {\"colorbar\": {\"outlinewidth\": 0, \"ticks\": \"\"}}, \"type\": \"scatterpolargl\"}], \"scatterternary\": [{\"marker\": {\"colorbar\": {\"outlinewidth\": 0, \"ticks\": \"\"}}, \"type\": \"scatterternary\"}], \"surface\": [{\"colorbar\": {\"outlinewidth\": 0, \"ticks\": \"\"}, \"colorscale\": [[0.0, \"#0d0887\"], [0.1111111111111111, \"#46039f\"], [0.2222222222222222, \"#7201a8\"], [0.3333333333333333, \"#9c179e\"], [0.4444444444444444, \"#bd3786\"], [0.5555555555555556, \"#d8576b\"], [0.6666666666666666, \"#ed7953\"], [0.7777777777777778, \"#fb9f3a\"], [0.8888888888888888, \"#fdca26\"], [1.0, \"#f0f921\"]], \"type\": \"surface\"}], \"table\": [{\"cells\": {\"fill\": {\"color\": \"#EBF0F8\"}, \"line\": {\"color\": \"white\"}}, \"header\": {\"fill\": {\"color\": \"#C8D4E3\"}, \"line\": {\"color\": \"white\"}}, \"type\": \"table\"}]}, \"layout\": {\"annotationdefaults\": {\"arrowcolor\": \"#2a3f5f\", \"arrowhead\": 0, \"arrowwidth\": 1}, \"autotypenumbers\": \"strict\", \"coloraxis\": {\"colorbar\": {\"outlinewidth\": 0, \"ticks\": \"\"}}, \"colorscale\": {\"diverging\": [[0, \"#8e0152\"], [0.1, \"#c51b7d\"], [0.2, \"#de77ae\"], [0.3, \"#f1b6da\"], [0.4, \"#fde0ef\"], [0.5, \"#f7f7f7\"], [0.6, \"#e6f5d0\"], [0.7, \"#b8e186\"], [0.8, \"#7fbc41\"], [0.9, \"#4d9221\"], [1, \"#276419\"]], \"sequential\": [[0.0, \"#0d0887\"], [0.1111111111111111, \"#46039f\"], [0.2222222222222222, \"#7201a8\"], [0.3333333333333333, \"#9c179e\"], [0.4444444444444444, \"#bd3786\"], [0.5555555555555556, \"#d8576b\"], [0.6666666666666666, \"#ed7953\"], [0.7777777777777778, \"#fb9f3a\"], [0.8888888888888888, \"#fdca26\"], [1.0, \"#f0f921\"]], \"sequentialminus\": [[0.0, \"#0d0887\"], [0.1111111111111111, \"#46039f\"], [0.2222222222222222, \"#7201a8\"], [0.3333333333333333, \"#9c179e\"], [0.4444444444444444, \"#bd3786\"], [0.5555555555555556, \"#d8576b\"], [0.6666666666666666, \"#ed7953\"], [0.7777777777777778, \"#fb9f3a\"], [0.8888888888888888, \"#fdca26\"], [1.0, \"#f0f921\"]]}, \"colorway\": [\"#636efa\", \"#EF553B\", \"#00cc96\", \"#ab63fa\", \"#FFA15A\", \"#19d3f3\", \"#FF6692\", \"#B6E880\", \"#FF97FF\", \"#FECB52\"], \"font\": {\"color\": \"#2a3f5f\"}, \"geo\": {\"bgcolor\": \"white\", \"lakecolor\": \"white\", \"landcolor\": \"#E5ECF6\", \"showlakes\": true, \"showland\": true, \"subunitcolor\": \"white\"}, \"hoverlabel\": {\"align\": \"left\"}, \"hovermode\": \"closest\", \"mapbox\": {\"style\": \"light\"}, \"paper_bgcolor\": \"white\", \"plot_bgcolor\": \"#E5ECF6\", \"polar\": {\"angularaxis\": {\"gridcolor\": \"white\", \"linecolor\": \"white\", \"ticks\": \"\"}, \"bgcolor\": \"#E5ECF6\", \"radialaxis\": {\"gridcolor\": \"white\", \"linecolor\": \"white\", \"ticks\": \"\"}}, \"scene\": {\"xaxis\": {\"backgroundcolor\": \"#E5ECF6\", \"gridcolor\": \"white\", \"gridwidth\": 2, \"linecolor\": \"white\", \"showbackground\": true, \"ticks\": \"\", \"zerolinecolor\": \"white\"}, \"yaxis\": {\"backgroundcolor\": \"#E5ECF6\", \"gridcolor\": \"white\", \"gridwidth\": 2, \"linecolor\": \"white\", \"showbackground\": true, \"ticks\": \"\", \"zerolinecolor\": \"white\"}, \"zaxis\": {\"backgroundcolor\": \"#E5ECF6\", \"gridcolor\": \"white\", \"gridwidth\": 2, \"linecolor\": \"white\", \"showbackground\": true, \"ticks\": \"\", \"zerolinecolor\": \"white\"}}, \"shapedefaults\": {\"line\": {\"color\": \"#2a3f5f\"}}, \"ternary\": {\"aaxis\": {\"gridcolor\": \"white\", \"linecolor\": \"white\", \"ticks\": \"\"}, \"baxis\": {\"gridcolor\": \"white\", \"linecolor\": \"white\", \"ticks\": \"\"}, \"bgcolor\": \"#E5ECF6\", \"caxis\": {\"gridcolor\": \"white\", \"linecolor\": \"white\", \"ticks\": \"\"}}, \"title\": {\"x\": 0.05}, \"xaxis\": {\"automargin\": true, \"gridcolor\": \"white\", \"linecolor\": \"white\", \"ticks\": \"\", \"title\": {\"standoff\": 15}, \"zerolinecolor\": \"white\", \"zerolinewidth\": 2}, \"yaxis\": {\"automargin\": true, \"gridcolor\": \"white\", \"linecolor\": \"white\", \"ticks\": \"\", \"title\": {\"standoff\": 15}, \"zerolinecolor\": \"white\", \"zerolinewidth\": 2}}}, \"updatemenus\": [{\"active\": 0, \"buttons\": [{\"args\": [{\"visible\": [false, false, true]}], \"label\": \"Acceptability\", \"method\": \"restyle\"}, {\"args\": [{\"visible\": [false, true, false]}], \"label\": \"Experience\", \"method\": \"restyle\"}, {\"args\": [{\"visible\": [true, false, false]}], \"label\": \"Difference (Acceptatbility-Experience)\", \"method\": \"restyle\"}], \"direction\": \"right\", \"showactive\": true, \"type\": \"buttons\", \"x\": 0.57, \"y\": 1.2}]},                        {\"responsive\": true}                    ).then(function(){\n",
       "                            \n",
       "var gd = document.getElementById('4cb61409-afc2-448a-8850-f24bdcdfed9b');\n",
       "var x = new MutationObserver(function (mutations, observer) {{\n",
       "        var display = window.getComputedStyle(gd).display;\n",
       "        if (!display || display === 'none') {{\n",
       "            console.log([gd, 'removed!']);\n",
       "            Plotly.purge(gd);\n",
       "            observer.disconnect();\n",
       "        }}\n",
       "}});\n",
       "\n",
       "// Listen for the removal of the full notebook cells\n",
       "var notebookContainer = gd.closest('#notebook-container');\n",
       "if (notebookContainer) {{\n",
       "    x.observe(notebookContainer, {childList: true});\n",
       "}}\n",
       "\n",
       "// Listen for the clearing of the current output cell\n",
       "var outputEl = gd.closest('.output');\n",
       "if (outputEl) {{\n",
       "    x.observe(outputEl, {childList: true});\n",
       "}}\n",
       "\n",
       "                        })                };                });            </script>        </div>"
      ]
     },
     "metadata": {},
     "output_type": "display_data"
    }
   ],
   "source": [
    "# create figure\n",
    "fig = go.Figure()\n",
    "hover_text = 'country: ' + df['country'] + \"<br>\" + \\\n",
    "              'experience: ' + df['experienced'].astype(str) + ' %<br>' + \\\n",
    "              'acceptability: ' + df['acceptability'].astype(str) + ' %<br>'\n",
    "            \n",
    "\n",
    "# Add surface trace\n",
    "\n",
    "\n",
    "fig.add_trace(go.Choropleth(z=(df['acceptability']-df['experienced']).values.tolist(),\n",
    "             locations=df['iso_code'].values.tolist(), text=hover_text, hoverinfosrc='text'))\n",
    "\n",
    "fig.add_trace(go.Choropleth(z=df['experienced'].values.tolist(),\n",
    "             locations=df['iso_code'].values.tolist(), text=hover_text, hoverinfosrc='text'))\n",
    "\n",
    "fig.add_trace(go.Choropleth(z=df['acceptability'].values.tolist(),\n",
    "             locations=df['iso_code'].values.tolist(), text=hover_text, hoverinfosrc='text'))\n",
    "\n",
    "fig.update_layout(\n",
    "    updatemenus=[\n",
    "        dict(\n",
    "            type=\"buttons\",\n",
    "            direction=\"right\",\n",
    "            active=0,\n",
    "            x=0.57,\n",
    "            y=1.2,\n",
    "            buttons=list([\n",
    "                dict(label=\"Acceptability\",\n",
    "                     method=\"restyle\",\n",
    "                     args = [{'visible': [False, False, True]}]\n",
    "                    ),\n",
    "                dict(label=\"Experience\",\n",
    "                     method=\"restyle\",\n",
    "                     args=[{'visible': [False, True, False]}]),\n",
    "                dict(label=\"Difference (Acceptatbility-Experience)\",\n",
    "                     method=\"restyle\",\n",
    "                     args = [{'visible': [True, False, False]}]),\n",
    "                    \n",
    "            ]),\n",
    "        showactive=True,)\n",
    "    ])\n",
    "fig.show()"
   ]
  },
  {
   "cell_type": "code",
   "execution_count": null,
   "id": "powered-diabetes",
   "metadata": {},
   "outputs": [],
   "source": []
  }
 ],
 "metadata": {
  "kernelspec": {
   "display_name": "Python 3",
   "language": "python",
   "name": "python3"
  },
  "language_info": {
   "codemirror_mode": {
    "name": "ipython",
    "version": 3
   },
   "file_extension": ".py",
   "mimetype": "text/x-python",
   "name": "python",
   "nbconvert_exporter": "python",
   "pygments_lexer": "ipython3",
   "version": "3.8.0"
  }
 },
 "nbformat": 4,
 "nbformat_minor": 5
}
