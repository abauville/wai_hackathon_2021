{
 "cells": [
  {
   "cell_type": "markdown",
   "id": "neutral-paris",
   "metadata": {},
   "source": [
    "<p style=\"color:darkred; font-family:Futura; font-size:50px; text-align:center\">WaiDatathon 2021 </p>   "
   ]
  },
  {
   "cell_type": "markdown",
   "id": "swedish-password",
   "metadata": {},
   "source": [
    "Warning: This is a work in progress\n",
    "\n",
    "# Content\n",
    "\n",
    "1. #### [Problem description](#prob)\n",
    "1. #### [Setup](#setup)\n",
    "1. #### [Acceptability vs experience of domestic violence](#acc_vs_exp)\n",
    "1. #### [Analysis of the DHS women questionnaireAnalysis of the DHS women questionnaire](#DHS)\n",
    "    1. #### [Feature selection](#feat)\n",
    "    1. #### [Data cleaning](#clean)\n",
    "    1. #### [Exploratory data analysis](#EDA)\n",
    "1. #### [Modeling](#model)\n",
    "    1. #### [Single variable model](#model)\n",
    "    1. #### [Multivariate model](#model)"
   ]
  },
  {
   "cell_type": "markdown",
   "id": "simple-gravity",
   "metadata": {},
   "source": [
    "<a id=\"prob\"></a>\n",
    "<p style=\"color:darkred; font-family:Futura; font-size:40px\">1. Problem description</p>\n",
    "\n",
    "The WaiDatathon 2021 was organized by Women in AI on the theme [\"Combat Domestic Violence with Data & AI\"](https://www.womeninai.co/waidatathon-details). This notebook reproduces our main analysis. \n",
    "\n",
    "Many professionals including social workers, medical professionals, academics, politicians or police agents are working daily to help women in abusive relationships, raise awareness in the general public and overall fight this phenomenon. Despite their efforts domestic violence is still a critical but hidden problem all around the world. When approaching this challenge it was clear for us that no amount of machine learning would solve the problem. Domestic violence is a sensitive and emotional topic for the victims. One of machine learning greatest strength is its ability to automate complex tasks, but domestic violence is a deeply human problem, and we believe that humans are the most important part of the support mechanism. \n",
    "\n",
    "There are three human parties involved in domestic violence: the victim, the abuser and the supporters. We approached the challenge in two parts. Firstly, we addressed the victim's point of view. In particular, we tried to understand the relationships between the attitudes toward domestic and its occurence, and how these are affected by demographic characteristics. Secondly, we tried to provide an additional tools to supporters in order to detect women in danger. For this purpose we proposed a machine learning model that creates a questionnaire to detect early signs of domestic violence. Because the model can be deployed on paper or by dialogue, it is especially suited for developing countries. \n",
    "\n",
    "You can watch our 5-minute competition talk [here](https://lnkd.in/gBupkte)."
   ]
  },
  {
   "cell_type": "markdown",
   "id": "posted-thunder",
   "metadata": {},
   "source": [
    "<a id=\"prob\"></a>\n",
    "<p style=\"color:darkred; font-family:Futura; font-size:40px\">1. Dataset description</p>\n",
    "\n",
    "Our analysis is based on the amazing data from [The Demographic and Health Surveys (DHS) Program](https://www.google.com). This DHS program's goal is to collect, analyze and disseminate accurate and representative data on population, health, HIV and nutrition. It has run more than 400 surveys in 90 countries.\n",
    "\n",
    "The [dataset provided competition](https://data.world/makeovermonday/2020w10/workspace/file?filename=20200306+Data+International+Women%27s+Day+Viz5+Launch.csv) contains the results to the **acceptability question** (see below) aggregated per demographics (e.g. age, education, location). In other terms, this dataset contains information such as \"70% of respondents with a secondary level of education answered 'yes' to a given question\". However, since it does not contain the demographic information and answers of individual respondents it was not possible to cross mutliple information (e.g. age and education) or to build a predictive model. \n",
    "\n",
    "To overcome this difficulty we obtained the complete DHS survey's [women's questionnaire](https://dhsprogram.com/Methodology/Survey-Types/DHS-Questionnaires.cfm#CP_JUMP_16179) for Sub-Saharan countries. This dataset contains the response of individual respondents (samples) to thousands of questions (features). For a given country and a given survey phase the dataset would contain in the order of 10,000 samples and 4200 features. However, due to time constraints and the necessity to clean the data we did not use all the features but selected a subset of 38 questions.\n",
    "\n",
    "For the competition we used data of the DHS survey for Benin and Congo, but to comply with copyright requirements of the DHS program only the example data of the DHS survey or generated by [STATcompiler](https://www.statcompiler.com/) are contained in this github repository. Access to more data is free upon request on the [DHS website](https://dhsprogram.com/data/Using-Datasets-for-Analysis.cfm). This notebook can be used to treat any survey data from the DHS women's questionnaire. However, since the survey questions are revised from one phase to another, some adjustements might be required in the data cleaning process when using earlier phases.\n",
    "\n",
    "Some of the most important features for our analysis were in the form of multiple short questions on a given theme. We treated these questions either as: \n",
    "- individual features\n",
    "- a sum of positive answer (for a given theme)\n",
    "- a boolean value (True if any question on a theme was answered true, False otherwise)\n",
    "\n",
    "Below, we list these questions with their possible answers.\n",
    "\n",
    "# Important questions\n",
    "\n",
    "### Acceptability of violence:\n",
    "\n",
    "Feature names: `v744a - v744f` <br>\n",
    "Possible answers: \n",
    "- 0  No\n",
    "- 1  Yes\n",
    "- 8  Don't know\n",
    "- (m) 9  Missing\n",
    "- (na)    Not applicable\n",
    "\n",
    "In your opinion, is a husband justified in hitting or beating his wife when:\n",
    "- she goes out without telling him?\n",
    "- she neglects the children?\n",
    "- she argues with him?\n",
    "- she refuses to have sex with him?\n",
    "\n",
    "### marital control behaviors:\n",
    "Feature name: `d101a - d101e` <br>\n",
    "Possible answers: see previous  <br>\n",
    "\n",
    "Does your husband: \n",
    "- become jealous or angry if you talks to other men?\n",
    "- frequently accuses you of being unfaithful?\n",
    "- not permit you to meet your female friends?\n",
    "- tries to limit your contact with your family?\n",
    "- insists on knowing where you are at all times?\n",
    "- not trust you with money?\n",
    "\n",
    "\n",
    "\n",
    "\n",
    "\n",
    "### Physical violence:\n",
    "\n",
    "Feature names: `d105a - d105k` <br>\n",
    "Possible answers: <br>\n",
    "- 0  Never\n",
    "- 1  Often\n",
    "- 2  Sometimes\n",
    "- 3  Yes, but not in the last 12 months\n",
    "- 4  Yes, but frequency in last 12 months missing\n",
    "- (m) 9  Missing\n",
    "- (na)    Not applicable\n",
    "\n",
    "Have you even been:\n",
    "- pushed, shook or had something thrown by husband/partner?\n",
    "- slapped by husband/partner?\n",
    "- punched with fist or hit by something harmful by husband/partner?\n",
    "- kicked or dragged by husband/partner?\n",
    "- strangled or burnt by husband/partner?\n",
    "- threatened with knife/gun or other weapon by husband/partner?\n",
    "- physically forced into unwanted sex by husband/partner?\n",
    "- forced into other unwanted sexual acts by husband/partner?\n",
    "- had arm twisted or hair pulled by husband/partner?\n",
    "- physically forced to perform sexual acts respondent didn't want to?\n",
    "\n",
    "### Emotional violence:\n",
    "\n",
    "Feature names: `d103a - d103c` <br>\n",
    "Possible answers: see previous <br>\n",
    "\n",
    "Have you ever benn:\n",
    "- humiliated by husband/partner?\n",
    "- threatened with harm by husband/partner?\n",
    "- insulted or made to feel bad by husband/partner?"
   ]
  },
  {
   "cell_type": "markdown",
   "id": "coastal-marshall",
   "metadata": {},
   "source": [
    "<a id=\"acc_vs_exp\"></a>\n",
    "<p style=\"color:darkred; font-family:Futura; font-size:40px\">2. Setup</p>\n",
    "First we import libraries, customize figure output and load the data."
   ]
  },
  {
   "cell_type": "code",
   "execution_count": 9,
   "id": "bibliographic-sustainability",
   "metadata": {},
   "outputs": [],
   "source": [
    "# Import libraries\n",
    "import matplotlib.pyplot as plt\n",
    "import matplotlib as mpl\n",
    "import pandas as pd\n",
    "import numpy as np\n",
    "import seaborn as sns\n",
    "import plotly.express as px\n",
    "import plotly.graph_objects as go\n",
    "\n",
    "# Customize figure output\n",
    "plt.style.use('seaborn')\n",
    "mpl.rc('font', size=18)\n",
    "mpl.rc('axes', labelsize='large')\n",
    "mpl.rc('xtick', labelsize='large')\n",
    "mpl.rc('ytick', labelsize='large')\n",
    "\n",
    "plt.rcParams['figure.figsize'] = [20, 10] # For larger plots\n",
    "\n"
   ]
  },
  {
   "cell_type": "markdown",
   "id": "latter-garlic",
   "metadata": {},
   "source": [
    "<a id=\"acc_vs_exp\"></a>\n",
    "<p style=\"color:darkred; font-family:Futura; font-size:40px\">3. Acceptability vs experience of domestic violence</p>"
   ]
  },
  {
   "cell_type": "code",
   "execution_count": 250,
   "id": "neural-average",
   "metadata": {},
   "outputs": [
    {
     "name": "stderr",
     "output_type": "stream",
     "text": [
      "<ipython-input-250-b1852465d640>:2: ParserWarning:\n",
      "\n",
      "Falling back to the 'python' engine because the 'c' engine does not support skipfooter; you can avoid this warning by specifying engine='python'.\n",
      "\n"
     ]
    }
   ],
   "source": [
    "# df = pd.read_csv('./Data/acceptability_vs_experienced_coord.csv')\n",
    "df = pd.read_csv('./Data/DHS_summary_world.csv', skiprows=1, skipfooter=11)\n",
    "df = df.merge(pd.read_csv('./Data/iso_alpha_list.csv'),\n",
    "              left_on='Country', right_on='country',how='left')\n",
    "# Sample only the most recent survey for each country\n",
    "country_list = df['Country'].unique().tolist()\n",
    "temp = [df[df['Country']==country].reset_index().iloc[0] for country in country_list]\n",
    "df = pd.DataFrame(temp).reset_index().drop(columns=['level_0','index'])"
   ]
  },
  {
   "cell_type": "code",
   "execution_count": 322,
   "id": "promotional-contact",
   "metadata": {},
   "outputs": [
    {
     "data": {
      "application/vnd.plotly.v1+json": {
       "config": {
        "plotlyServerURL": "https://plot.ly"
       },
       "data": [
        {
         "line": {
          "color": "red",
          "width": 1
         },
         "name": "Regression [Men]",
         "type": "scatter",
         "x": [
          3.9,
          4.5919191919191915,
          5.283838383838384,
          5.975757575757576,
          6.667676767676768,
          7.35959595959596,
          8.05151515151515,
          8.743434343434343,
          9.435353535353535,
          10.127272727272727,
          10.819191919191919,
          11.511111111111111,
          12.203030303030303,
          12.894949494949495,
          13.586868686868687,
          14.27878787878788,
          14.970707070707071,
          15.662626262626263,
          16.354545454545455,
          17.046464646464646,
          17.73838383838384,
          18.43030303030303,
          19.122222222222224,
          19.814141414141414,
          20.506060606060604,
          21.197979797979798,
          21.889898989898988,
          22.581818181818182,
          23.273737373737372,
          23.965656565656566,
          24.657575757575756,
          25.34949494949495,
          26.04141414141414,
          26.73333333333333,
          27.425252525252525,
          28.117171717171715,
          28.80909090909091,
          29.5010101010101,
          30.192929292929293,
          30.884848484848483,
          31.576767676767677,
          32.26868686868687,
          32.96060606060606,
          33.65252525252525,
          34.34444444444445,
          35.03636363636364,
          35.72828282828283,
          36.42020202020202,
          37.11212121212121,
          37.8040404040404,
          38.4959595959596,
          39.18787878787879,
          39.87979797979798,
          40.57171717171717,
          41.263636363636365,
          41.955555555555556,
          42.647474747474746,
          43.339393939393936,
          44.031313131313134,
          44.723232323232324,
          45.415151515151514,
          46.107070707070704,
          46.7989898989899,
          47.49090909090909,
          48.18282828282828,
          48.87474747474747,
          49.56666666666666,
          50.25858585858586,
          50.95050505050505,
          51.64242424242424,
          52.33434343434343,
          53.02626262626263,
          53.71818181818182,
          54.41010101010101,
          55.1020202020202,
          55.7939393939394,
          56.48585858585859,
          57.17777777777778,
          57.86969696969697,
          58.561616161616165,
          59.253535353535355,
          59.945454545454545,
          60.637373737373736,
          61.329292929292926,
          62.02121212121212,
          62.71313131313131,
          63.405050505050504,
          64.0969696969697,
          64.78888888888889,
          65.48080808080809,
          66.17272727272727,
          66.86464646464647,
          67.55656565656567,
          68.24848484848485,
          68.94040404040405,
          69.63232323232324,
          70.32424242424243,
          71.01616161616163,
          71.70808080808081,
          72.4
         ],
         "y": [
          7.541971051495775,
          7.795556154840328,
          8.049141258184882,
          8.302726361529434,
          8.556311464873987,
          8.80989656821854,
          9.063481671563094,
          9.317066774907648,
          9.570651878252201,
          9.824236981596755,
          10.077822084941307,
          10.331407188285862,
          10.584992291630414,
          10.838577394974967,
          11.09216249831952,
          11.345747601664074,
          11.599332705008628,
          11.852917808353181,
          12.106502911697735,
          12.360088015042287,
          12.613673118386842,
          12.867258221731394,
          13.120843325075947,
          13.3744284284205,
          13.628013531765053,
          13.881598635109608,
          14.13518373845416,
          14.388768841798713,
          14.642353945143267,
          14.89593904848782,
          15.149524151832374,
          15.403109255176927,
          15.656694358521479,
          15.910279461866033,
          16.163864565210588,
          16.41744966855514,
          16.67103477189969,
          16.924619875244247,
          17.178204978588802,
          17.43179008193335,
          17.685375185277906,
          17.93896028862246,
          18.192545391967013,
          18.446130495311564,
          18.69971559865612,
          18.953300702000675,
          19.206885805345227,
          19.46047090868978,
          19.714056012034334,
          19.967641115378886,
          20.22122621872344,
          20.474811322067993,
          20.728396425412548,
          20.981981528757096,
          21.23556663210165,
          21.489151735446207,
          21.74273683879076,
          21.99632194213531,
          22.249907045479866,
          22.50349214882442,
          22.757077252168973,
          23.010662355513524,
          23.26424745885808,
          23.51783256220263,
          23.771417665547187,
          24.02500276889174,
          24.27858787223629,
          24.532172975580846,
          24.785758078925397,
          25.039343182269953,
          25.292928285614504,
          25.54651338895906,
          25.80009849230361,
          26.053683595648167,
          26.30726869899272,
          26.560853802337274,
          26.814438905681826,
          27.068024009026377,
          27.321609112370933,
          27.575194215715488,
          27.82877931906004,
          28.08236442240459,
          28.335949525749143,
          28.5895346290937,
          28.843119732438254,
          29.096704835782806,
          29.350289939127357,
          29.60387504247191,
          29.857460145816464,
          30.11104524916102,
          30.36463035250557,
          30.618215455850127,
          30.871800559194682,
          31.125385662539234,
          31.378970765883786,
          31.63255586922834,
          31.886140972572893,
          32.13972607591745,
          32.393311179262,
          32.646896282606555
         ]
        },
        {
         "line": {
          "color": "blue",
          "width": 1
         },
         "name": "Regression [Women]",
         "type": "scatter",
         "x": [
          2.3,
          3.0868686868686868,
          3.8737373737373737,
          4.66060606060606,
          5.447474747474748,
          6.234343434343435,
          7.0212121212121215,
          7.808080808080809,
          8.594949494949496,
          9.381818181818183,
          10.16868686868687,
          10.955555555555556,
          11.742424242424242,
          12.529292929292929,
          13.316161616161619,
          14.103030303030305,
          14.889898989898992,
          15.676767676767678,
          16.463636363636365,
          17.25050505050505,
          18.037373737373738,
          18.824242424242428,
          19.611111111111114,
          20.3979797979798,
          21.184848484848487,
          21.971717171717174,
          22.75858585858586,
          23.545454545454547,
          24.332323232323237,
          25.119191919191923,
          25.90606060606061,
          26.692929292929296,
          27.479797979797983,
          28.26666666666667,
          29.053535353535356,
          29.840404040404042,
          30.62727272727273,
          31.41414141414142,
          32.201010101010105,
          32.98787878787879,
          33.77474747474748,
          34.561616161616165,
          35.34848484848485,
          36.13535353535354,
          36.922222222222224,
          37.70909090909091,
          38.4959595959596,
          39.282828282828284,
          40.06969696969697,
          40.85656565656566,
          41.64343434343434,
          42.43030303030303,
          43.217171717171716,
          44.0040404040404,
          44.79090909090909,
          45.577777777777776,
          46.36464646464647,
          47.151515151515156,
          47.93838383838384,
          48.72525252525253,
          49.512121212121215,
          50.2989898989899,
          51.08585858585859,
          51.872727272727275,
          52.65959595959596,
          53.44646464646465,
          54.233333333333334,
          55.02020202020202,
          55.80707070707071,
          56.593939393939394,
          57.38080808080808,
          58.16767676767677,
          58.95454545454545,
          59.74141414141415,
          60.52828282828283,
          61.31515151515152,
          62.102020202020206,
          62.88888888888889,
          63.67575757575758,
          64.46262626262627,
          65.24949494949496,
          66.03636363636365,
          66.82323232323233,
          67.61010101010102,
          68.3969696969697,
          69.18383838383839,
          69.97070707070708,
          70.75757575757576,
          71.54444444444445,
          72.33131313131314,
          73.11818181818182,
          73.90505050505051,
          74.6919191919192,
          75.47878787878788,
          76.26565656565657,
          77.05252525252526,
          77.83939393939394,
          78.62626262626263,
          79.41313131313132,
          80.2
         ],
         "y": [
          7.962411620705922,
          8.155851408789665,
          8.349291196873407,
          8.54273098495715,
          8.736170773040893,
          8.929610561124635,
          9.123050349208379,
          9.31649013729212,
          9.509929925375864,
          9.703369713459606,
          9.896809501543348,
          10.090249289627092,
          10.283689077710834,
          10.477128865794576,
          10.67056865387832,
          10.864008441962064,
          11.057448230045805,
          11.250888018129547,
          11.444327806213291,
          11.637767594297033,
          11.831207382380775,
          12.024647170464519,
          12.218086958548263,
          12.411526746632005,
          12.604966534715746,
          12.79840632279949,
          12.991846110883232,
          13.185285898966974,
          13.378725687050718,
          13.572165475134462,
          13.765605263218204,
          13.959045051301946,
          14.15248483938569,
          14.345924627469431,
          14.539364415553173,
          14.732804203636917,
          14.926243991720659,
          15.1196837798044,
          15.313123567888145,
          15.506563355971887,
          15.70000314405563,
          15.893442932139372,
          16.086882720223116,
          16.28032250830686,
          16.4737622963906,
          16.667202084474344,
          16.860641872558084,
          17.054081660641828,
          17.24752144872557,
          17.440961236809315,
          17.634401024893055,
          17.8278408129768,
          18.02128060106054,
          18.214720389144283,
          18.408160177228027,
          18.60159996531177,
          18.795039753395514,
          18.988479541479258,
          19.181919329562998,
          19.375359117646738,
          19.568798905730482,
          19.762238693814226,
          19.95567848189797,
          20.149118269981713,
          20.342558058065453,
          20.535997846149197,
          20.729437634232937,
          20.92287742231668,
          21.116317210400425,
          21.30975699848417,
          21.50319678656791,
          21.696636574651652,
          21.890076362735392,
          22.083516150819136,
          22.27695593890288,
          22.470395726986624,
          22.663835515070367,
          22.85727530315411,
          23.05071509123785,
          23.244154879321595,
          23.43759466740534,
          23.631034455489083,
          23.824474243572823,
          24.017914031656566,
          24.21135381974031,
          24.40479360782405,
          24.598233395907794,
          24.791673183991538,
          24.985112972075278,
          25.17855276015902,
          25.371992548242766,
          25.565432336326506,
          25.75887212441025,
          25.952311912493993,
          26.145751700577733,
          26.339191488661477,
          26.53263127674522,
          26.72607106482896,
          26.919510852912705,
          27.11295064099645
         ]
        },
        {
         "line": {
          "color": "rgb(200,200,200)",
          "width": 1
         },
         "marker": {
          "color": [
           "red",
           "blue"
          ]
         },
         "name": "Afghanistan",
         "type": "scatter",
         "x": [
          72.4,
          80.2
         ],
         "y": [
          45.8,
          45.8
         ]
        },
        {
         "line": {
          "color": "rgb(200,200,200)",
          "width": 1
         },
         "marker": {
          "color": [
           "red",
           "blue"
          ]
         },
         "name": "Albania",
         "type": "scatter",
         "x": [
          11.2,
          6.8
         ],
         "y": [
          null,
          null
         ]
        },
        {
         "line": {
          "color": "rgb(200,200,200)",
          "width": 1
         },
         "marker": {
          "color": [
           "red",
           "blue"
          ]
         },
         "name": "Angola",
         "type": "scatter",
         "x": [
          19.8,
          25.2
         ],
         "y": [
          24.3,
          24.3
         ]
        },
        {
         "line": {
          "color": "rgb(200,200,200)",
          "width": 1
         },
         "marker": {
          "color": [
           "red",
           "blue"
          ]
         },
         "name": "Armenia",
         "type": "scatter",
         "x": [
          22.6,
          10.1
         ],
         "y": [
          3.5,
          3.5
         ]
        },
        {
         "line": {
          "color": "rgb(200,200,200)",
          "width": 1
         },
         "marker": {
          "color": [
           "red",
           "blue"
          ]
         },
         "name": "Azerbaijan",
         "type": "scatter",
         "x": [
          56.9,
          49
         ],
         "y": [
          9.3,
          9.3
         ]
        },
        {
         "line": {
          "color": "rgb(200,200,200)",
          "width": 1
         },
         "marker": {
          "color": [
           "red",
           "blue"
          ]
         },
         "name": "Bangladesh",
         "type": "scatter",
         "x": [
          null,
          20.1
         ],
         "y": [
          null,
          null
         ]
        },
        {
         "line": {
          "color": "rgb(200,200,200)",
          "width": 1
         },
         "marker": {
          "color": [
           "red",
           "blue"
          ]
         },
         "name": "Benin",
         "type": "scatter",
         "x": [
          14.9,
          31.8
         ],
         "y": [
          11.2,
          11.2
         ]
        },
        {
         "line": {
          "color": "rgb(200,200,200)",
          "width": 1
         },
         "marker": {
          "color": [
           "red",
           "blue"
          ]
         },
         "name": "Bolivia",
         "type": "scatter",
         "x": [
          null,
          16.1
         ],
         "y": [
          null,
          null
         ]
        },
        {
         "line": {
          "color": "rgb(200,200,200)",
          "width": 1
         },
         "marker": {
          "color": [
           "red",
           "blue"
          ]
         },
         "name": "Burkina Faso",
         "type": "scatter",
         "x": [
          33.4,
          43.5
         ],
         "y": [
          8.9,
          8.9
         ]
        },
        {
         "line": {
          "color": "rgb(200,200,200)",
          "width": 1
         },
         "marker": {
          "color": [
           "red",
           "blue"
          ]
         },
         "name": "Burundi",
         "type": "scatter",
         "x": [
          34,
          61.8
         ],
         "y": [
          17.9,
          17.9
         ]
        },
        {
         "line": {
          "color": "rgb(200,200,200)",
          "width": 1
         },
         "marker": {
          "color": [
           "red",
           "blue"
          ]
         },
         "name": "Cambodia",
         "type": "scatter",
         "x": [
          26.1,
          49.8
         ],
         "y": [
          9.3,
          9.3
         ]
        },
        {
         "line": {
          "color": "rgb(200,200,200)",
          "width": 1
         },
         "marker": {
          "color": [
           "red",
           "blue"
          ]
         },
         "name": "Cameroon",
         "type": "scatter",
         "x": [
          28.2,
          27.7
         ],
         "y": [
          19.6,
          19.6
         ]
        },
        {
         "line": {
          "color": "rgb(200,200,200)",
          "width": 1
         },
         "marker": {
          "color": [
           "red",
           "blue"
          ]
         },
         "name": "Chad",
         "type": "scatter",
         "x": [
          49.4,
          73.5
         ],
         "y": [
          15.6,
          15.6
         ]
        },
        {
         "line": {
          "color": "rgb(200,200,200)",
          "width": 1
         },
         "marker": {
          "color": [
           "red",
           "blue"
          ]
         },
         "name": "Colombia",
         "type": "scatter",
         "x": [
          4.3,
          3.1
         ],
         "y": [
          null,
          null
         ]
        },
        {
         "line": {
          "color": "rgb(200,200,200)",
          "width": 1
         },
         "marker": {
          "color": [
           "red",
           "blue"
          ]
         },
         "name": "Comoros",
         "type": "scatter",
         "x": [
          16.2,
          39
         ],
         "y": [
          4.3,
          4.3
         ]
        },
        {
         "line": {
          "color": "rgb(200,200,200)",
          "width": 1
         },
         "marker": {
          "color": [
           "red",
           "blue"
          ]
         },
         "name": "Congo",
         "type": "scatter",
         "x": [
          41.5,
          60.7
         ],
         "y": [
          null,
          null
         ]
        },
        {
         "line": {
          "color": "rgb(200,200,200)",
          "width": 1
         },
         "marker": {
          "color": [
           "red",
           "blue"
          ]
         },
         "name": "Congo Democratic Republic",
         "type": "scatter",
         "x": [
          59.5,
          74.8
         ],
         "y": [
          30.3,
          30.3
         ]
        },
        {
         "line": {
          "color": "rgb(200,200,200)",
          "width": 1
         },
         "marker": {
          "color": [
           "red",
           "blue"
          ]
         },
         "name": "Cote d'Ivoire",
         "type": "scatter",
         "x": [
          41,
          47.9
         ],
         "y": [
          21.3,
          21.3
         ]
        },
        {
         "line": {
          "color": "rgb(200,200,200)",
          "width": 1
         },
         "marker": {
          "color": [
           "red",
           "blue"
          ]
         },
         "name": "Dominican Republic",
         "type": "scatter",
         "x": [
          3.9,
          2.3
         ],
         "y": [
          15.1,
          15.1
         ]
        },
        {
         "line": {
          "color": "rgb(200,200,200)",
          "width": 1
         },
         "marker": {
          "color": [
           "red",
           "blue"
          ]
         },
         "name": "Egypt",
         "type": "scatter",
         "x": [
          null,
          35.7
         ],
         "y": [
          13.5,
          13.5
         ]
        },
        {
         "line": {
          "color": "rgb(200,200,200)",
          "width": 1
         },
         "marker": {
          "color": [
           "red",
           "blue"
          ]
         },
         "name": "Eritrea",
         "type": "scatter",
         "x": [
          null,
          70.7
         ],
         "y": [
          null,
          null
         ]
        },
        {
         "line": {
          "color": "rgb(200,200,200)",
          "width": 1
         },
         "marker": {
          "color": [
           "red",
           "blue"
          ]
         },
         "name": "Eswatini",
         "type": "scatter",
         "x": [
          31.3,
          23.2
         ],
         "y": [
          null,
          null
         ]
        },
        {
         "line": {
          "color": "rgb(200,200,200)",
          "width": 1
         },
         "marker": {
          "color": [
           "red",
           "blue"
          ]
         },
         "name": "Ethiopia",
         "type": "scatter",
         "x": [
          27.6,
          63
         ],
         "y": [
          16.9,
          16.9
         ]
        },
        {
         "line": {
          "color": "rgb(200,200,200)",
          "width": 1
         },
         "marker": {
          "color": [
           "red",
           "blue"
          ]
         },
         "name": "Gabon",
         "type": "scatter",
         "x": [
          38.6,
          50.2
         ],
         "y": [
          28.5,
          28.5
         ]
        },
        {
         "line": {
          "color": "rgb(200,200,200)",
          "width": 1
         },
         "marker": {
          "color": [
           "red",
           "blue"
          ]
         },
         "name": "Gambia",
         "type": "scatter",
         "x": [
          32.3,
          58.4
         ],
         "y": [
          6.9,
          6.9
         ]
        },
        {
         "line": {
          "color": "rgb(200,200,200)",
          "width": 1
         },
         "marker": {
          "color": [
           "red",
           "blue"
          ]
         },
         "name": "Ghana",
         "type": "scatter",
         "x": [
          12.5,
          28.3
         ],
         "y": [
          null,
          null
         ]
        },
        {
         "line": {
          "color": "rgb(200,200,200)",
          "width": 1
         },
         "marker": {
          "color": [
           "red",
           "blue"
          ]
         },
         "name": "Guatemala",
         "type": "scatter",
         "x": [
          7,
          11
         ],
         "y": [
          7.9,
          7.9
         ]
        },
        {
         "line": {
          "color": "rgb(200,200,200)",
          "width": 1
         },
         "marker": {
          "color": [
           "red",
           "blue"
          ]
         },
         "name": "Guinea",
         "type": "scatter",
         "x": [
          54.7,
          67.2
         ],
         "y": [
          null,
          null
         ]
        },
        {
         "line": {
          "color": "rgb(200,200,200)",
          "width": 1
         },
         "marker": {
          "color": [
           "red",
           "blue"
          ]
         },
         "name": "Guyana",
         "type": "scatter",
         "x": [
          19.3,
          16.3
         ],
         "y": [
          null,
          null
         ]
        },
        {
         "line": {
          "color": "rgb(200,200,200)",
          "width": 1
         },
         "marker": {
          "color": [
           "red",
           "blue"
          ]
         },
         "name": "Haiti",
         "type": "scatter",
         "x": [
          10,
          16.6
         ],
         "y": [
          10.1,
          10.1
         ]
        },
        {
         "line": {
          "color": "rgb(200,200,200)",
          "width": 1
         },
         "marker": {
          "color": [
           "red",
           "blue"
          ]
         },
         "name": "Honduras",
         "type": "scatter",
         "x": [
          9.4,
          12.4
         ],
         "y": [
          10,
          10
         ]
        },
        {
         "line": {
          "color": "rgb(200,200,200)",
          "width": 1
         },
         "marker": {
          "color": [
           "red",
           "blue"
          ]
         },
         "name": "India",
         "type": "scatter",
         "x": [
          31.7,
          44.6
         ],
         "y": [
          20.6,
          20.6
         ]
        },
        {
         "line": {
          "color": "rgb(200,200,200)",
          "width": 1
         },
         "marker": {
          "color": [
           "red",
           "blue"
          ]
         },
         "name": "Indonesia",
         "type": "scatter",
         "x": [
          null,
          32
         ],
         "y": [
          null,
          null
         ]
        },
        {
         "line": {
          "color": "rgb(200,200,200)",
          "width": 1
         },
         "marker": {
          "color": [
           "red",
           "blue"
          ]
         },
         "name": "Jordan",
         "type": "scatter",
         "x": [
          29.5,
          14.1
         ],
         "y": [
          12.7,
          12.7
         ]
        },
        {
         "line": {
          "color": "rgb(200,200,200)",
          "width": 1
         },
         "marker": {
          "color": [
           "red",
           "blue"
          ]
         },
         "name": "Kenya",
         "type": "scatter",
         "x": [
          36.2,
          41.8
         ],
         "y": [
          22.7,
          22.7
         ]
        },
        {
         "line": {
          "color": "rgb(200,200,200)",
          "width": 1
         },
         "marker": {
          "color": [
           "red",
           "blue"
          ]
         },
         "name": "Kyrgyz Republic",
         "type": "scatter",
         "x": [
          50.4,
          33.7
         ],
         "y": [
          16.9,
          16.9
         ]
        },
        {
         "line": {
          "color": "rgb(200,200,200)",
          "width": 1
         },
         "marker": {
          "color": [
           "red",
           "blue"
          ]
         },
         "name": "Lesotho",
         "type": "scatter",
         "x": [
          38.8,
          33.3
         ],
         "y": [
          null,
          null
         ]
        },
        {
         "line": {
          "color": "rgb(200,200,200)",
          "width": 1
         },
         "marker": {
          "color": [
           "red",
           "blue"
          ]
         },
         "name": "Liberia",
         "type": "scatter",
         "x": [
          24.2,
          42.5
         ],
         "y": [
          null,
          null
         ]
        },
        {
         "line": {
          "color": "rgb(200,200,200)",
          "width": 1
         },
         "marker": {
          "color": [
           "red",
           "blue"
          ]
         },
         "name": "Madagascar",
         "type": "scatter",
         "x": [
          29.1,
          32.3
         ],
         "y": [
          null,
          null
         ]
        },
        {
         "line": {
          "color": "rgb(200,200,200)",
          "width": 1
         },
         "marker": {
          "color": [
           "red",
           "blue"
          ]
         },
         "name": "Malawi",
         "type": "scatter",
         "x": [
          12.7,
          16.3
         ],
         "y": [
          16.3,
          16.3
         ]
        },
        {
         "line": {
          "color": "rgb(200,200,200)",
          "width": 1
         },
         "marker": {
          "color": [
           "red",
           "blue"
          ]
         },
         "name": "Maldives",
         "type": "scatter",
         "x": [
          18.1,
          22
         ],
         "y": [
          5.5,
          5.5
         ]
        },
        {
         "line": {
          "color": "rgb(200,200,200)",
          "width": 1
         },
         "marker": {
          "color": [
           "red",
           "blue"
          ]
         },
         "name": "Mali",
         "type": "scatter",
         "x": [
          45.7,
          79.4
         ],
         "y": [
          18.1,
          18.1
         ]
        },
        {
         "line": {
          "color": "rgb(200,200,200)",
          "width": 1
         },
         "marker": {
          "color": [
           "red",
           "blue"
          ]
         },
         "name": "Moldova",
         "type": "scatter",
         "x": [
          21.7,
          20.8
         ],
         "y": [
          14.1,
          14.1
         ]
        },
        {
         "line": {
          "color": "rgb(200,200,200)",
          "width": 1
         },
         "marker": {
          "color": [
           "red",
           "blue"
          ]
         },
         "name": "Morocco",
         "type": "scatter",
         "x": [
          null,
          63.9
         ],
         "y": [
          null,
          null
         ]
        },
        {
         "line": {
          "color": "rgb(200,200,200)",
          "width": 1
         },
         "marker": {
          "color": [
           "red",
           "blue"
          ]
         },
         "name": "Mozambique",
         "type": "scatter",
         "x": [
          16.4,
          13.3
         ],
         "y": [
          14.7,
          14.7
         ]
        },
        {
         "line": {
          "color": "rgb(200,200,200)",
          "width": 1
         },
         "marker": {
          "color": [
           "red",
           "blue"
          ]
         },
         "name": "Myanmar",
         "type": "scatter",
         "x": [
          49,
          51.2
         ],
         "y": [
          10.2,
          10.2
         ]
        },
        {
         "line": {
          "color": "rgb(200,200,200)",
          "width": 1
         },
         "marker": {
          "color": [
           "red",
           "blue"
          ]
         },
         "name": "Namibia",
         "type": "scatter",
         "x": [
          21.3,
          28.2
         ],
         "y": [
          18.7,
          18.7
         ]
        },
        {
         "line": {
          "color": "rgb(200,200,200)",
          "width": 1
         },
         "marker": {
          "color": [
           "red",
           "blue"
          ]
         },
         "name": "Nepal",
         "type": "scatter",
         "x": [
          22.9,
          28.5
         ],
         "y": [
          10,
          10
         ]
        },
        {
         "line": {
          "color": "rgb(200,200,200)",
          "width": 1
         },
         "marker": {
          "color": [
           "red",
           "blue"
          ]
         },
         "name": "Nicaragua",
         "type": "scatter",
         "x": [
          null,
          12.5
         ],
         "y": [
          null,
          null
         ]
        },
        {
         "line": {
          "color": "rgb(200,200,200)",
          "width": 1
         },
         "marker": {
          "color": [
           "red",
           "blue"
          ]
         },
         "name": "Niger",
         "type": "scatter",
         "x": [
          26,
          59.6
         ],
         "y": [
          null,
          null
         ]
        },
        {
         "line": {
          "color": "rgb(200,200,200)",
          "width": 1
         },
         "marker": {
          "color": [
           "red",
           "blue"
          ]
         },
         "name": "Nigeria",
         "type": "scatter",
         "x": [
          20.1,
          28
         ],
         "y": [
          11.8,
          11.8
         ]
        },
        {
         "line": {
          "color": "rgb(200,200,200)",
          "width": 1
         },
         "marker": {
          "color": [
           "red",
           "blue"
          ]
         },
         "name": "Pakistan",
         "type": "scatter",
         "x": [
          37.4,
          41.1
         ],
         "y": [
          13.6,
          13.6
         ]
        },
        {
         "line": {
          "color": "rgb(200,200,200)",
          "width": 1
         },
         "marker": {
          "color": [
           "red",
           "blue"
          ]
         },
         "name": "Papua New Guinea",
         "type": "scatter",
         "x": [
          71.9,
          69.8
         ],
         "y": [
          44.4,
          44.4
         ]
        },
        {
         "line": {
          "color": "rgb(200,200,200)",
          "width": 1
         },
         "marker": {
          "color": [
           "red",
           "blue"
          ]
         },
         "name": "Peru",
         "type": "scatter",
         "x": [
          null,
          3.5
         ],
         "y": [
          12.1,
          12.1
         ]
        },
        {
         "line": {
          "color": "rgb(200,200,200)",
          "width": 1
         },
         "marker": {
          "color": [
           "red",
           "blue"
          ]
         },
         "name": "Philippines",
         "type": "scatter",
         "x": [
          null,
          10.9
         ],
         "y": [
          4.4,
          4.4
         ]
        },
        {
         "line": {
          "color": "rgb(200,200,200)",
          "width": 1
         },
         "marker": {
          "color": [
           "red",
           "blue"
          ]
         },
         "name": "Rwanda",
         "type": "scatter",
         "x": [
          17.1,
          41.4
         ],
         "y": [
          17.6,
          17.6
         ]
        },
        {
         "line": {
          "color": "rgb(200,200,200)",
          "width": 1
         },
         "marker": {
          "color": [
           "red",
           "blue"
          ]
         },
         "name": "Sao Tome and Principe",
         "type": "scatter",
         "x": [
          21.4,
          19.5
         ],
         "y": [
          25.5,
          25.5
         ]
        },
        {
         "line": {
          "color": "rgb(200,200,200)",
          "width": 1
         },
         "marker": {
          "color": [
           "red",
           "blue"
          ]
         },
         "name": "Senegal",
         "type": "scatter",
         "x": [
          22.5,
          39.1
         ],
         "y": [
          4.6,
          4.6
         ]
        },
        {
         "line": {
          "color": "rgb(200,200,200)",
          "width": 1
         },
         "marker": {
          "color": [
           "red",
           "blue"
          ]
         },
         "name": "Sierra Leone",
         "type": "scatter",
         "x": [
          29.9,
          48.6
         ],
         "y": [
          38.4,
          38.4
         ]
        },
        {
         "line": {
          "color": "rgb(200,200,200)",
          "width": 1
         },
         "marker": {
          "color": [
           "red",
           "blue"
          ]
         },
         "name": "South Africa",
         "type": "scatter",
         "x": [
          8.9,
          5.5
         ],
         "y": [
          9,
          9
         ]
        },
        {
         "line": {
          "color": "rgb(200,200,200)",
          "width": 1
         },
         "marker": {
          "color": [
           "red",
           "blue"
          ]
         },
         "name": "Tajikistan",
         "type": "scatter",
         "x": [
          null,
          63.6
         ],
         "y": [
          18.7,
          18.7
         ]
        },
        {
         "line": {
          "color": "rgb(200,200,200)",
          "width": 1
         },
         "marker": {
          "color": [
           "red",
           "blue"
          ]
         },
         "name": "Tanzania",
         "type": "scatter",
         "x": [
          39.6,
          58
         ],
         "y": [
          27.1,
          27.1
         ]
        },
        {
         "line": {
          "color": "rgb(200,200,200)",
          "width": 1
         },
         "marker": {
          "color": [
           "red",
           "blue"
          ]
         },
         "name": "Timor-Leste",
         "type": "scatter",
         "x": [
          51.6,
          74
         ],
         "y": [
          33.1,
          33.1
         ]
        },
        {
         "line": {
          "color": "rgb(200,200,200)",
          "width": 1
         },
         "marker": {
          "color": [
           "red",
           "blue"
          ]
         },
         "name": "Togo",
         "type": "scatter",
         "x": [
          17.6,
          28.7
         ],
         "y": [
          10.8,
          10.8
         ]
        },
        {
         "line": {
          "color": "rgb(200,200,200)",
          "width": 1
         },
         "marker": {
          "color": [
           "red",
           "blue"
          ]
         },
         "name": "Turkey",
         "type": "scatter",
         "x": [
          null,
          13.3
         ],
         "y": [
          null,
          null
         ]
        },
        {
         "line": {
          "color": "rgb(200,200,200)",
          "width": 1
         },
         "marker": {
          "color": [
           "red",
           "blue"
          ]
         },
         "name": "Turkmenistan",
         "type": "scatter",
         "x": [
          null,
          51.7
         ],
         "y": [
          null,
          null
         ]
        },
        {
         "line": {
          "color": "rgb(200,200,200)",
          "width": 1
         },
         "marker": {
          "color": [
           "red",
           "blue"
          ]
         },
         "name": "Uganda",
         "type": "scatter",
         "x": [
          40.1,
          49
         ],
         "y": [
          22.5,
          22.5
         ]
        },
        {
         "line": {
          "color": "rgb(200,200,200)",
          "width": 1
         },
         "marker": {
          "color": [
           "red",
           "blue"
          ]
         },
         "name": "Ukraine",
         "type": "scatter",
         "x": [
          11.1,
          3.6
         ],
         "y": [
          10,
          10
         ]
        },
        {
         "line": {
          "color": "rgb(200,200,200)",
          "width": 1
         },
         "marker": {
          "color": [
           "red",
           "blue"
          ]
         },
         "name": "Yemen",
         "type": "scatter",
         "x": [
          null,
          48.7
         ],
         "y": [
          null,
          null
         ]
        },
        {
         "line": {
          "color": "rgb(200,200,200)",
          "width": 1
         },
         "marker": {
          "color": [
           "red",
           "blue"
          ]
         },
         "name": "Zambia",
         "type": "scatter",
         "x": [
          24.1,
          45.1
         ],
         "y": [
          21.1,
          21.1
         ]
        },
        {
         "line": {
          "color": "rgb(200,200,200)",
          "width": 1
         },
         "marker": {
          "color": [
           "red",
           "blue"
          ]
         },
         "name": "Zimbabwe",
         "type": "scatter",
         "x": [
          32.3,
          38.7
         ],
         "y": [
          15.3,
          15.3
         ]
        }
       ],
       "layout": {
        "autosize": true,
        "legend": {
         "title": {
          "text": "country"
         }
        },
        "template": {
         "data": {
          "bar": [
           {
            "error_x": {
             "color": "#2a3f5f"
            },
            "error_y": {
             "color": "#2a3f5f"
            },
            "marker": {
             "line": {
              "color": "#E5ECF6",
              "width": 0.5
             }
            },
            "type": "bar"
           }
          ],
          "barpolar": [
           {
            "marker": {
             "line": {
              "color": "#E5ECF6",
              "width": 0.5
             }
            },
            "type": "barpolar"
           }
          ],
          "carpet": [
           {
            "aaxis": {
             "endlinecolor": "#2a3f5f",
             "gridcolor": "white",
             "linecolor": "white",
             "minorgridcolor": "white",
             "startlinecolor": "#2a3f5f"
            },
            "baxis": {
             "endlinecolor": "#2a3f5f",
             "gridcolor": "white",
             "linecolor": "white",
             "minorgridcolor": "white",
             "startlinecolor": "#2a3f5f"
            },
            "type": "carpet"
           }
          ],
          "choropleth": [
           {
            "colorbar": {
             "outlinewidth": 0,
             "ticks": ""
            },
            "type": "choropleth"
           }
          ],
          "contour": [
           {
            "colorbar": {
             "outlinewidth": 0,
             "ticks": ""
            },
            "colorscale": [
             [
              0,
              "#0d0887"
             ],
             [
              0.1111111111111111,
              "#46039f"
             ],
             [
              0.2222222222222222,
              "#7201a8"
             ],
             [
              0.3333333333333333,
              "#9c179e"
             ],
             [
              0.4444444444444444,
              "#bd3786"
             ],
             [
              0.5555555555555556,
              "#d8576b"
             ],
             [
              0.6666666666666666,
              "#ed7953"
             ],
             [
              0.7777777777777778,
              "#fb9f3a"
             ],
             [
              0.8888888888888888,
              "#fdca26"
             ],
             [
              1,
              "#f0f921"
             ]
            ],
            "type": "contour"
           }
          ],
          "contourcarpet": [
           {
            "colorbar": {
             "outlinewidth": 0,
             "ticks": ""
            },
            "type": "contourcarpet"
           }
          ],
          "heatmap": [
           {
            "colorbar": {
             "outlinewidth": 0,
             "ticks": ""
            },
            "colorscale": [
             [
              0,
              "#0d0887"
             ],
             [
              0.1111111111111111,
              "#46039f"
             ],
             [
              0.2222222222222222,
              "#7201a8"
             ],
             [
              0.3333333333333333,
              "#9c179e"
             ],
             [
              0.4444444444444444,
              "#bd3786"
             ],
             [
              0.5555555555555556,
              "#d8576b"
             ],
             [
              0.6666666666666666,
              "#ed7953"
             ],
             [
              0.7777777777777778,
              "#fb9f3a"
             ],
             [
              0.8888888888888888,
              "#fdca26"
             ],
             [
              1,
              "#f0f921"
             ]
            ],
            "type": "heatmap"
           }
          ],
          "heatmapgl": [
           {
            "colorbar": {
             "outlinewidth": 0,
             "ticks": ""
            },
            "colorscale": [
             [
              0,
              "#0d0887"
             ],
             [
              0.1111111111111111,
              "#46039f"
             ],
             [
              0.2222222222222222,
              "#7201a8"
             ],
             [
              0.3333333333333333,
              "#9c179e"
             ],
             [
              0.4444444444444444,
              "#bd3786"
             ],
             [
              0.5555555555555556,
              "#d8576b"
             ],
             [
              0.6666666666666666,
              "#ed7953"
             ],
             [
              0.7777777777777778,
              "#fb9f3a"
             ],
             [
              0.8888888888888888,
              "#fdca26"
             ],
             [
              1,
              "#f0f921"
             ]
            ],
            "type": "heatmapgl"
           }
          ],
          "histogram": [
           {
            "marker": {
             "colorbar": {
              "outlinewidth": 0,
              "ticks": ""
             }
            },
            "type": "histogram"
           }
          ],
          "histogram2d": [
           {
            "colorbar": {
             "outlinewidth": 0,
             "ticks": ""
            },
            "colorscale": [
             [
              0,
              "#0d0887"
             ],
             [
              0.1111111111111111,
              "#46039f"
             ],
             [
              0.2222222222222222,
              "#7201a8"
             ],
             [
              0.3333333333333333,
              "#9c179e"
             ],
             [
              0.4444444444444444,
              "#bd3786"
             ],
             [
              0.5555555555555556,
              "#d8576b"
             ],
             [
              0.6666666666666666,
              "#ed7953"
             ],
             [
              0.7777777777777778,
              "#fb9f3a"
             ],
             [
              0.8888888888888888,
              "#fdca26"
             ],
             [
              1,
              "#f0f921"
             ]
            ],
            "type": "histogram2d"
           }
          ],
          "histogram2dcontour": [
           {
            "colorbar": {
             "outlinewidth": 0,
             "ticks": ""
            },
            "colorscale": [
             [
              0,
              "#0d0887"
             ],
             [
              0.1111111111111111,
              "#46039f"
             ],
             [
              0.2222222222222222,
              "#7201a8"
             ],
             [
              0.3333333333333333,
              "#9c179e"
             ],
             [
              0.4444444444444444,
              "#bd3786"
             ],
             [
              0.5555555555555556,
              "#d8576b"
             ],
             [
              0.6666666666666666,
              "#ed7953"
             ],
             [
              0.7777777777777778,
              "#fb9f3a"
             ],
             [
              0.8888888888888888,
              "#fdca26"
             ],
             [
              1,
              "#f0f921"
             ]
            ],
            "type": "histogram2dcontour"
           }
          ],
          "mesh3d": [
           {
            "colorbar": {
             "outlinewidth": 0,
             "ticks": ""
            },
            "type": "mesh3d"
           }
          ],
          "parcoords": [
           {
            "line": {
             "colorbar": {
              "outlinewidth": 0,
              "ticks": ""
             }
            },
            "type": "parcoords"
           }
          ],
          "pie": [
           {
            "automargin": true,
            "type": "pie"
           }
          ],
          "scatter": [
           {
            "marker": {
             "colorbar": {
              "outlinewidth": 0,
              "ticks": ""
             }
            },
            "type": "scatter"
           }
          ],
          "scatter3d": [
           {
            "line": {
             "colorbar": {
              "outlinewidth": 0,
              "ticks": ""
             }
            },
            "marker": {
             "colorbar": {
              "outlinewidth": 0,
              "ticks": ""
             }
            },
            "type": "scatter3d"
           }
          ],
          "scattercarpet": [
           {
            "marker": {
             "colorbar": {
              "outlinewidth": 0,
              "ticks": ""
             }
            },
            "type": "scattercarpet"
           }
          ],
          "scattergeo": [
           {
            "marker": {
             "colorbar": {
              "outlinewidth": 0,
              "ticks": ""
             }
            },
            "type": "scattergeo"
           }
          ],
          "scattergl": [
           {
            "marker": {
             "colorbar": {
              "outlinewidth": 0,
              "ticks": ""
             }
            },
            "type": "scattergl"
           }
          ],
          "scattermapbox": [
           {
            "marker": {
             "colorbar": {
              "outlinewidth": 0,
              "ticks": ""
             }
            },
            "type": "scattermapbox"
           }
          ],
          "scatterpolar": [
           {
            "marker": {
             "colorbar": {
              "outlinewidth": 0,
              "ticks": ""
             }
            },
            "type": "scatterpolar"
           }
          ],
          "scatterpolargl": [
           {
            "marker": {
             "colorbar": {
              "outlinewidth": 0,
              "ticks": ""
             }
            },
            "type": "scatterpolargl"
           }
          ],
          "scatterternary": [
           {
            "marker": {
             "colorbar": {
              "outlinewidth": 0,
              "ticks": ""
             }
            },
            "type": "scatterternary"
           }
          ],
          "surface": [
           {
            "colorbar": {
             "outlinewidth": 0,
             "ticks": ""
            },
            "colorscale": [
             [
              0,
              "#0d0887"
             ],
             [
              0.1111111111111111,
              "#46039f"
             ],
             [
              0.2222222222222222,
              "#7201a8"
             ],
             [
              0.3333333333333333,
              "#9c179e"
             ],
             [
              0.4444444444444444,
              "#bd3786"
             ],
             [
              0.5555555555555556,
              "#d8576b"
             ],
             [
              0.6666666666666666,
              "#ed7953"
             ],
             [
              0.7777777777777778,
              "#fb9f3a"
             ],
             [
              0.8888888888888888,
              "#fdca26"
             ],
             [
              1,
              "#f0f921"
             ]
            ],
            "type": "surface"
           }
          ],
          "table": [
           {
            "cells": {
             "fill": {
              "color": "#EBF0F8"
             },
             "line": {
              "color": "white"
             }
            },
            "header": {
             "fill": {
              "color": "#C8D4E3"
             },
             "line": {
              "color": "white"
             }
            },
            "type": "table"
           }
          ]
         },
         "layout": {
          "annotationdefaults": {
           "arrowcolor": "#2a3f5f",
           "arrowhead": 0,
           "arrowwidth": 1
          },
          "autotypenumbers": "strict",
          "coloraxis": {
           "colorbar": {
            "outlinewidth": 0,
            "ticks": ""
           }
          },
          "colorscale": {
           "diverging": [
            [
             0,
             "#8e0152"
            ],
            [
             0.1,
             "#c51b7d"
            ],
            [
             0.2,
             "#de77ae"
            ],
            [
             0.3,
             "#f1b6da"
            ],
            [
             0.4,
             "#fde0ef"
            ],
            [
             0.5,
             "#f7f7f7"
            ],
            [
             0.6,
             "#e6f5d0"
            ],
            [
             0.7,
             "#b8e186"
            ],
            [
             0.8,
             "#7fbc41"
            ],
            [
             0.9,
             "#4d9221"
            ],
            [
             1,
             "#276419"
            ]
           ],
           "sequential": [
            [
             0,
             "#0d0887"
            ],
            [
             0.1111111111111111,
             "#46039f"
            ],
            [
             0.2222222222222222,
             "#7201a8"
            ],
            [
             0.3333333333333333,
             "#9c179e"
            ],
            [
             0.4444444444444444,
             "#bd3786"
            ],
            [
             0.5555555555555556,
             "#d8576b"
            ],
            [
             0.6666666666666666,
             "#ed7953"
            ],
            [
             0.7777777777777778,
             "#fb9f3a"
            ],
            [
             0.8888888888888888,
             "#fdca26"
            ],
            [
             1,
             "#f0f921"
            ]
           ],
           "sequentialminus": [
            [
             0,
             "#0d0887"
            ],
            [
             0.1111111111111111,
             "#46039f"
            ],
            [
             0.2222222222222222,
             "#7201a8"
            ],
            [
             0.3333333333333333,
             "#9c179e"
            ],
            [
             0.4444444444444444,
             "#bd3786"
            ],
            [
             0.5555555555555556,
             "#d8576b"
            ],
            [
             0.6666666666666666,
             "#ed7953"
            ],
            [
             0.7777777777777778,
             "#fb9f3a"
            ],
            [
             0.8888888888888888,
             "#fdca26"
            ],
            [
             1,
             "#f0f921"
            ]
           ]
          },
          "colorway": [
           "#636efa",
           "#EF553B",
           "#00cc96",
           "#ab63fa",
           "#FFA15A",
           "#19d3f3",
           "#FF6692",
           "#B6E880",
           "#FF97FF",
           "#FECB52"
          ],
          "font": {
           "color": "#2a3f5f"
          },
          "geo": {
           "bgcolor": "white",
           "lakecolor": "white",
           "landcolor": "#E5ECF6",
           "showlakes": true,
           "showland": true,
           "subunitcolor": "white"
          },
          "hoverlabel": {
           "align": "left"
          },
          "hovermode": "closest",
          "mapbox": {
           "style": "light"
          },
          "paper_bgcolor": "white",
          "plot_bgcolor": "#E5ECF6",
          "polar": {
           "angularaxis": {
            "gridcolor": "white",
            "linecolor": "white",
            "ticks": ""
           },
           "bgcolor": "#E5ECF6",
           "radialaxis": {
            "gridcolor": "white",
            "linecolor": "white",
            "ticks": ""
           }
          },
          "scene": {
           "xaxis": {
            "backgroundcolor": "#E5ECF6",
            "gridcolor": "white",
            "gridwidth": 2,
            "linecolor": "white",
            "showbackground": true,
            "ticks": "",
            "zerolinecolor": "white"
           },
           "yaxis": {
            "backgroundcolor": "#E5ECF6",
            "gridcolor": "white",
            "gridwidth": 2,
            "linecolor": "white",
            "showbackground": true,
            "ticks": "",
            "zerolinecolor": "white"
           },
           "zaxis": {
            "backgroundcolor": "#E5ECF6",
            "gridcolor": "white",
            "gridwidth": 2,
            "linecolor": "white",
            "showbackground": true,
            "ticks": "",
            "zerolinecolor": "white"
           }
          },
          "shapedefaults": {
           "line": {
            "color": "#2a3f5f"
           }
          },
          "ternary": {
           "aaxis": {
            "gridcolor": "white",
            "linecolor": "white",
            "ticks": ""
           },
           "baxis": {
            "gridcolor": "white",
            "linecolor": "white",
            "ticks": ""
           },
           "bgcolor": "#E5ECF6",
           "caxis": {
            "gridcolor": "white",
            "linecolor": "white",
            "ticks": ""
           }
          },
          "title": {
           "x": 0.05
          },
          "xaxis": {
           "automargin": true,
           "gridcolor": "white",
           "linecolor": "white",
           "ticks": "",
           "title": {
            "standoff": 15
           },
           "zerolinecolor": "white",
           "zerolinewidth": 2
          },
          "yaxis": {
           "automargin": true,
           "gridcolor": "white",
           "linecolor": "white",
           "ticks": "",
           "title": {
            "standoff": 15
           },
           "zerolinecolor": "white",
           "zerolinewidth": 2
          }
         }
        },
        "title": {
         "text": "Experience vs acceptability of violence"
        },
        "xaxis": {
         "autorange": true,
         "range": [
          -2.5200181983621475,
          85.02001819836215
         ],
         "title": {
          "text": "Wife beating justified for at least one specific reason [Men=blue], [Women=red]"
         },
         "type": "linear"
        },
        "yaxis": {
         "autorange": true,
         "range": [
          0.6742914979757089,
          48.62570850202429
         ],
         "title": {
          "text": "Physical violence committed by husband/partner in last 12 months"
         },
         "type": "linear"
        }
       }
      },
      "image/png": "[encoded data removed]",
      "text/html": [
       "<div>                            <div id=\"db7d4639-00d3-4bf6-ab45-273bed474497\" class=\"plotly-graph-div\" style=\"height:600px; width:100%;\"></div>            <script type=\"text/javascript\">                require([\"plotly\"], function(Plotly) {                    window.PLOTLYENV=window.PLOTLYENV || {};                                    if (document.getElementById(\"db7d4639-00d3-4bf6-ab45-273bed474497\")) {                    Plotly.newPlot(                        \"db7d4639-00d3-4bf6-ab45-273bed474497\",                        [{\"line\": {\"color\": \"red\", \"width\": 1}, \"name\": \"Regression [Men]\", \"type\": \"scatter\", \"x\": [3.9, 4.5919191919191915, 5.283838383838384, 5.975757575757576, 6.667676767676768, 7.35959595959596, 8.05151515151515, 8.743434343434343, 9.435353535353535, 10.127272727272727, 10.819191919191919, 11.511111111111111, 12.203030303030303, 12.894949494949495, 13.586868686868687, 14.27878787878788, 14.970707070707071, 15.662626262626263, 16.354545454545455, 17.046464646464646, 17.73838383838384, 18.43030303030303, 19.122222222222224, 19.814141414141414, 20.506060606060604, 21.197979797979798, 21.889898989898988, 22.581818181818182, 23.273737373737372, 23.965656565656566, 24.657575757575756, 25.34949494949495, 26.04141414141414, 26.73333333333333, 27.425252525252525, 28.117171717171715, 28.80909090909091, 29.5010101010101, 30.192929292929293, 30.884848484848483, 31.576767676767677, 32.26868686868687, 32.96060606060606, 33.65252525252525, 34.34444444444445, 35.03636363636364, 35.72828282828283, 36.42020202020202, 37.11212121212121, 37.8040404040404, 38.4959595959596, 39.18787878787879, 39.87979797979798, 40.57171717171717, 41.263636363636365, 41.955555555555556, 42.647474747474746, 43.339393939393936, 44.031313131313134, 44.723232323232324, 45.415151515151514, 46.107070707070704, 46.7989898989899, 47.49090909090909, 48.18282828282828, 48.87474747474747, 49.56666666666666, 50.25858585858586, 50.95050505050505, 51.64242424242424, 52.33434343434343, 53.02626262626263, 53.71818181818182, 54.41010101010101, 55.1020202020202, 55.7939393939394, 56.48585858585859, 57.17777777777778, 57.86969696969697, 58.561616161616165, 59.253535353535355, 59.945454545454545, 60.637373737373736, 61.329292929292926, 62.02121212121212, 62.71313131313131, 63.405050505050504, 64.0969696969697, 64.78888888888889, 65.48080808080809, 66.17272727272727, 66.86464646464647, 67.55656565656567, 68.24848484848485, 68.94040404040405, 69.63232323232324, 70.32424242424243, 71.01616161616163, 71.70808080808081, 72.4], \"y\": [7.541971051495775, 7.795556154840328, 8.049141258184882, 8.302726361529434, 8.556311464873987, 8.80989656821854, 9.063481671563094, 9.317066774907648, 9.570651878252201, 9.824236981596755, 10.077822084941307, 10.331407188285862, 10.584992291630414, 10.838577394974967, 11.09216249831952, 11.345747601664074, 11.599332705008628, 11.852917808353181, 12.106502911697735, 12.360088015042287, 12.613673118386842, 12.867258221731394, 13.120843325075947, 13.3744284284205, 13.628013531765053, 13.881598635109608, 14.13518373845416, 14.388768841798713, 14.642353945143267, 14.89593904848782, 15.149524151832374, 15.403109255176927, 15.656694358521479, 15.910279461866033, 16.163864565210588, 16.41744966855514, 16.67103477189969, 16.924619875244247, 17.178204978588802, 17.43179008193335, 17.685375185277906, 17.93896028862246, 18.192545391967013, 18.446130495311564, 18.69971559865612, 18.953300702000675, 19.206885805345227, 19.46047090868978, 19.714056012034334, 19.967641115378886, 20.22122621872344, 20.474811322067993, 20.728396425412548, 20.981981528757096, 21.23556663210165, 21.489151735446207, 21.74273683879076, 21.99632194213531, 22.249907045479866, 22.50349214882442, 22.757077252168973, 23.010662355513524, 23.26424745885808, 23.51783256220263, 23.771417665547187, 24.02500276889174, 24.27858787223629, 24.532172975580846, 24.785758078925397, 25.039343182269953, 25.292928285614504, 25.54651338895906, 25.80009849230361, 26.053683595648167, 26.30726869899272, 26.560853802337274, 26.814438905681826, 27.068024009026377, 27.321609112370933, 27.575194215715488, 27.82877931906004, 28.08236442240459, 28.335949525749143, 28.5895346290937, 28.843119732438254, 29.096704835782806, 29.350289939127357, 29.60387504247191, 29.857460145816464, 30.11104524916102, 30.36463035250557, 30.618215455850127, 30.871800559194682, 31.125385662539234, 31.378970765883786, 31.63255586922834, 31.886140972572893, 32.13972607591745, 32.393311179262, 32.646896282606555]}, {\"line\": {\"color\": \"blue\", \"width\": 1}, \"name\": \"Regression [Women]\", \"type\": \"scatter\", \"x\": [2.3, 3.0868686868686868, 3.8737373737373737, 4.66060606060606, 5.447474747474748, 6.234343434343435, 7.0212121212121215, 7.808080808080809, 8.594949494949496, 9.381818181818183, 10.16868686868687, 10.955555555555556, 11.742424242424242, 12.529292929292929, 13.316161616161619, 14.103030303030305, 14.889898989898992, 15.676767676767678, 16.463636363636365, 17.25050505050505, 18.037373737373738, 18.824242424242428, 19.611111111111114, 20.3979797979798, 21.184848484848487, 21.971717171717174, 22.75858585858586, 23.545454545454547, 24.332323232323237, 25.119191919191923, 25.90606060606061, 26.692929292929296, 27.479797979797983, 28.26666666666667, 29.053535353535356, 29.840404040404042, 30.62727272727273, 31.41414141414142, 32.201010101010105, 32.98787878787879, 33.77474747474748, 34.561616161616165, 35.34848484848485, 36.13535353535354, 36.922222222222224, 37.70909090909091, 38.4959595959596, 39.282828282828284, 40.06969696969697, 40.85656565656566, 41.64343434343434, 42.43030303030303, 43.217171717171716, 44.0040404040404, 44.79090909090909, 45.577777777777776, 46.36464646464647, 47.151515151515156, 47.93838383838384, 48.72525252525253, 49.512121212121215, 50.2989898989899, 51.08585858585859, 51.872727272727275, 52.65959595959596, 53.44646464646465, 54.233333333333334, 55.02020202020202, 55.80707070707071, 56.593939393939394, 57.38080808080808, 58.16767676767677, 58.95454545454545, 59.74141414141415, 60.52828282828283, 61.31515151515152, 62.102020202020206, 62.88888888888889, 63.67575757575758, 64.46262626262627, 65.24949494949496, 66.03636363636365, 66.82323232323233, 67.61010101010102, 68.3969696969697, 69.18383838383839, 69.97070707070708, 70.75757575757576, 71.54444444444445, 72.33131313131314, 73.11818181818182, 73.90505050505051, 74.6919191919192, 75.47878787878788, 76.26565656565657, 77.05252525252526, 77.83939393939394, 78.62626262626263, 79.41313131313132, 80.2], \"y\": [7.962411620705922, 8.155851408789665, 8.349291196873407, 8.54273098495715, 8.736170773040893, 8.929610561124635, 9.123050349208379, 9.31649013729212, 9.509929925375864, 9.703369713459606, 9.896809501543348, 10.090249289627092, 10.283689077710834, 10.477128865794576, 10.67056865387832, 10.864008441962064, 11.057448230045805, 11.250888018129547, 11.444327806213291, 11.637767594297033, 11.831207382380775, 12.024647170464519, 12.218086958548263, 12.411526746632005, 12.604966534715746, 12.79840632279949, 12.991846110883232, 13.185285898966974, 13.378725687050718, 13.572165475134462, 13.765605263218204, 13.959045051301946, 14.15248483938569, 14.345924627469431, 14.539364415553173, 14.732804203636917, 14.926243991720659, 15.1196837798044, 15.313123567888145, 15.506563355971887, 15.70000314405563, 15.893442932139372, 16.086882720223116, 16.28032250830686, 16.4737622963906, 16.667202084474344, 16.860641872558084, 17.054081660641828, 17.24752144872557, 17.440961236809315, 17.634401024893055, 17.8278408129768, 18.02128060106054, 18.214720389144283, 18.408160177228027, 18.60159996531177, 18.795039753395514, 18.988479541479258, 19.181919329562998, 19.375359117646738, 19.568798905730482, 19.762238693814226, 19.95567848189797, 20.149118269981713, 20.342558058065453, 20.535997846149197, 20.729437634232937, 20.92287742231668, 21.116317210400425, 21.30975699848417, 21.50319678656791, 21.696636574651652, 21.890076362735392, 22.083516150819136, 22.27695593890288, 22.470395726986624, 22.663835515070367, 22.85727530315411, 23.05071509123785, 23.244154879321595, 23.43759466740534, 23.631034455489083, 23.824474243572823, 24.017914031656566, 24.21135381974031, 24.40479360782405, 24.598233395907794, 24.791673183991538, 24.985112972075278, 25.17855276015902, 25.371992548242766, 25.565432336326506, 25.75887212441025, 25.952311912493993, 26.145751700577733, 26.339191488661477, 26.53263127674522, 26.72607106482896, 26.919510852912705, 27.11295064099645]}, {\"line\": {\"color\": \"rgb(200,200,200)\", \"width\": 1}, \"marker\": {\"color\": [\"red\", \"blue\"]}, \"name\": \"Afghanistan\", \"type\": \"scatter\", \"x\": [72.4, 80.2], \"y\": [45.8, 45.8]}, {\"line\": {\"color\": \"rgb(200,200,200)\", \"width\": 1}, \"marker\": {\"color\": [\"red\", \"blue\"]}, \"name\": \"Albania\", \"type\": \"scatter\", \"x\": [11.2, 6.8], \"y\": [null, null]}, {\"line\": {\"color\": \"rgb(200,200,200)\", \"width\": 1}, \"marker\": {\"color\": [\"red\", \"blue\"]}, \"name\": \"Angola\", \"type\": \"scatter\", \"x\": [19.8, 25.2], \"y\": [24.3, 24.3]}, {\"line\": {\"color\": \"rgb(200,200,200)\", \"width\": 1}, \"marker\": {\"color\": [\"red\", \"blue\"]}, \"name\": \"Armenia\", \"type\": \"scatter\", \"x\": [22.6, 10.1], \"y\": [3.5, 3.5]}, {\"line\": {\"color\": \"rgb(200,200,200)\", \"width\": 1}, \"marker\": {\"color\": [\"red\", \"blue\"]}, \"name\": \"Azerbaijan\", \"type\": \"scatter\", \"x\": [56.9, 49.0], \"y\": [9.3, 9.3]}, {\"line\": {\"color\": \"rgb(200,200,200)\", \"width\": 1}, \"marker\": {\"color\": [\"red\", \"blue\"]}, \"name\": \"Bangladesh\", \"type\": \"scatter\", \"x\": [null, 20.1], \"y\": [null, null]}, {\"line\": {\"color\": \"rgb(200,200,200)\", \"width\": 1}, \"marker\": {\"color\": [\"red\", \"blue\"]}, \"name\": \"Benin\", \"type\": \"scatter\", \"x\": [14.9, 31.8], \"y\": [11.2, 11.2]}, {\"line\": {\"color\": \"rgb(200,200,200)\", \"width\": 1}, \"marker\": {\"color\": [\"red\", \"blue\"]}, \"name\": \"Bolivia\", \"type\": \"scatter\", \"x\": [null, 16.1], \"y\": [null, null]}, {\"line\": {\"color\": \"rgb(200,200,200)\", \"width\": 1}, \"marker\": {\"color\": [\"red\", \"blue\"]}, \"name\": \"Burkina Faso\", \"type\": \"scatter\", \"x\": [33.4, 43.5], \"y\": [8.9, 8.9]}, {\"line\": {\"color\": \"rgb(200,200,200)\", \"width\": 1}, \"marker\": {\"color\": [\"red\", \"blue\"]}, \"name\": \"Burundi\", \"type\": \"scatter\", \"x\": [34.0, 61.8], \"y\": [17.9, 17.9]}, {\"line\": {\"color\": \"rgb(200,200,200)\", \"width\": 1}, \"marker\": {\"color\": [\"red\", \"blue\"]}, \"name\": \"Cambodia\", \"type\": \"scatter\", \"x\": [26.1, 49.8], \"y\": [9.3, 9.3]}, {\"line\": {\"color\": \"rgb(200,200,200)\", \"width\": 1}, \"marker\": {\"color\": [\"red\", \"blue\"]}, \"name\": \"Cameroon\", \"type\": \"scatter\", \"x\": [28.2, 27.7], \"y\": [19.6, 19.6]}, {\"line\": {\"color\": \"rgb(200,200,200)\", \"width\": 1}, \"marker\": {\"color\": [\"red\", \"blue\"]}, \"name\": \"Chad\", \"type\": \"scatter\", \"x\": [49.4, 73.5], \"y\": [15.6, 15.6]}, {\"line\": {\"color\": \"rgb(200,200,200)\", \"width\": 1}, \"marker\": {\"color\": [\"red\", \"blue\"]}, \"name\": \"Colombia\", \"type\": \"scatter\", \"x\": [4.3, 3.1], \"y\": [null, null]}, {\"line\": {\"color\": \"rgb(200,200,200)\", \"width\": 1}, \"marker\": {\"color\": [\"red\", \"blue\"]}, \"name\": \"Comoros\", \"type\": \"scatter\", \"x\": [16.2, 39.0], \"y\": [4.3, 4.3]}, {\"line\": {\"color\": \"rgb(200,200,200)\", \"width\": 1}, \"marker\": {\"color\": [\"red\", \"blue\"]}, \"name\": \"Congo\", \"type\": \"scatter\", \"x\": [41.5, 60.7], \"y\": [null, null]}, {\"line\": {\"color\": \"rgb(200,200,200)\", \"width\": 1}, \"marker\": {\"color\": [\"red\", \"blue\"]}, \"name\": \"Congo Democratic Republic\", \"type\": \"scatter\", \"x\": [59.5, 74.8], \"y\": [30.3, 30.3]}, {\"line\": {\"color\": \"rgb(200,200,200)\", \"width\": 1}, \"marker\": {\"color\": [\"red\", \"blue\"]}, \"name\": \"Cote d'Ivoire\", \"type\": \"scatter\", \"x\": [41.0, 47.9], \"y\": [21.3, 21.3]}, {\"line\": {\"color\": \"rgb(200,200,200)\", \"width\": 1}, \"marker\": {\"color\": [\"red\", \"blue\"]}, \"name\": \"Dominican Republic\", \"type\": \"scatter\", \"x\": [3.9, 2.3], \"y\": [15.1, 15.1]}, {\"line\": {\"color\": \"rgb(200,200,200)\", \"width\": 1}, \"marker\": {\"color\": [\"red\", \"blue\"]}, \"name\": \"Egypt\", \"type\": \"scatter\", \"x\": [null, 35.7], \"y\": [13.5, 13.5]}, {\"line\": {\"color\": \"rgb(200,200,200)\", \"width\": 1}, \"marker\": {\"color\": [\"red\", \"blue\"]}, \"name\": \"Eritrea\", \"type\": \"scatter\", \"x\": [null, 70.7], \"y\": [null, null]}, {\"line\": {\"color\": \"rgb(200,200,200)\", \"width\": 1}, \"marker\": {\"color\": [\"red\", \"blue\"]}, \"name\": \"Eswatini\", \"type\": \"scatter\", \"x\": [31.3, 23.2], \"y\": [null, null]}, {\"line\": {\"color\": \"rgb(200,200,200)\", \"width\": 1}, \"marker\": {\"color\": [\"red\", \"blue\"]}, \"name\": \"Ethiopia\", \"type\": \"scatter\", \"x\": [27.6, 63.0], \"y\": [16.9, 16.9]}, {\"line\": {\"color\": \"rgb(200,200,200)\", \"width\": 1}, \"marker\": {\"color\": [\"red\", \"blue\"]}, \"name\": \"Gabon\", \"type\": \"scatter\", \"x\": [38.6, 50.2], \"y\": [28.5, 28.5]}, {\"line\": {\"color\": \"rgb(200,200,200)\", \"width\": 1}, \"marker\": {\"color\": [\"red\", \"blue\"]}, \"name\": \"Gambia\", \"type\": \"scatter\", \"x\": [32.3, 58.4], \"y\": [6.9, 6.9]}, {\"line\": {\"color\": \"rgb(200,200,200)\", \"width\": 1}, \"marker\": {\"color\": [\"red\", \"blue\"]}, \"name\": \"Ghana\", \"type\": \"scatter\", \"x\": [12.5, 28.3], \"y\": [null, null]}, {\"line\": {\"color\": \"rgb(200,200,200)\", \"width\": 1}, \"marker\": {\"color\": [\"red\", \"blue\"]}, \"name\": \"Guatemala\", \"type\": \"scatter\", \"x\": [7.0, 11.0], \"y\": [7.9, 7.9]}, {\"line\": {\"color\": \"rgb(200,200,200)\", \"width\": 1}, \"marker\": {\"color\": [\"red\", \"blue\"]}, \"name\": \"Guinea\", \"type\": \"scatter\", \"x\": [54.7, 67.2], \"y\": [null, null]}, {\"line\": {\"color\": \"rgb(200,200,200)\", \"width\": 1}, \"marker\": {\"color\": [\"red\", \"blue\"]}, \"name\": \"Guyana\", \"type\": \"scatter\", \"x\": [19.3, 16.3], \"y\": [null, null]}, {\"line\": {\"color\": \"rgb(200,200,200)\", \"width\": 1}, \"marker\": {\"color\": [\"red\", \"blue\"]}, \"name\": \"Haiti\", \"type\": \"scatter\", \"x\": [10.0, 16.6], \"y\": [10.1, 10.1]}, {\"line\": {\"color\": \"rgb(200,200,200)\", \"width\": 1}, \"marker\": {\"color\": [\"red\", \"blue\"]}, \"name\": \"Honduras\", \"type\": \"scatter\", \"x\": [9.4, 12.4], \"y\": [10.0, 10.0]}, {\"line\": {\"color\": \"rgb(200,200,200)\", \"width\": 1}, \"marker\": {\"color\": [\"red\", \"blue\"]}, \"name\": \"India\", \"type\": \"scatter\", \"x\": [31.7, 44.6], \"y\": [20.6, 20.6]}, {\"line\": {\"color\": \"rgb(200,200,200)\", \"width\": 1}, \"marker\": {\"color\": [\"red\", \"blue\"]}, \"name\": \"Indonesia\", \"type\": \"scatter\", \"x\": [null, 32.0], \"y\": [null, null]}, {\"line\": {\"color\": \"rgb(200,200,200)\", \"width\": 1}, \"marker\": {\"color\": [\"red\", \"blue\"]}, \"name\": \"Jordan\", \"type\": \"scatter\", \"x\": [29.5, 14.1], \"y\": [12.7, 12.7]}, {\"line\": {\"color\": \"rgb(200,200,200)\", \"width\": 1}, \"marker\": {\"color\": [\"red\", \"blue\"]}, \"name\": \"Kenya\", \"type\": \"scatter\", \"x\": [36.2, 41.8], \"y\": [22.7, 22.7]}, {\"line\": {\"color\": \"rgb(200,200,200)\", \"width\": 1}, \"marker\": {\"color\": [\"red\", \"blue\"]}, \"name\": \"Kyrgyz Republic\", \"type\": \"scatter\", \"x\": [50.4, 33.7], \"y\": [16.9, 16.9]}, {\"line\": {\"color\": \"rgb(200,200,200)\", \"width\": 1}, \"marker\": {\"color\": [\"red\", \"blue\"]}, \"name\": \"Lesotho\", \"type\": \"scatter\", \"x\": [38.8, 33.3], \"y\": [null, null]}, {\"line\": {\"color\": \"rgb(200,200,200)\", \"width\": 1}, \"marker\": {\"color\": [\"red\", \"blue\"]}, \"name\": \"Liberia\", \"type\": \"scatter\", \"x\": [24.2, 42.5], \"y\": [null, null]}, {\"line\": {\"color\": \"rgb(200,200,200)\", \"width\": 1}, \"marker\": {\"color\": [\"red\", \"blue\"]}, \"name\": \"Madagascar\", \"type\": \"scatter\", \"x\": [29.1, 32.3], \"y\": [null, null]}, {\"line\": {\"color\": \"rgb(200,200,200)\", \"width\": 1}, \"marker\": {\"color\": [\"red\", \"blue\"]}, \"name\": \"Malawi\", \"type\": \"scatter\", \"x\": [12.7, 16.3], \"y\": [16.3, 16.3]}, {\"line\": {\"color\": \"rgb(200,200,200)\", \"width\": 1}, \"marker\": {\"color\": [\"red\", \"blue\"]}, \"name\": \"Maldives\", \"type\": \"scatter\", \"x\": [18.1, 22.0], \"y\": [5.5, 5.5]}, {\"line\": {\"color\": \"rgb(200,200,200)\", \"width\": 1}, \"marker\": {\"color\": [\"red\", \"blue\"]}, \"name\": \"Mali\", \"type\": \"scatter\", \"x\": [45.7, 79.4], \"y\": [18.1, 18.1]}, {\"line\": {\"color\": \"rgb(200,200,200)\", \"width\": 1}, \"marker\": {\"color\": [\"red\", \"blue\"]}, \"name\": \"Moldova\", \"type\": \"scatter\", \"x\": [21.7, 20.8], \"y\": [14.1, 14.1]}, {\"line\": {\"color\": \"rgb(200,200,200)\", \"width\": 1}, \"marker\": {\"color\": [\"red\", \"blue\"]}, \"name\": \"Morocco\", \"type\": \"scatter\", \"x\": [null, 63.9], \"y\": [null, null]}, {\"line\": {\"color\": \"rgb(200,200,200)\", \"width\": 1}, \"marker\": {\"color\": [\"red\", \"blue\"]}, \"name\": \"Mozambique\", \"type\": \"scatter\", \"x\": [16.4, 13.3], \"y\": [14.7, 14.7]}, {\"line\": {\"color\": \"rgb(200,200,200)\", \"width\": 1}, \"marker\": {\"color\": [\"red\", \"blue\"]}, \"name\": \"Myanmar\", \"type\": \"scatter\", \"x\": [49.0, 51.2], \"y\": [10.2, 10.2]}, {\"line\": {\"color\": \"rgb(200,200,200)\", \"width\": 1}, \"marker\": {\"color\": [\"red\", \"blue\"]}, \"name\": \"Namibia\", \"type\": \"scatter\", \"x\": [21.3, 28.2], \"y\": [18.7, 18.7]}, {\"line\": {\"color\": \"rgb(200,200,200)\", \"width\": 1}, \"marker\": {\"color\": [\"red\", \"blue\"]}, \"name\": \"Nepal\", \"type\": \"scatter\", \"x\": [22.9, 28.5], \"y\": [10.0, 10.0]}, {\"line\": {\"color\": \"rgb(200,200,200)\", \"width\": 1}, \"marker\": {\"color\": [\"red\", \"blue\"]}, \"name\": \"Nicaragua\", \"type\": \"scatter\", \"x\": [null, 12.5], \"y\": [null, null]}, {\"line\": {\"color\": \"rgb(200,200,200)\", \"width\": 1}, \"marker\": {\"color\": [\"red\", \"blue\"]}, \"name\": \"Niger\", \"type\": \"scatter\", \"x\": [26.0, 59.6], \"y\": [null, null]}, {\"line\": {\"color\": \"rgb(200,200,200)\", \"width\": 1}, \"marker\": {\"color\": [\"red\", \"blue\"]}, \"name\": \"Nigeria\", \"type\": \"scatter\", \"x\": [20.1, 28.0], \"y\": [11.8, 11.8]}, {\"line\": {\"color\": \"rgb(200,200,200)\", \"width\": 1}, \"marker\": {\"color\": [\"red\", \"blue\"]}, \"name\": \"Pakistan\", \"type\": \"scatter\", \"x\": [37.4, 41.1], \"y\": [13.6, 13.6]}, {\"line\": {\"color\": \"rgb(200,200,200)\", \"width\": 1}, \"marker\": {\"color\": [\"red\", \"blue\"]}, \"name\": \"Papua New Guinea\", \"type\": \"scatter\", \"x\": [71.9, 69.8], \"y\": [44.4, 44.4]}, {\"line\": {\"color\": \"rgb(200,200,200)\", \"width\": 1}, \"marker\": {\"color\": [\"red\", \"blue\"]}, \"name\": \"Peru\", \"type\": \"scatter\", \"x\": [null, 3.5], \"y\": [12.1, 12.1]}, {\"line\": {\"color\": \"rgb(200,200,200)\", \"width\": 1}, \"marker\": {\"color\": [\"red\", \"blue\"]}, \"name\": \"Philippines\", \"type\": \"scatter\", \"x\": [null, 10.9], \"y\": [4.4, 4.4]}, {\"line\": {\"color\": \"rgb(200,200,200)\", \"width\": 1}, \"marker\": {\"color\": [\"red\", \"blue\"]}, \"name\": \"Rwanda\", \"type\": \"scatter\", \"x\": [17.1, 41.4], \"y\": [17.6, 17.6]}, {\"line\": {\"color\": \"rgb(200,200,200)\", \"width\": 1}, \"marker\": {\"color\": [\"red\", \"blue\"]}, \"name\": \"Sao Tome and Principe\", \"type\": \"scatter\", \"x\": [21.4, 19.5], \"y\": [25.5, 25.5]}, {\"line\": {\"color\": \"rgb(200,200,200)\", \"width\": 1}, \"marker\": {\"color\": [\"red\", \"blue\"]}, \"name\": \"Senegal\", \"type\": \"scatter\", \"x\": [22.5, 39.1], \"y\": [4.6, 4.6]}, {\"line\": {\"color\": \"rgb(200,200,200)\", \"width\": 1}, \"marker\": {\"color\": [\"red\", \"blue\"]}, \"name\": \"Sierra Leone\", \"type\": \"scatter\", \"x\": [29.9, 48.6], \"y\": [38.4, 38.4]}, {\"line\": {\"color\": \"rgb(200,200,200)\", \"width\": 1}, \"marker\": {\"color\": [\"red\", \"blue\"]}, \"name\": \"South Africa\", \"type\": \"scatter\", \"x\": [8.9, 5.5], \"y\": [9.0, 9.0]}, {\"line\": {\"color\": \"rgb(200,200,200)\", \"width\": 1}, \"marker\": {\"color\": [\"red\", \"blue\"]}, \"name\": \"Tajikistan\", \"type\": \"scatter\", \"x\": [null, 63.6], \"y\": [18.7, 18.7]}, {\"line\": {\"color\": \"rgb(200,200,200)\", \"width\": 1}, \"marker\": {\"color\": [\"red\", \"blue\"]}, \"name\": \"Tanzania\", \"type\": \"scatter\", \"x\": [39.6, 58.0], \"y\": [27.1, 27.1]}, {\"line\": {\"color\": \"rgb(200,200,200)\", \"width\": 1}, \"marker\": {\"color\": [\"red\", \"blue\"]}, \"name\": \"Timor-Leste\", \"type\": \"scatter\", \"x\": [51.6, 74.0], \"y\": [33.1, 33.1]}, {\"line\": {\"color\": \"rgb(200,200,200)\", \"width\": 1}, \"marker\": {\"color\": [\"red\", \"blue\"]}, \"name\": \"Togo\", \"type\": \"scatter\", \"x\": [17.6, 28.7], \"y\": [10.8, 10.8]}, {\"line\": {\"color\": \"rgb(200,200,200)\", \"width\": 1}, \"marker\": {\"color\": [\"red\", \"blue\"]}, \"name\": \"Turkey\", \"type\": \"scatter\", \"x\": [null, 13.3], \"y\": [null, null]}, {\"line\": {\"color\": \"rgb(200,200,200)\", \"width\": 1}, \"marker\": {\"color\": [\"red\", \"blue\"]}, \"name\": \"Turkmenistan\", \"type\": \"scatter\", \"x\": [null, 51.7], \"y\": [null, null]}, {\"line\": {\"color\": \"rgb(200,200,200)\", \"width\": 1}, \"marker\": {\"color\": [\"red\", \"blue\"]}, \"name\": \"Uganda\", \"type\": \"scatter\", \"x\": [40.1, 49.0], \"y\": [22.5, 22.5]}, {\"line\": {\"color\": \"rgb(200,200,200)\", \"width\": 1}, \"marker\": {\"color\": [\"red\", \"blue\"]}, \"name\": \"Ukraine\", \"type\": \"scatter\", \"x\": [11.1, 3.6], \"y\": [10.0, 10.0]}, {\"line\": {\"color\": \"rgb(200,200,200)\", \"width\": 1}, \"marker\": {\"color\": [\"red\", \"blue\"]}, \"name\": \"Yemen\", \"type\": \"scatter\", \"x\": [null, 48.7], \"y\": [null, null]}, {\"line\": {\"color\": \"rgb(200,200,200)\", \"width\": 1}, \"marker\": {\"color\": [\"red\", \"blue\"]}, \"name\": \"Zambia\", \"type\": \"scatter\", \"x\": [24.1, 45.1], \"y\": [21.1, 21.1]}, {\"line\": {\"color\": \"rgb(200,200,200)\", \"width\": 1}, \"marker\": {\"color\": [\"red\", \"blue\"]}, \"name\": \"Zimbabwe\", \"type\": \"scatter\", \"x\": [32.3, 38.7], \"y\": [15.3, 15.3]}],                        {\"height\": 600, \"legend\": {\"title\": {\"text\": \"country\"}}, \"template\": {\"data\": {\"bar\": [{\"error_x\": {\"color\": \"#2a3f5f\"}, \"error_y\": {\"color\": \"#2a3f5f\"}, \"marker\": {\"line\": {\"color\": \"#E5ECF6\", \"width\": 0.5}}, \"type\": \"bar\"}], \"barpolar\": [{\"marker\": {\"line\": {\"color\": \"#E5ECF6\", \"width\": 0.5}}, \"type\": \"barpolar\"}], \"carpet\": [{\"aaxis\": {\"endlinecolor\": \"#2a3f5f\", \"gridcolor\": \"white\", \"linecolor\": \"white\", \"minorgridcolor\": \"white\", \"startlinecolor\": \"#2a3f5f\"}, \"baxis\": {\"endlinecolor\": \"#2a3f5f\", \"gridcolor\": \"white\", \"linecolor\": \"white\", \"minorgridcolor\": \"white\", \"startlinecolor\": \"#2a3f5f\"}, \"type\": \"carpet\"}], \"choropleth\": [{\"colorbar\": {\"outlinewidth\": 0, \"ticks\": \"\"}, \"type\": \"choropleth\"}], \"contour\": [{\"colorbar\": {\"outlinewidth\": 0, \"ticks\": \"\"}, \"colorscale\": [[0.0, \"#0d0887\"], [0.1111111111111111, \"#46039f\"], [0.2222222222222222, \"#7201a8\"], [0.3333333333333333, \"#9c179e\"], [0.4444444444444444, \"#bd3786\"], [0.5555555555555556, \"#d8576b\"], [0.6666666666666666, \"#ed7953\"], [0.7777777777777778, \"#fb9f3a\"], [0.8888888888888888, \"#fdca26\"], [1.0, \"#f0f921\"]], \"type\": \"contour\"}], \"contourcarpet\": [{\"colorbar\": {\"outlinewidth\": 0, \"ticks\": \"\"}, \"type\": \"contourcarpet\"}], \"heatmap\": [{\"colorbar\": {\"outlinewidth\": 0, \"ticks\": \"\"}, \"colorscale\": [[0.0, \"#0d0887\"], [0.1111111111111111, \"#46039f\"], [0.2222222222222222, \"#7201a8\"], [0.3333333333333333, \"#9c179e\"], [0.4444444444444444, \"#bd3786\"], [0.5555555555555556, \"#d8576b\"], [0.6666666666666666, \"#ed7953\"], [0.7777777777777778, \"#fb9f3a\"], [0.8888888888888888, \"#fdca26\"], [1.0, \"#f0f921\"]], \"type\": \"heatmap\"}], \"heatmapgl\": [{\"colorbar\": {\"outlinewidth\": 0, \"ticks\": \"\"}, \"colorscale\": [[0.0, \"#0d0887\"], [0.1111111111111111, \"#46039f\"], [0.2222222222222222, \"#7201a8\"], [0.3333333333333333, \"#9c179e\"], [0.4444444444444444, \"#bd3786\"], [0.5555555555555556, \"#d8576b\"], [0.6666666666666666, \"#ed7953\"], [0.7777777777777778, \"#fb9f3a\"], [0.8888888888888888, \"#fdca26\"], [1.0, \"#f0f921\"]], \"type\": \"heatmapgl\"}], \"histogram\": [{\"marker\": {\"colorbar\": {\"outlinewidth\": 0, \"ticks\": \"\"}}, \"type\": \"histogram\"}], \"histogram2d\": [{\"colorbar\": {\"outlinewidth\": 0, \"ticks\": \"\"}, \"colorscale\": [[0.0, \"#0d0887\"], [0.1111111111111111, \"#46039f\"], [0.2222222222222222, \"#7201a8\"], [0.3333333333333333, \"#9c179e\"], [0.4444444444444444, \"#bd3786\"], [0.5555555555555556, \"#d8576b\"], [0.6666666666666666, \"#ed7953\"], [0.7777777777777778, \"#fb9f3a\"], [0.8888888888888888, \"#fdca26\"], [1.0, \"#f0f921\"]], \"type\": \"histogram2d\"}], \"histogram2dcontour\": [{\"colorbar\": {\"outlinewidth\": 0, \"ticks\": \"\"}, \"colorscale\": [[0.0, \"#0d0887\"], [0.1111111111111111, \"#46039f\"], [0.2222222222222222, \"#7201a8\"], [0.3333333333333333, \"#9c179e\"], [0.4444444444444444, \"#bd3786\"], [0.5555555555555556, \"#d8576b\"], [0.6666666666666666, \"#ed7953\"], [0.7777777777777778, \"#fb9f3a\"], [0.8888888888888888, \"#fdca26\"], [1.0, \"#f0f921\"]], \"type\": \"histogram2dcontour\"}], \"mesh3d\": [{\"colorbar\": {\"outlinewidth\": 0, \"ticks\": \"\"}, \"type\": \"mesh3d\"}], \"parcoords\": [{\"line\": {\"colorbar\": {\"outlinewidth\": 0, \"ticks\": \"\"}}, \"type\": \"parcoords\"}], \"pie\": [{\"automargin\": true, \"type\": \"pie\"}], \"scatter\": [{\"marker\": {\"colorbar\": {\"outlinewidth\": 0, \"ticks\": \"\"}}, \"type\": \"scatter\"}], \"scatter3d\": [{\"line\": {\"colorbar\": {\"outlinewidth\": 0, \"ticks\": \"\"}}, \"marker\": {\"colorbar\": {\"outlinewidth\": 0, \"ticks\": \"\"}}, \"type\": \"scatter3d\"}], \"scattercarpet\": [{\"marker\": {\"colorbar\": {\"outlinewidth\": 0, \"ticks\": \"\"}}, \"type\": \"scattercarpet\"}], \"scattergeo\": [{\"marker\": {\"colorbar\": {\"outlinewidth\": 0, \"ticks\": \"\"}}, \"type\": \"scattergeo\"}], \"scattergl\": [{\"marker\": {\"colorbar\": {\"outlinewidth\": 0, \"ticks\": \"\"}}, \"type\": \"scattergl\"}], \"scattermapbox\": [{\"marker\": {\"colorbar\": {\"outlinewidth\": 0, \"ticks\": \"\"}}, \"type\": \"scattermapbox\"}], \"scatterpolar\": [{\"marker\": {\"colorbar\": {\"outlinewidth\": 0, \"ticks\": \"\"}}, \"type\": \"scatterpolar\"}], \"scatterpolargl\": [{\"marker\": {\"colorbar\": {\"outlinewidth\": 0, \"ticks\": \"\"}}, \"type\": \"scatterpolargl\"}], \"scatterternary\": [{\"marker\": {\"colorbar\": {\"outlinewidth\": 0, \"ticks\": \"\"}}, \"type\": \"scatterternary\"}], \"surface\": [{\"colorbar\": {\"outlinewidth\": 0, \"ticks\": \"\"}, \"colorscale\": [[0.0, \"#0d0887\"], [0.1111111111111111, \"#46039f\"], [0.2222222222222222, \"#7201a8\"], [0.3333333333333333, \"#9c179e\"], [0.4444444444444444, \"#bd3786\"], [0.5555555555555556, \"#d8576b\"], [0.6666666666666666, \"#ed7953\"], [0.7777777777777778, \"#fb9f3a\"], [0.8888888888888888, \"#fdca26\"], [1.0, \"#f0f921\"]], \"type\": \"surface\"}], \"table\": [{\"cells\": {\"fill\": {\"color\": \"#EBF0F8\"}, \"line\": {\"color\": \"white\"}}, \"header\": {\"fill\": {\"color\": \"#C8D4E3\"}, \"line\": {\"color\": \"white\"}}, \"type\": \"table\"}]}, \"layout\": {\"annotationdefaults\": {\"arrowcolor\": \"#2a3f5f\", \"arrowhead\": 0, \"arrowwidth\": 1}, \"autotypenumbers\": \"strict\", \"coloraxis\": {\"colorbar\": {\"outlinewidth\": 0, \"ticks\": \"\"}}, \"colorscale\": {\"diverging\": [[0, \"#8e0152\"], [0.1, \"#c51b7d\"], [0.2, \"#de77ae\"], [0.3, \"#f1b6da\"], [0.4, \"#fde0ef\"], [0.5, \"#f7f7f7\"], [0.6, \"#e6f5d0\"], [0.7, \"#b8e186\"], [0.8, \"#7fbc41\"], [0.9, \"#4d9221\"], [1, \"#276419\"]], \"sequential\": [[0.0, \"#0d0887\"], [0.1111111111111111, \"#46039f\"], [0.2222222222222222, \"#7201a8\"], [0.3333333333333333, \"#9c179e\"], [0.4444444444444444, \"#bd3786\"], [0.5555555555555556, \"#d8576b\"], [0.6666666666666666, \"#ed7953\"], [0.7777777777777778, \"#fb9f3a\"], [0.8888888888888888, \"#fdca26\"], [1.0, \"#f0f921\"]], \"sequentialminus\": [[0.0, \"#0d0887\"], [0.1111111111111111, \"#46039f\"], [0.2222222222222222, \"#7201a8\"], [0.3333333333333333, \"#9c179e\"], [0.4444444444444444, \"#bd3786\"], [0.5555555555555556, \"#d8576b\"], [0.6666666666666666, \"#ed7953\"], [0.7777777777777778, \"#fb9f3a\"], [0.8888888888888888, \"#fdca26\"], [1.0, \"#f0f921\"]]}, \"colorway\": [\"#636efa\", \"#EF553B\", \"#00cc96\", \"#ab63fa\", \"#FFA15A\", \"#19d3f3\", \"#FF6692\", \"#B6E880\", \"#FF97FF\", \"#FECB52\"], \"font\": {\"color\": \"#2a3f5f\"}, \"geo\": {\"bgcolor\": \"white\", \"lakecolor\": \"white\", \"landcolor\": \"#E5ECF6\", \"showlakes\": true, \"showland\": true, \"subunitcolor\": \"white\"}, \"hoverlabel\": {\"align\": \"left\"}, \"hovermode\": \"closest\", \"mapbox\": {\"style\": \"light\"}, \"paper_bgcolor\": \"white\", \"plot_bgcolor\": \"#E5ECF6\", \"polar\": {\"angularaxis\": {\"gridcolor\": \"white\", \"linecolor\": \"white\", \"ticks\": \"\"}, \"bgcolor\": \"#E5ECF6\", \"radialaxis\": {\"gridcolor\": \"white\", \"linecolor\": \"white\", \"ticks\": \"\"}}, \"scene\": {\"xaxis\": {\"backgroundcolor\": \"#E5ECF6\", \"gridcolor\": \"white\", \"gridwidth\": 2, \"linecolor\": \"white\", \"showbackground\": true, \"ticks\": \"\", \"zerolinecolor\": \"white\"}, \"yaxis\": {\"backgroundcolor\": \"#E5ECF6\", \"gridcolor\": \"white\", \"gridwidth\": 2, \"linecolor\": \"white\", \"showbackground\": true, \"ticks\": \"\", \"zerolinecolor\": \"white\"}, \"zaxis\": {\"backgroundcolor\": \"#E5ECF6\", \"gridcolor\": \"white\", \"gridwidth\": 2, \"linecolor\": \"white\", \"showbackground\": true, \"ticks\": \"\", \"zerolinecolor\": \"white\"}}, \"shapedefaults\": {\"line\": {\"color\": \"#2a3f5f\"}}, \"ternary\": {\"aaxis\": {\"gridcolor\": \"white\", \"linecolor\": \"white\", \"ticks\": \"\"}, \"baxis\": {\"gridcolor\": \"white\", \"linecolor\": \"white\", \"ticks\": \"\"}, \"bgcolor\": \"#E5ECF6\", \"caxis\": {\"gridcolor\": \"white\", \"linecolor\": \"white\", \"ticks\": \"\"}}, \"title\": {\"x\": 0.05}, \"xaxis\": {\"automargin\": true, \"gridcolor\": \"white\", \"linecolor\": \"white\", \"ticks\": \"\", \"title\": {\"standoff\": 15}, \"zerolinecolor\": \"white\", \"zerolinewidth\": 2}, \"yaxis\": {\"automargin\": true, \"gridcolor\": \"white\", \"linecolor\": \"white\", \"ticks\": \"\", \"title\": {\"standoff\": 15}, \"zerolinecolor\": \"white\", \"zerolinewidth\": 2}}}, \"title\": {\"text\": \"Experience vs acceptability of violence\"}, \"xaxis\": {\"title\": {\"text\": \"Wife beating justified for at least one specific reason [Men=blue], [Women=red]\"}}, \"yaxis\": {\"title\": {\"text\": \"Physical violence committed by husband/partner in last 12 months\"}}},                        {\"responsive\": true}                    ).then(function(){\n",
       "                            \n",
       "var gd = document.getElementById('db7d4639-00d3-4bf6-ab45-273bed474497');\n",
       "var x = new MutationObserver(function (mutations, observer) {{\n",
       "        var display = window.getComputedStyle(gd).display;\n",
       "        if (!display || display === 'none') {{\n",
       "            console.log([gd, 'removed!']);\n",
       "            Plotly.purge(gd);\n",
       "            observer.disconnect();\n",
       "        }}\n",
       "}});\n",
       "\n",
       "// Listen for the removal of the full notebook cells\n",
       "var notebookContainer = gd.closest('#notebook-container');\n",
       "if (notebookContainer) {{\n",
       "    x.observe(notebookContainer, {childList: true});\n",
       "}}\n",
       "\n",
       "// Listen for the clearing of the current output cell\n",
       "var outputEl = gd.closest('.output');\n",
       "if (outputEl) {{\n",
       "    x.observe(outputEl, {childList: true});\n",
       "}}\n",
       "\n",
       "                        })                };                });            </script>        </div>"
      ]
     },
     "metadata": {},
     "output_type": "display_data"
    }
   ],
   "source": [
    "x = \"Wife beating justified for at least one specific reason\"\n",
    "y = \"Physical violence committed by husband/partner in last 12 months\"\n",
    "\n",
    "from sklearn.linear_model import LinearRegression\n",
    "\n",
    "model = LinearRegression()\n",
    "\n",
    "\n",
    "# fig = px.scatter(df, x=x + \" [Women]\", y=y, opacity=0.65)\n",
    "# fig.add_traces(go.Scatter(x=x_range, y=y_range, name='Regression Fit'))\n",
    "# fig.show()\n",
    "\n",
    "fig = go.Figure(layout=dict(height=600,\n",
    "                           xaxis=dict( title=x + ' [Men=blue], [Women=red]'),\n",
    "                           yaxis=dict( title=y),\n",
    "                           legend=dict( title='country'),\n",
    "                           title='Experience vs acceptability of violence'),\n",
    "                )\n",
    "\n",
    "\n",
    "colors = ['red','blue']\n",
    "\n",
    "for i, gender in enumerate([\" [Men]\", \" [Women]\"]):\n",
    "    df_fit = df[[x + gender, y]].dropna()\n",
    "    X = df_fit[x + gender].values.reshape(-1, 1)\n",
    "    model.fit(X, df_fit[y])\n",
    "\n",
    "    x_range = np.linspace(X.min(), X.max(), 100)\n",
    "    y_range = model.predict(x_range.reshape(-1, 1))    \n",
    "    fig.add_traces(go.Scatter(x=x_range, y=y_range, name='Regression' + gender, line=dict(color=colors[i],width=1)))  \n",
    "for i in range(df.shape[0]):\n",
    "    \n",
    "    fig.add_trace(go.Scatter(x=df[[x + \" [Men]\", x + \" [Women]\"]].iloc[i], \n",
    "                          y=[df[y].iloc[i],df[y].iloc[i]],\n",
    "#                              color_discrete_sequence=['red'],\n",
    "                             line=dict(color='rgb(200,200,200)',width=1),\n",
    "                            marker=dict(color=colors),\n",
    "                            name=df['Country'].iloc[i],\n",
    "                            ))\n",
    " \n",
    "  \n",
    "    \n",
    "# fig.add_trace(px.line(x=[0,85], y=[0,85],color_discrete_sequence=['black']).data[0])    \n",
    "fig.show()"
   ]
  },
  {
   "cell_type": "markdown",
   "id": "abstract-movie",
   "metadata": {},
   "source": [
    "There seems to be a certain correlation between acceptability and physical violence.\n",
    "[Work in progress]\n"
   ]
  },
  {
   "cell_type": "code",
   "execution_count": 294,
   "id": "retained-donna",
   "metadata": {
    "jupyter": {
     "source_hidden": true
    }
   },
   "outputs": [
    {
     "data": {
      "application/vnd.plotly.v1+json": {
       "config": {
        "plotlyServerURL": "https://plot.ly"
       },
       "data": [
        {
         "colorscale": [
          [
           0,
           "rgb(39,100,25)"
          ],
          [
           0.1,
           "rgb(77,146,33)"
          ],
          [
           0.2,
           "rgb(127,188,65)"
          ],
          [
           0.3,
           "rgb(184,225,134)"
          ],
          [
           0.4,
           "rgb(230,245,208)"
          ],
          [
           0.5,
           "rgb(247,247,247)"
          ],
          [
           0.6,
           "rgb(253,224,239)"
          ],
          [
           0.7,
           "rgb(241,182,218)"
          ],
          [
           0.8,
           "rgb(222,119,174)"
          ],
          [
           0.9,
           "rgb(197,27,125)"
          ],
          [
           1,
           "rgb(142,1,82)"
          ]
         ],
         "hoverinfosrc": "text",
         "locations": [
          "AFG",
          "ALB",
          "AGO",
          "ARM",
          "AZE",
          "BGD",
          "BEN",
          null,
          "BFA",
          "BDI",
          "KHM",
          "CMR",
          "TCD",
          "COL",
          "COM",
          "COG",
          null,
          null,
          "DOM",
          "EGY",
          "ERI",
          "SWZ",
          "ETH",
          "GAB",
          "GMB",
          "GHA",
          "GTM",
          "GIN",
          "GUY",
          "HTI",
          "HND",
          "IND",
          "IDN",
          "JOR",
          "KEN",
          null,
          "LSO",
          "LBR",
          "MDG",
          "MWI",
          "MDV",
          "MLI",
          null,
          "MAR",
          "MOZ",
          "MMR",
          "NAM",
          "NPL",
          "NIC",
          "NER",
          "NGA",
          "PAK",
          "PNG",
          "PER",
          "PHL",
          "RWA",
          "STP",
          "SEN",
          "SLE",
          "ZAF",
          "TJK",
          null,
          "TLS",
          "TGO",
          "TUR",
          "TKM",
          "UGA",
          "UKR",
          "YEM",
          "ZMB",
          "ZWE"
         ],
         "text": [
          "country: Afghanistan<br>experience: 45.8 %<br>acceptability: 80.2 %<br>",
          "country: Albania<br>experience: nan %<br>acceptability: 6.8 %<br>",
          "country: Angola<br>experience: 24.3 %<br>acceptability: 25.2 %<br>",
          "country: Armenia<br>experience: 3.5 %<br>acceptability: 10.1 %<br>",
          "country: Azerbaijan<br>experience: 9.3 %<br>acceptability: 49.0 %<br>",
          "country: Bangladesh<br>experience: nan %<br>acceptability: 20.1 %<br>",
          "country: Benin<br>experience: 11.2 %<br>acceptability: 31.8 %<br>",
          null,
          "country: Burkina Faso<br>experience: 8.9 %<br>acceptability: 43.5 %<br>",
          "country: Burundi<br>experience: 17.9 %<br>acceptability: 61.8 %<br>",
          "country: Cambodia<br>experience: 9.3 %<br>acceptability: 49.8 %<br>",
          "country: Cameroon<br>experience: 19.6 %<br>acceptability: 27.7 %<br>",
          "country: Chad<br>experience: 15.6 %<br>acceptability: 73.5 %<br>",
          "country: Colombia<br>experience: nan %<br>acceptability: 3.1 %<br>",
          "country: Comoros<br>experience: 4.3 %<br>acceptability: 39.0 %<br>",
          "country: Congo<br>experience: nan %<br>acceptability: 60.7 %<br>",
          null,
          null,
          "country: Dominican Republic<br>experience: 15.1 %<br>acceptability: 2.3 %<br>",
          "country: Egypt<br>experience: 13.5 %<br>acceptability: 35.7 %<br>",
          "country: Eritrea<br>experience: nan %<br>acceptability: 70.7 %<br>",
          "country: Eswatini<br>experience: nan %<br>acceptability: 23.2 %<br>",
          "country: Ethiopia<br>experience: 16.9 %<br>acceptability: 63.0 %<br>",
          "country: Gabon<br>experience: 28.5 %<br>acceptability: 50.2 %<br>",
          "country: Gambia<br>experience: 6.9 %<br>acceptability: 58.4 %<br>",
          "country: Ghana<br>experience: nan %<br>acceptability: 28.3 %<br>",
          "country: Guatemala<br>experience: 7.9 %<br>acceptability: 11.0 %<br>",
          "country: Guinea<br>experience: nan %<br>acceptability: 67.2 %<br>",
          "country: Guyana<br>experience: nan %<br>acceptability: 16.3 %<br>",
          "country: Haiti<br>experience: 10.1 %<br>acceptability: 16.6 %<br>",
          "country: Honduras<br>experience: 10.0 %<br>acceptability: 12.4 %<br>",
          "country: India<br>experience: 20.6 %<br>acceptability: 44.6 %<br>",
          "country: Indonesia<br>experience: nan %<br>acceptability: 32.0 %<br>",
          "country: Jordan<br>experience: 12.7 %<br>acceptability: 14.1 %<br>",
          "country: Kenya<br>experience: 22.7 %<br>acceptability: 41.8 %<br>",
          null,
          "country: Lesotho<br>experience: nan %<br>acceptability: 33.3 %<br>",
          "country: Liberia<br>experience: nan %<br>acceptability: 42.5 %<br>",
          "country: Madagascar<br>experience: nan %<br>acceptability: 32.3 %<br>",
          "country: Malawi<br>experience: 16.3 %<br>acceptability: 16.3 %<br>",
          "country: Maldives<br>experience: 5.5 %<br>acceptability: 22.0 %<br>",
          "country: Mali<br>experience: 18.1 %<br>acceptability: 79.4 %<br>",
          null,
          "country: Morocco<br>experience: nan %<br>acceptability: 63.9 %<br>",
          "country: Mozambique<br>experience: 14.7 %<br>acceptability: 13.3 %<br>",
          "country: Myanmar<br>experience: 10.2 %<br>acceptability: 51.2 %<br>",
          "country: Namibia<br>experience: 18.7 %<br>acceptability: 28.2 %<br>",
          "country: Nepal<br>experience: 10.0 %<br>acceptability: 28.5 %<br>",
          "country: Nicaragua<br>experience: nan %<br>acceptability: 12.5 %<br>",
          "country: Niger<br>experience: nan %<br>acceptability: 59.6 %<br>",
          "country: Nigeria<br>experience: 11.8 %<br>acceptability: 28.0 %<br>",
          "country: Pakistan<br>experience: 13.6 %<br>acceptability: 41.1 %<br>",
          "country: Papua New Guinea<br>experience: 44.4 %<br>acceptability: 69.8 %<br>",
          "country: Peru<br>experience: 12.1 %<br>acceptability: 3.5 %<br>",
          "country: Philippines<br>experience: 4.4 %<br>acceptability: 10.9 %<br>",
          "country: Rwanda<br>experience: 17.6 %<br>acceptability: 41.4 %<br>",
          "country: Sao Tome and Principe<br>experience: 25.5 %<br>acceptability: 19.5 %<br>",
          "country: Senegal<br>experience: 4.6 %<br>acceptability: 39.1 %<br>",
          "country: Sierra Leone<br>experience: 38.4 %<br>acceptability: 48.6 %<br>",
          "country: South Africa<br>experience: 9.0 %<br>acceptability: 5.5 %<br>",
          "country: Tajikistan<br>experience: 18.7 %<br>acceptability: 63.6 %<br>",
          null,
          "country: Timor-Leste<br>experience: 33.1 %<br>acceptability: 74.0 %<br>",
          "country: Togo<br>experience: 10.8 %<br>acceptability: 28.7 %<br>",
          "country: Turkey<br>experience: nan %<br>acceptability: 13.3 %<br>",
          "country: Turkmenistan<br>experience: nan %<br>acceptability: 51.7 %<br>",
          "country: Uganda<br>experience: 22.5 %<br>acceptability: 49.0 %<br>",
          "country: Ukraine<br>experience: 10.0 %<br>acceptability: 3.6 %<br>",
          "country: Yemen<br>experience: nan %<br>acceptability: 48.7 %<br>",
          "country: Zambia<br>experience: 21.1 %<br>acceptability: 45.1 %<br>",
          "country: Zimbabwe<br>experience: 15.3 %<br>acceptability: 38.7 %<br>"
         ],
         "type": "choropleth",
         "visible": true,
         "z": [
          0.42892768079800503,
          null,
          0.03571428571428566,
          0.6534653465346535,
          0.8102040816326531,
          null,
          0.6477987421383649,
          null,
          0.7954022988505748,
          0.7103559870550162,
          0.8132530120481928,
          0.29241877256317683,
          0.7877551020408163,
          null,
          0.8897435897435898,
          null,
          0.5949197860962567,
          0.5553235908141962,
          -5.565217391304349,
          0.6218487394957983,
          null,
          null,
          0.7317460317460318,
          0.43227091633466136,
          0.8818493150684932,
          null,
          0.2818181818181818,
          null,
          null,
          0.39156626506024106,
          0.19354838709677422,
          0.5381165919282511,
          null,
          0.099290780141844,
          0.4569377990430622,
          0.4985163204747775,
          null,
          null,
          null,
          0,
          0.75,
          0.7720403022670025,
          0.32211538461538464,
          null,
          -0.10526315789473673,
          0.80078125,
          0.33687943262411346,
          0.6491228070175439,
          null,
          null,
          0.5785714285714285,
          0.6690997566909975,
          0.3638968481375358,
          -2.457142857142857,
          0.5963302752293578,
          0.5748792270531401,
          -0.3076923076923077,
          0.8823529411764706,
          0.2098765432098766,
          -0.6363636363636364,
          0.7059748427672957,
          0.5327586206896552,
          0.5527027027027027,
          0.6236933797909407,
          null,
          null,
          0.5408163265306123,
          -1.777777777777778,
          null,
          0.532150776053215,
          0.6046511627906976
         ],
         "zmax": 1,
         "zmin": -1
        },
        {
         "colorscale": [
          [
           0,
           "rgb(247,252,245)"
          ],
          [
           0.125,
           "rgb(229,245,224)"
          ],
          [
           0.25,
           "rgb(199,233,192)"
          ],
          [
           0.375,
           "rgb(161,217,155)"
          ],
          [
           0.5,
           "rgb(116,196,118)"
          ],
          [
           0.625,
           "rgb(65,171,93)"
          ],
          [
           0.75,
           "rgb(35,139,69)"
          ],
          [
           0.875,
           "rgb(0,109,44)"
          ],
          [
           1,
           "rgb(0,68,27)"
          ]
         ],
         "hoverinfosrc": "text",
         "locations": [
          "AFG",
          "ALB",
          "AGO",
          "ARM",
          "AZE",
          "BGD",
          "BEN",
          null,
          "BFA",
          "BDI",
          "KHM",
          "CMR",
          "TCD",
          "COL",
          "COM",
          "COG",
          null,
          null,
          "DOM",
          "EGY",
          "ERI",
          "SWZ",
          "ETH",
          "GAB",
          "GMB",
          "GHA",
          "GTM",
          "GIN",
          "GUY",
          "HTI",
          "HND",
          "IND",
          "IDN",
          "JOR",
          "KEN",
          null,
          "LSO",
          "LBR",
          "MDG",
          "MWI",
          "MDV",
          "MLI",
          null,
          "MAR",
          "MOZ",
          "MMR",
          "NAM",
          "NPL",
          "NIC",
          "NER",
          "NGA",
          "PAK",
          "PNG",
          "PER",
          "PHL",
          "RWA",
          "STP",
          "SEN",
          "SLE",
          "ZAF",
          "TJK",
          null,
          "TLS",
          "TGO",
          "TUR",
          "TKM",
          "UGA",
          "UKR",
          "YEM",
          "ZMB",
          "ZWE"
         ],
         "text": [
          "country: Afghanistan<br>experience: 45.8 %<br>acceptability: 80.2 %<br>",
          "country: Albania<br>experience: nan %<br>acceptability: 6.8 %<br>",
          "country: Angola<br>experience: 24.3 %<br>acceptability: 25.2 %<br>",
          "country: Armenia<br>experience: 3.5 %<br>acceptability: 10.1 %<br>",
          "country: Azerbaijan<br>experience: 9.3 %<br>acceptability: 49.0 %<br>",
          "country: Bangladesh<br>experience: nan %<br>acceptability: 20.1 %<br>",
          "country: Benin<br>experience: 11.2 %<br>acceptability: 31.8 %<br>",
          null,
          "country: Burkina Faso<br>experience: 8.9 %<br>acceptability: 43.5 %<br>",
          "country: Burundi<br>experience: 17.9 %<br>acceptability: 61.8 %<br>",
          "country: Cambodia<br>experience: 9.3 %<br>acceptability: 49.8 %<br>",
          "country: Cameroon<br>experience: 19.6 %<br>acceptability: 27.7 %<br>",
          "country: Chad<br>experience: 15.6 %<br>acceptability: 73.5 %<br>",
          "country: Colombia<br>experience: nan %<br>acceptability: 3.1 %<br>",
          "country: Comoros<br>experience: 4.3 %<br>acceptability: 39.0 %<br>",
          "country: Congo<br>experience: nan %<br>acceptability: 60.7 %<br>",
          null,
          null,
          "country: Dominican Republic<br>experience: 15.1 %<br>acceptability: 2.3 %<br>",
          "country: Egypt<br>experience: 13.5 %<br>acceptability: 35.7 %<br>",
          "country: Eritrea<br>experience: nan %<br>acceptability: 70.7 %<br>",
          "country: Eswatini<br>experience: nan %<br>acceptability: 23.2 %<br>",
          "country: Ethiopia<br>experience: 16.9 %<br>acceptability: 63.0 %<br>",
          "country: Gabon<br>experience: 28.5 %<br>acceptability: 50.2 %<br>",
          "country: Gambia<br>experience: 6.9 %<br>acceptability: 58.4 %<br>",
          "country: Ghana<br>experience: nan %<br>acceptability: 28.3 %<br>",
          "country: Guatemala<br>experience: 7.9 %<br>acceptability: 11.0 %<br>",
          "country: Guinea<br>experience: nan %<br>acceptability: 67.2 %<br>",
          "country: Guyana<br>experience: nan %<br>acceptability: 16.3 %<br>",
          "country: Haiti<br>experience: 10.1 %<br>acceptability: 16.6 %<br>",
          "country: Honduras<br>experience: 10.0 %<br>acceptability: 12.4 %<br>",
          "country: India<br>experience: 20.6 %<br>acceptability: 44.6 %<br>",
          "country: Indonesia<br>experience: nan %<br>acceptability: 32.0 %<br>",
          "country: Jordan<br>experience: 12.7 %<br>acceptability: 14.1 %<br>",
          "country: Kenya<br>experience: 22.7 %<br>acceptability: 41.8 %<br>",
          null,
          "country: Lesotho<br>experience: nan %<br>acceptability: 33.3 %<br>",
          "country: Liberia<br>experience: nan %<br>acceptability: 42.5 %<br>",
          "country: Madagascar<br>experience: nan %<br>acceptability: 32.3 %<br>",
          "country: Malawi<br>experience: 16.3 %<br>acceptability: 16.3 %<br>",
          "country: Maldives<br>experience: 5.5 %<br>acceptability: 22.0 %<br>",
          "country: Mali<br>experience: 18.1 %<br>acceptability: 79.4 %<br>",
          null,
          "country: Morocco<br>experience: nan %<br>acceptability: 63.9 %<br>",
          "country: Mozambique<br>experience: 14.7 %<br>acceptability: 13.3 %<br>",
          "country: Myanmar<br>experience: 10.2 %<br>acceptability: 51.2 %<br>",
          "country: Namibia<br>experience: 18.7 %<br>acceptability: 28.2 %<br>",
          "country: Nepal<br>experience: 10.0 %<br>acceptability: 28.5 %<br>",
          "country: Nicaragua<br>experience: nan %<br>acceptability: 12.5 %<br>",
          "country: Niger<br>experience: nan %<br>acceptability: 59.6 %<br>",
          "country: Nigeria<br>experience: 11.8 %<br>acceptability: 28.0 %<br>",
          "country: Pakistan<br>experience: 13.6 %<br>acceptability: 41.1 %<br>",
          "country: Papua New Guinea<br>experience: 44.4 %<br>acceptability: 69.8 %<br>",
          "country: Peru<br>experience: 12.1 %<br>acceptability: 3.5 %<br>",
          "country: Philippines<br>experience: 4.4 %<br>acceptability: 10.9 %<br>",
          "country: Rwanda<br>experience: 17.6 %<br>acceptability: 41.4 %<br>",
          "country: Sao Tome and Principe<br>experience: 25.5 %<br>acceptability: 19.5 %<br>",
          "country: Senegal<br>experience: 4.6 %<br>acceptability: 39.1 %<br>",
          "country: Sierra Leone<br>experience: 38.4 %<br>acceptability: 48.6 %<br>",
          "country: South Africa<br>experience: 9.0 %<br>acceptability: 5.5 %<br>",
          "country: Tajikistan<br>experience: 18.7 %<br>acceptability: 63.6 %<br>",
          null,
          "country: Timor-Leste<br>experience: 33.1 %<br>acceptability: 74.0 %<br>",
          "country: Togo<br>experience: 10.8 %<br>acceptability: 28.7 %<br>",
          "country: Turkey<br>experience: nan %<br>acceptability: 13.3 %<br>",
          "country: Turkmenistan<br>experience: nan %<br>acceptability: 51.7 %<br>",
          "country: Uganda<br>experience: 22.5 %<br>acceptability: 49.0 %<br>",
          "country: Ukraine<br>experience: 10.0 %<br>acceptability: 3.6 %<br>",
          "country: Yemen<br>experience: nan %<br>acceptability: 48.7 %<br>",
          "country: Zambia<br>experience: 21.1 %<br>acceptability: 45.1 %<br>",
          "country: Zimbabwe<br>experience: 15.3 %<br>acceptability: 38.7 %<br>"
         ],
         "type": "choropleth",
         "visible": false,
         "z": [
          45.8,
          null,
          24.3,
          3.5,
          9.3,
          null,
          11.2,
          null,
          8.9,
          17.9,
          9.3,
          19.6,
          15.6,
          null,
          4.3,
          null,
          30.3,
          21.3,
          15.1,
          13.5,
          null,
          null,
          16.9,
          28.5,
          6.9,
          null,
          7.9,
          null,
          null,
          10.1,
          10,
          20.6,
          null,
          12.7,
          22.7,
          16.9,
          null,
          null,
          null,
          16.3,
          5.5,
          18.1,
          14.1,
          null,
          14.7,
          10.2,
          18.7,
          10,
          null,
          null,
          11.8,
          13.6,
          44.4,
          12.1,
          4.4,
          17.6,
          25.5,
          4.6,
          38.4,
          9,
          18.7,
          27.1,
          33.1,
          10.8,
          null,
          null,
          22.5,
          10,
          null,
          21.1,
          15.3
         ]
        },
        {
         "colorscale": [
          [
           0,
           "rgb(255,245,240)"
          ],
          [
           0.125,
           "rgb(254,224,210)"
          ],
          [
           0.25,
           "rgb(252,187,161)"
          ],
          [
           0.375,
           "rgb(252,146,114)"
          ],
          [
           0.5,
           "rgb(251,106,74)"
          ],
          [
           0.625,
           "rgb(239,59,44)"
          ],
          [
           0.75,
           "rgb(203,24,29)"
          ],
          [
           0.875,
           "rgb(165,15,21)"
          ],
          [
           1,
           "rgb(103,0,13)"
          ]
         ],
         "hoverinfosrc": "text",
         "locations": [
          "AFG",
          "ALB",
          "AGO",
          "ARM",
          "AZE",
          "BGD",
          "BEN",
          null,
          "BFA",
          "BDI",
          "KHM",
          "CMR",
          "TCD",
          "COL",
          "COM",
          "COG",
          null,
          null,
          "DOM",
          "EGY",
          "ERI",
          "SWZ",
          "ETH",
          "GAB",
          "GMB",
          "GHA",
          "GTM",
          "GIN",
          "GUY",
          "HTI",
          "HND",
          "IND",
          "IDN",
          "JOR",
          "KEN",
          null,
          "LSO",
          "LBR",
          "MDG",
          "MWI",
          "MDV",
          "MLI",
          null,
          "MAR",
          "MOZ",
          "MMR",
          "NAM",
          "NPL",
          "NIC",
          "NER",
          "NGA",
          "PAK",
          "PNG",
          "PER",
          "PHL",
          "RWA",
          "STP",
          "SEN",
          "SLE",
          "ZAF",
          "TJK",
          null,
          "TLS",
          "TGO",
          "TUR",
          "TKM",
          "UGA",
          "UKR",
          "YEM",
          "ZMB",
          "ZWE"
         ],
         "text": [
          "country: Afghanistan<br>experience: 45.8 %<br>acceptability: 80.2 %<br>",
          "country: Albania<br>experience: nan %<br>acceptability: 6.8 %<br>",
          "country: Angola<br>experience: 24.3 %<br>acceptability: 25.2 %<br>",
          "country: Armenia<br>experience: 3.5 %<br>acceptability: 10.1 %<br>",
          "country: Azerbaijan<br>experience: 9.3 %<br>acceptability: 49.0 %<br>",
          "country: Bangladesh<br>experience: nan %<br>acceptability: 20.1 %<br>",
          "country: Benin<br>experience: 11.2 %<br>acceptability: 31.8 %<br>",
          null,
          "country: Burkina Faso<br>experience: 8.9 %<br>acceptability: 43.5 %<br>",
          "country: Burundi<br>experience: 17.9 %<br>acceptability: 61.8 %<br>",
          "country: Cambodia<br>experience: 9.3 %<br>acceptability: 49.8 %<br>",
          "country: Cameroon<br>experience: 19.6 %<br>acceptability: 27.7 %<br>",
          "country: Chad<br>experience: 15.6 %<br>acceptability: 73.5 %<br>",
          "country: Colombia<br>experience: nan %<br>acceptability: 3.1 %<br>",
          "country: Comoros<br>experience: 4.3 %<br>acceptability: 39.0 %<br>",
          "country: Congo<br>experience: nan %<br>acceptability: 60.7 %<br>",
          null,
          null,
          "country: Dominican Republic<br>experience: 15.1 %<br>acceptability: 2.3 %<br>",
          "country: Egypt<br>experience: 13.5 %<br>acceptability: 35.7 %<br>",
          "country: Eritrea<br>experience: nan %<br>acceptability: 70.7 %<br>",
          "country: Eswatini<br>experience: nan %<br>acceptability: 23.2 %<br>",
          "country: Ethiopia<br>experience: 16.9 %<br>acceptability: 63.0 %<br>",
          "country: Gabon<br>experience: 28.5 %<br>acceptability: 50.2 %<br>",
          "country: Gambia<br>experience: 6.9 %<br>acceptability: 58.4 %<br>",
          "country: Ghana<br>experience: nan %<br>acceptability: 28.3 %<br>",
          "country: Guatemala<br>experience: 7.9 %<br>acceptability: 11.0 %<br>",
          "country: Guinea<br>experience: nan %<br>acceptability: 67.2 %<br>",
          "country: Guyana<br>experience: nan %<br>acceptability: 16.3 %<br>",
          "country: Haiti<br>experience: 10.1 %<br>acceptability: 16.6 %<br>",
          "country: Honduras<br>experience: 10.0 %<br>acceptability: 12.4 %<br>",
          "country: India<br>experience: 20.6 %<br>acceptability: 44.6 %<br>",
          "country: Indonesia<br>experience: nan %<br>acceptability: 32.0 %<br>",
          "country: Jordan<br>experience: 12.7 %<br>acceptability: 14.1 %<br>",
          "country: Kenya<br>experience: 22.7 %<br>acceptability: 41.8 %<br>",
          null,
          "country: Lesotho<br>experience: nan %<br>acceptability: 33.3 %<br>",
          "country: Liberia<br>experience: nan %<br>acceptability: 42.5 %<br>",
          "country: Madagascar<br>experience: nan %<br>acceptability: 32.3 %<br>",
          "country: Malawi<br>experience: 16.3 %<br>acceptability: 16.3 %<br>",
          "country: Maldives<br>experience: 5.5 %<br>acceptability: 22.0 %<br>",
          "country: Mali<br>experience: 18.1 %<br>acceptability: 79.4 %<br>",
          null,
          "country: Morocco<br>experience: nan %<br>acceptability: 63.9 %<br>",
          "country: Mozambique<br>experience: 14.7 %<br>acceptability: 13.3 %<br>",
          "country: Myanmar<br>experience: 10.2 %<br>acceptability: 51.2 %<br>",
          "country: Namibia<br>experience: 18.7 %<br>acceptability: 28.2 %<br>",
          "country: Nepal<br>experience: 10.0 %<br>acceptability: 28.5 %<br>",
          "country: Nicaragua<br>experience: nan %<br>acceptability: 12.5 %<br>",
          "country: Niger<br>experience: nan %<br>acceptability: 59.6 %<br>",
          "country: Nigeria<br>experience: 11.8 %<br>acceptability: 28.0 %<br>",
          "country: Pakistan<br>experience: 13.6 %<br>acceptability: 41.1 %<br>",
          "country: Papua New Guinea<br>experience: 44.4 %<br>acceptability: 69.8 %<br>",
          "country: Peru<br>experience: 12.1 %<br>acceptability: 3.5 %<br>",
          "country: Philippines<br>experience: 4.4 %<br>acceptability: 10.9 %<br>",
          "country: Rwanda<br>experience: 17.6 %<br>acceptability: 41.4 %<br>",
          "country: Sao Tome and Principe<br>experience: 25.5 %<br>acceptability: 19.5 %<br>",
          "country: Senegal<br>experience: 4.6 %<br>acceptability: 39.1 %<br>",
          "country: Sierra Leone<br>experience: 38.4 %<br>acceptability: 48.6 %<br>",
          "country: South Africa<br>experience: 9.0 %<br>acceptability: 5.5 %<br>",
          "country: Tajikistan<br>experience: 18.7 %<br>acceptability: 63.6 %<br>",
          null,
          "country: Timor-Leste<br>experience: 33.1 %<br>acceptability: 74.0 %<br>",
          "country: Togo<br>experience: 10.8 %<br>acceptability: 28.7 %<br>",
          "country: Turkey<br>experience: nan %<br>acceptability: 13.3 %<br>",
          "country: Turkmenistan<br>experience: nan %<br>acceptability: 51.7 %<br>",
          "country: Uganda<br>experience: 22.5 %<br>acceptability: 49.0 %<br>",
          "country: Ukraine<br>experience: 10.0 %<br>acceptability: 3.6 %<br>",
          "country: Yemen<br>experience: nan %<br>acceptability: 48.7 %<br>",
          "country: Zambia<br>experience: 21.1 %<br>acceptability: 45.1 %<br>",
          "country: Zimbabwe<br>experience: 15.3 %<br>acceptability: 38.7 %<br>"
         ],
         "type": "choropleth",
         "visible": false,
         "z": [
          80.2,
          6.8,
          25.2,
          10.1,
          49,
          20.1,
          31.8,
          16.1,
          43.5,
          61.8,
          49.8,
          27.7,
          73.5,
          3.1,
          39,
          60.7,
          74.8,
          47.9,
          2.3,
          35.7,
          70.7,
          23.2,
          63,
          50.2,
          58.4,
          28.3,
          11,
          67.2,
          16.3,
          16.6,
          12.4,
          44.6,
          32,
          14.1,
          41.8,
          33.7,
          33.3,
          42.5,
          32.3,
          16.3,
          22,
          79.4,
          20.8,
          63.9,
          13.3,
          51.2,
          28.2,
          28.5,
          12.5,
          59.6,
          28,
          41.1,
          69.8,
          3.5,
          10.9,
          41.4,
          19.5,
          39.1,
          48.6,
          5.5,
          63.6,
          58,
          74,
          28.7,
          13.3,
          51.7,
          49,
          3.6,
          48.7,
          45.1,
          38.7
         ]
        }
       ],
       "layout": {
        "autosize": true,
        "geo": {
         "center": {
          "lat": 41.376434338241964,
          "lon": 17.774592893260788
         },
         "projection": {
          "rotation": {
           "lon": 17.774592893260788
          },
          "scale": 0.6792431422744727
         }
        },
        "template": {
         "data": {
          "bar": [
           {
            "error_x": {
             "color": "#2a3f5f"
            },
            "error_y": {
             "color": "#2a3f5f"
            },
            "marker": {
             "line": {
              "color": "#E5ECF6",
              "width": 0.5
             }
            },
            "type": "bar"
           }
          ],
          "barpolar": [
           {
            "marker": {
             "line": {
              "color": "#E5ECF6",
              "width": 0.5
             }
            },
            "type": "barpolar"
           }
          ],
          "carpet": [
           {
            "aaxis": {
             "endlinecolor": "#2a3f5f",
             "gridcolor": "white",
             "linecolor": "white",
             "minorgridcolor": "white",
             "startlinecolor": "#2a3f5f"
            },
            "baxis": {
             "endlinecolor": "#2a3f5f",
             "gridcolor": "white",
             "linecolor": "white",
             "minorgridcolor": "white",
             "startlinecolor": "#2a3f5f"
            },
            "type": "carpet"
           }
          ],
          "choropleth": [
           {
            "colorbar": {
             "outlinewidth": 0,
             "ticks": ""
            },
            "type": "choropleth"
           }
          ],
          "contour": [
           {
            "colorbar": {
             "outlinewidth": 0,
             "ticks": ""
            },
            "colorscale": [
             [
              0,
              "#0d0887"
             ],
             [
              0.1111111111111111,
              "#46039f"
             ],
             [
              0.2222222222222222,
              "#7201a8"
             ],
             [
              0.3333333333333333,
              "#9c179e"
             ],
             [
              0.4444444444444444,
              "#bd3786"
             ],
             [
              0.5555555555555556,
              "#d8576b"
             ],
             [
              0.6666666666666666,
              "#ed7953"
             ],
             [
              0.7777777777777778,
              "#fb9f3a"
             ],
             [
              0.8888888888888888,
              "#fdca26"
             ],
             [
              1,
              "#f0f921"
             ]
            ],
            "type": "contour"
           }
          ],
          "contourcarpet": [
           {
            "colorbar": {
             "outlinewidth": 0,
             "ticks": ""
            },
            "type": "contourcarpet"
           }
          ],
          "heatmap": [
           {
            "colorbar": {
             "outlinewidth": 0,
             "ticks": ""
            },
            "colorscale": [
             [
              0,
              "#0d0887"
             ],
             [
              0.1111111111111111,
              "#46039f"
             ],
             [
              0.2222222222222222,
              "#7201a8"
             ],
             [
              0.3333333333333333,
              "#9c179e"
             ],
             [
              0.4444444444444444,
              "#bd3786"
             ],
             [
              0.5555555555555556,
              "#d8576b"
             ],
             [
              0.6666666666666666,
              "#ed7953"
             ],
             [
              0.7777777777777778,
              "#fb9f3a"
             ],
             [
              0.8888888888888888,
              "#fdca26"
             ],
             [
              1,
              "#f0f921"
             ]
            ],
            "type": "heatmap"
           }
          ],
          "heatmapgl": [
           {
            "colorbar": {
             "outlinewidth": 0,
             "ticks": ""
            },
            "colorscale": [
             [
              0,
              "#0d0887"
             ],
             [
              0.1111111111111111,
              "#46039f"
             ],
             [
              0.2222222222222222,
              "#7201a8"
             ],
             [
              0.3333333333333333,
              "#9c179e"
             ],
             [
              0.4444444444444444,
              "#bd3786"
             ],
             [
              0.5555555555555556,
              "#d8576b"
             ],
             [
              0.6666666666666666,
              "#ed7953"
             ],
             [
              0.7777777777777778,
              "#fb9f3a"
             ],
             [
              0.8888888888888888,
              "#fdca26"
             ],
             [
              1,
              "#f0f921"
             ]
            ],
            "type": "heatmapgl"
           }
          ],
          "histogram": [
           {
            "marker": {
             "colorbar": {
              "outlinewidth": 0,
              "ticks": ""
             }
            },
            "type": "histogram"
           }
          ],
          "histogram2d": [
           {
            "colorbar": {
             "outlinewidth": 0,
             "ticks": ""
            },
            "colorscale": [
             [
              0,
              "#0d0887"
             ],
             [
              0.1111111111111111,
              "#46039f"
             ],
             [
              0.2222222222222222,
              "#7201a8"
             ],
             [
              0.3333333333333333,
              "#9c179e"
             ],
             [
              0.4444444444444444,
              "#bd3786"
             ],
             [
              0.5555555555555556,
              "#d8576b"
             ],
             [
              0.6666666666666666,
              "#ed7953"
             ],
             [
              0.7777777777777778,
              "#fb9f3a"
             ],
             [
              0.8888888888888888,
              "#fdca26"
             ],
             [
              1,
              "#f0f921"
             ]
            ],
            "type": "histogram2d"
           }
          ],
          "histogram2dcontour": [
           {
            "colorbar": {
             "outlinewidth": 0,
             "ticks": ""
            },
            "colorscale": [
             [
              0,
              "#0d0887"
             ],
             [
              0.1111111111111111,
              "#46039f"
             ],
             [
              0.2222222222222222,
              "#7201a8"
             ],
             [
              0.3333333333333333,
              "#9c179e"
             ],
             [
              0.4444444444444444,
              "#bd3786"
             ],
             [
              0.5555555555555556,
              "#d8576b"
             ],
             [
              0.6666666666666666,
              "#ed7953"
             ],
             [
              0.7777777777777778,
              "#fb9f3a"
             ],
             [
              0.8888888888888888,
              "#fdca26"
             ],
             [
              1,
              "#f0f921"
             ]
            ],
            "type": "histogram2dcontour"
           }
          ],
          "mesh3d": [
           {
            "colorbar": {
             "outlinewidth": 0,
             "ticks": ""
            },
            "type": "mesh3d"
           }
          ],
          "parcoords": [
           {
            "line": {
             "colorbar": {
              "outlinewidth": 0,
              "ticks": ""
             }
            },
            "type": "parcoords"
           }
          ],
          "pie": [
           {
            "automargin": true,
            "type": "pie"
           }
          ],
          "scatter": [
           {
            "marker": {
             "colorbar": {
              "outlinewidth": 0,
              "ticks": ""
             }
            },
            "type": "scatter"
           }
          ],
          "scatter3d": [
           {
            "line": {
             "colorbar": {
              "outlinewidth": 0,
              "ticks": ""
             }
            },
            "marker": {
             "colorbar": {
              "outlinewidth": 0,
              "ticks": ""
             }
            },
            "type": "scatter3d"
           }
          ],
          "scattercarpet": [
           {
            "marker": {
             "colorbar": {
              "outlinewidth": 0,
              "ticks": ""
             }
            },
            "type": "scattercarpet"
           }
          ],
          "scattergeo": [
           {
            "marker": {
             "colorbar": {
              "outlinewidth": 0,
              "ticks": ""
             }
            },
            "type": "scattergeo"
           }
          ],
          "scattergl": [
           {
            "marker": {
             "colorbar": {
              "outlinewidth": 0,
              "ticks": ""
             }
            },
            "type": "scattergl"
           }
          ],
          "scattermapbox": [
           {
            "marker": {
             "colorbar": {
              "outlinewidth": 0,
              "ticks": ""
             }
            },
            "type": "scattermapbox"
           }
          ],
          "scatterpolar": [
           {
            "marker": {
             "colorbar": {
              "outlinewidth": 0,
              "ticks": ""
             }
            },
            "type": "scatterpolar"
           }
          ],
          "scatterpolargl": [
           {
            "marker": {
             "colorbar": {
              "outlinewidth": 0,
              "ticks": ""
             }
            },
            "type": "scatterpolargl"
           }
          ],
          "scatterternary": [
           {
            "marker": {
             "colorbar": {
              "outlinewidth": 0,
              "ticks": ""
             }
            },
            "type": "scatterternary"
           }
          ],
          "surface": [
           {
            "colorbar": {
             "outlinewidth": 0,
             "ticks": ""
            },
            "colorscale": [
             [
              0,
              "#0d0887"
             ],
             [
              0.1111111111111111,
              "#46039f"
             ],
             [
              0.2222222222222222,
              "#7201a8"
             ],
             [
              0.3333333333333333,
              "#9c179e"
             ],
             [
              0.4444444444444444,
              "#bd3786"
             ],
             [
              0.5555555555555556,
              "#d8576b"
             ],
             [
              0.6666666666666666,
              "#ed7953"
             ],
             [
              0.7777777777777778,
              "#fb9f3a"
             ],
             [
              0.8888888888888888,
              "#fdca26"
             ],
             [
              1,
              "#f0f921"
             ]
            ],
            "type": "surface"
           }
          ],
          "table": [
           {
            "cells": {
             "fill": {
              "color": "#EBF0F8"
             },
             "line": {
              "color": "white"
             }
            },
            "header": {
             "fill": {
              "color": "#C8D4E3"
             },
             "line": {
              "color": "white"
             }
            },
            "type": "table"
           }
          ]
         },
         "layout": {
          "annotationdefaults": {
           "arrowcolor": "#2a3f5f",
           "arrowhead": 0,
           "arrowwidth": 1
          },
          "autotypenumbers": "strict",
          "coloraxis": {
           "colorbar": {
            "outlinewidth": 0,
            "ticks": ""
           }
          },
          "colorscale": {
           "diverging": [
            [
             0,
             "#8e0152"
            ],
            [
             0.1,
             "#c51b7d"
            ],
            [
             0.2,
             "#de77ae"
            ],
            [
             0.3,
             "#f1b6da"
            ],
            [
             0.4,
             "#fde0ef"
            ],
            [
             0.5,
             "#f7f7f7"
            ],
            [
             0.6,
             "#e6f5d0"
            ],
            [
             0.7,
             "#b8e186"
            ],
            [
             0.8,
             "#7fbc41"
            ],
            [
             0.9,
             "#4d9221"
            ],
            [
             1,
             "#276419"
            ]
           ],
           "sequential": [
            [
             0,
             "#0d0887"
            ],
            [
             0.1111111111111111,
             "#46039f"
            ],
            [
             0.2222222222222222,
             "#7201a8"
            ],
            [
             0.3333333333333333,
             "#9c179e"
            ],
            [
             0.4444444444444444,
             "#bd3786"
            ],
            [
             0.5555555555555556,
             "#d8576b"
            ],
            [
             0.6666666666666666,
             "#ed7953"
            ],
            [
             0.7777777777777778,
             "#fb9f3a"
            ],
            [
             0.8888888888888888,
             "#fdca26"
            ],
            [
             1,
             "#f0f921"
            ]
           ],
           "sequentialminus": [
            [
             0,
             "#0d0887"
            ],
            [
             0.1111111111111111,
             "#46039f"
            ],
            [
             0.2222222222222222,
             "#7201a8"
            ],
            [
             0.3333333333333333,
             "#9c179e"
            ],
            [
             0.4444444444444444,
             "#bd3786"
            ],
            [
             0.5555555555555556,
             "#d8576b"
            ],
            [
             0.6666666666666666,
             "#ed7953"
            ],
            [
             0.7777777777777778,
             "#fb9f3a"
            ],
            [
             0.8888888888888888,
             "#fdca26"
            ],
            [
             1,
             "#f0f921"
            ]
           ]
          },
          "colorway": [
           "#636efa",
           "#EF553B",
           "#00cc96",
           "#ab63fa",
           "#FFA15A",
           "#19d3f3",
           "#FF6692",
           "#B6E880",
           "#FF97FF",
           "#FECB52"
          ],
          "font": {
           "color": "#2a3f5f"
          },
          "geo": {
           "bgcolor": "white",
           "lakecolor": "white",
           "landcolor": "#E5ECF6",
           "showlakes": true,
           "showland": true,
           "subunitcolor": "white"
          },
          "hoverlabel": {
           "align": "left"
          },
          "hovermode": "closest",
          "mapbox": {
           "style": "light"
          },
          "paper_bgcolor": "white",
          "plot_bgcolor": "#E5ECF6",
          "polar": {
           "angularaxis": {
            "gridcolor": "white",
            "linecolor": "white",
            "ticks": ""
           },
           "bgcolor": "#E5ECF6",
           "radialaxis": {
            "gridcolor": "white",
            "linecolor": "white",
            "ticks": ""
           }
          },
          "scene": {
           "xaxis": {
            "backgroundcolor": "#E5ECF6",
            "gridcolor": "white",
            "gridwidth": 2,
            "linecolor": "white",
            "showbackground": true,
            "ticks": "",
            "zerolinecolor": "white"
           },
           "yaxis": {
            "backgroundcolor": "#E5ECF6",
            "gridcolor": "white",
            "gridwidth": 2,
            "linecolor": "white",
            "showbackground": true,
            "ticks": "",
            "zerolinecolor": "white"
           },
           "zaxis": {
            "backgroundcolor": "#E5ECF6",
            "gridcolor": "white",
            "gridwidth": 2,
            "linecolor": "white",
            "showbackground": true,
            "ticks": "",
            "zerolinecolor": "white"
           }
          },
          "shapedefaults": {
           "line": {
            "color": "#2a3f5f"
           }
          },
          "ternary": {
           "aaxis": {
            "gridcolor": "white",
            "linecolor": "white",
            "ticks": ""
           },
           "baxis": {
            "gridcolor": "white",
            "linecolor": "white",
            "ticks": ""
           },
           "bgcolor": "#E5ECF6",
           "caxis": {
            "gridcolor": "white",
            "linecolor": "white",
            "ticks": ""
           }
          },
          "title": {
           "x": 0.05
          },
          "xaxis": {
           "automargin": true,
           "gridcolor": "white",
           "linecolor": "white",
           "ticks": "",
           "title": {
            "standoff": 15
           },
           "zerolinecolor": "white",
           "zerolinewidth": 2
          },
          "yaxis": {
           "automargin": true,
           "gridcolor": "white",
           "linecolor": "white",
           "ticks": "",
           "title": {
            "standoff": 15
           },
           "zerolinecolor": "white",
           "zerolinewidth": 2
          }
         }
        },
        "updatemenus": [
         {
          "active": 2,
          "buttons": [
           {
            "args": [
             {
              "visible": [
               false,
               false,
               true
              ]
             }
            ],
            "label": "Acceptability",
            "method": "restyle"
           },
           {
            "args": [
             {
              "visible": [
               false,
               true,
               false
              ]
             }
            ],
            "label": "Experience",
            "method": "restyle"
           },
           {
            "args": [
             {
              "visible": [
               true,
               false,
               false
              ]
             }
            ],
            "label": "Difference (Acceptatbility-Experience)",
            "method": "restyle"
           }
          ],
          "direction": "right",
          "showactive": true,
          "type": "buttons",
          "x": 0.57,
          "y": 1.2
         }
        ]
       }
      },
      "image/png": "[encoded data removed]",
      "text/html": [
       "<div>                            <div id=\"35e079fd-8946-4cf6-aea2-942f1d2ffe9a\" class=\"plotly-graph-div\" style=\"height:525px; width:100%;\"></div>            <script type=\"text/javascript\">                require([\"plotly\"], function(Plotly) {                    window.PLOTLYENV=window.PLOTLYENV || {};                                    if (document.getElementById(\"35e079fd-8946-4cf6-aea2-942f1d2ffe9a\")) {                    Plotly.newPlot(                        \"35e079fd-8946-4cf6-aea2-942f1d2ffe9a\",                        [{\"colorscale\": [[0.0, \"rgb(39,100,25)\"], [0.1, \"rgb(77,146,33)\"], [0.2, \"rgb(127,188,65)\"], [0.3, \"rgb(184,225,134)\"], [0.4, \"rgb(230,245,208)\"], [0.5, \"rgb(247,247,247)\"], [0.6, \"rgb(253,224,239)\"], [0.7, \"rgb(241,182,218)\"], [0.8, \"rgb(222,119,174)\"], [0.9, \"rgb(197,27,125)\"], [1.0, \"rgb(142,1,82)\"]], \"hoverinfosrc\": \"text\", \"locations\": [\"AFG\", \"ALB\", \"AGO\", \"ARM\", \"AZE\", \"BGD\", \"BEN\", null, \"BFA\", \"BDI\", \"KHM\", \"CMR\", \"TCD\", \"COL\", \"COM\", \"COG\", null, null, \"DOM\", \"EGY\", \"ERI\", \"SWZ\", \"ETH\", \"GAB\", \"GMB\", \"GHA\", \"GTM\", \"GIN\", \"GUY\", \"HTI\", \"HND\", \"IND\", \"IDN\", \"JOR\", \"KEN\", null, \"LSO\", \"LBR\", \"MDG\", \"MWI\", \"MDV\", \"MLI\", null, \"MAR\", \"MOZ\", \"MMR\", \"NAM\", \"NPL\", \"NIC\", \"NER\", \"NGA\", \"PAK\", \"PNG\", \"PER\", \"PHL\", \"RWA\", \"STP\", \"SEN\", \"SLE\", \"ZAF\", \"TJK\", null, \"TLS\", \"TGO\", \"TUR\", \"TKM\", \"UGA\", \"UKR\", \"YEM\", \"ZMB\", \"ZWE\"], \"text\": [\"country: Afghanistan<br>experience: 45.8 %<br>acceptability: 80.2 %<br>\", \"country: Albania<br>experience: nan %<br>acceptability: 6.8 %<br>\", \"country: Angola<br>experience: 24.3 %<br>acceptability: 25.2 %<br>\", \"country: Armenia<br>experience: 3.5 %<br>acceptability: 10.1 %<br>\", \"country: Azerbaijan<br>experience: 9.3 %<br>acceptability: 49.0 %<br>\", \"country: Bangladesh<br>experience: nan %<br>acceptability: 20.1 %<br>\", \"country: Benin<br>experience: 11.2 %<br>acceptability: 31.8 %<br>\", null, \"country: Burkina Faso<br>experience: 8.9 %<br>acceptability: 43.5 %<br>\", \"country: Burundi<br>experience: 17.9 %<br>acceptability: 61.8 %<br>\", \"country: Cambodia<br>experience: 9.3 %<br>acceptability: 49.8 %<br>\", \"country: Cameroon<br>experience: 19.6 %<br>acceptability: 27.7 %<br>\", \"country: Chad<br>experience: 15.6 %<br>acceptability: 73.5 %<br>\", \"country: Colombia<br>experience: nan %<br>acceptability: 3.1 %<br>\", \"country: Comoros<br>experience: 4.3 %<br>acceptability: 39.0 %<br>\", \"country: Congo<br>experience: nan %<br>acceptability: 60.7 %<br>\", null, null, \"country: Dominican Republic<br>experience: 15.1 %<br>acceptability: 2.3 %<br>\", \"country: Egypt<br>experience: 13.5 %<br>acceptability: 35.7 %<br>\", \"country: Eritrea<br>experience: nan %<br>acceptability: 70.7 %<br>\", \"country: Eswatini<br>experience: nan %<br>acceptability: 23.2 %<br>\", \"country: Ethiopia<br>experience: 16.9 %<br>acceptability: 63.0 %<br>\", \"country: Gabon<br>experience: 28.5 %<br>acceptability: 50.2 %<br>\", \"country: Gambia<br>experience: 6.9 %<br>acceptability: 58.4 %<br>\", \"country: Ghana<br>experience: nan %<br>acceptability: 28.3 %<br>\", \"country: Guatemala<br>experience: 7.9 %<br>acceptability: 11.0 %<br>\", \"country: Guinea<br>experience: nan %<br>acceptability: 67.2 %<br>\", \"country: Guyana<br>experience: nan %<br>acceptability: 16.3 %<br>\", \"country: Haiti<br>experience: 10.1 %<br>acceptability: 16.6 %<br>\", \"country: Honduras<br>experience: 10.0 %<br>acceptability: 12.4 %<br>\", \"country: India<br>experience: 20.6 %<br>acceptability: 44.6 %<br>\", \"country: Indonesia<br>experience: nan %<br>acceptability: 32.0 %<br>\", \"country: Jordan<br>experience: 12.7 %<br>acceptability: 14.1 %<br>\", \"country: Kenya<br>experience: 22.7 %<br>acceptability: 41.8 %<br>\", null, \"country: Lesotho<br>experience: nan %<br>acceptability: 33.3 %<br>\", \"country: Liberia<br>experience: nan %<br>acceptability: 42.5 %<br>\", \"country: Madagascar<br>experience: nan %<br>acceptability: 32.3 %<br>\", \"country: Malawi<br>experience: 16.3 %<br>acceptability: 16.3 %<br>\", \"country: Maldives<br>experience: 5.5 %<br>acceptability: 22.0 %<br>\", \"country: Mali<br>experience: 18.1 %<br>acceptability: 79.4 %<br>\", null, \"country: Morocco<br>experience: nan %<br>acceptability: 63.9 %<br>\", \"country: Mozambique<br>experience: 14.7 %<br>acceptability: 13.3 %<br>\", \"country: Myanmar<br>experience: 10.2 %<br>acceptability: 51.2 %<br>\", \"country: Namibia<br>experience: 18.7 %<br>acceptability: 28.2 %<br>\", \"country: Nepal<br>experience: 10.0 %<br>acceptability: 28.5 %<br>\", \"country: Nicaragua<br>experience: nan %<br>acceptability: 12.5 %<br>\", \"country: Niger<br>experience: nan %<br>acceptability: 59.6 %<br>\", \"country: Nigeria<br>experience: 11.8 %<br>acceptability: 28.0 %<br>\", \"country: Pakistan<br>experience: 13.6 %<br>acceptability: 41.1 %<br>\", \"country: Papua New Guinea<br>experience: 44.4 %<br>acceptability: 69.8 %<br>\", \"country: Peru<br>experience: 12.1 %<br>acceptability: 3.5 %<br>\", \"country: Philippines<br>experience: 4.4 %<br>acceptability: 10.9 %<br>\", \"country: Rwanda<br>experience: 17.6 %<br>acceptability: 41.4 %<br>\", \"country: Sao Tome and Principe<br>experience: 25.5 %<br>acceptability: 19.5 %<br>\", \"country: Senegal<br>experience: 4.6 %<br>acceptability: 39.1 %<br>\", \"country: Sierra Leone<br>experience: 38.4 %<br>acceptability: 48.6 %<br>\", \"country: South Africa<br>experience: 9.0 %<br>acceptability: 5.5 %<br>\", \"country: Tajikistan<br>experience: 18.7 %<br>acceptability: 63.6 %<br>\", null, \"country: Timor-Leste<br>experience: 33.1 %<br>acceptability: 74.0 %<br>\", \"country: Togo<br>experience: 10.8 %<br>acceptability: 28.7 %<br>\", \"country: Turkey<br>experience: nan %<br>acceptability: 13.3 %<br>\", \"country: Turkmenistan<br>experience: nan %<br>acceptability: 51.7 %<br>\", \"country: Uganda<br>experience: 22.5 %<br>acceptability: 49.0 %<br>\", \"country: Ukraine<br>experience: 10.0 %<br>acceptability: 3.6 %<br>\", \"country: Yemen<br>experience: nan %<br>acceptability: 48.7 %<br>\", \"country: Zambia<br>experience: 21.1 %<br>acceptability: 45.1 %<br>\", \"country: Zimbabwe<br>experience: 15.3 %<br>acceptability: 38.7 %<br>\"], \"type\": \"choropleth\", \"visible\": false, \"z\": [0.42892768079800503, null, 0.03571428571428566, 0.6534653465346535, 0.8102040816326531, null, 0.6477987421383649, null, 0.7954022988505748, 0.7103559870550162, 0.8132530120481928, 0.29241877256317683, 0.7877551020408163, null, 0.8897435897435898, null, 0.5949197860962567, 0.5553235908141962, -5.565217391304349, 0.6218487394957983, null, null, 0.7317460317460318, 0.43227091633466136, 0.8818493150684932, null, 0.2818181818181818, null, null, 0.39156626506024106, 0.19354838709677422, 0.5381165919282511, null, 0.099290780141844, 0.4569377990430622, 0.4985163204747775, null, null, null, 0.0, 0.75, 0.7720403022670025, 0.32211538461538464, null, -0.10526315789473673, 0.80078125, 0.33687943262411346, 0.6491228070175439, null, null, 0.5785714285714285, 0.6690997566909975, 0.3638968481375358, -2.457142857142857, 0.5963302752293578, 0.5748792270531401, -0.3076923076923077, 0.8823529411764706, 0.2098765432098766, -0.6363636363636364, 0.7059748427672957, 0.5327586206896552, 0.5527027027027027, 0.6236933797909407, null, null, 0.5408163265306123, -1.777777777777778, null, 0.532150776053215, 0.6046511627906976], \"zmax\": 1.0, \"zmin\": -1.0}, {\"colorscale\": [[0.0, \"rgb(247,252,245)\"], [0.125, \"rgb(229,245,224)\"], [0.25, \"rgb(199,233,192)\"], [0.375, \"rgb(161,217,155)\"], [0.5, \"rgb(116,196,118)\"], [0.625, \"rgb(65,171,93)\"], [0.75, \"rgb(35,139,69)\"], [0.875, \"rgb(0,109,44)\"], [1.0, \"rgb(0,68,27)\"]], \"hoverinfosrc\": \"text\", \"locations\": [\"AFG\", \"ALB\", \"AGO\", \"ARM\", \"AZE\", \"BGD\", \"BEN\", null, \"BFA\", \"BDI\", \"KHM\", \"CMR\", \"TCD\", \"COL\", \"COM\", \"COG\", null, null, \"DOM\", \"EGY\", \"ERI\", \"SWZ\", \"ETH\", \"GAB\", \"GMB\", \"GHA\", \"GTM\", \"GIN\", \"GUY\", \"HTI\", \"HND\", \"IND\", \"IDN\", \"JOR\", \"KEN\", null, \"LSO\", \"LBR\", \"MDG\", \"MWI\", \"MDV\", \"MLI\", null, \"MAR\", \"MOZ\", \"MMR\", \"NAM\", \"NPL\", \"NIC\", \"NER\", \"NGA\", \"PAK\", \"PNG\", \"PER\", \"PHL\", \"RWA\", \"STP\", \"SEN\", \"SLE\", \"ZAF\", \"TJK\", null, \"TLS\", \"TGO\", \"TUR\", \"TKM\", \"UGA\", \"UKR\", \"YEM\", \"ZMB\", \"ZWE\"], \"text\": [\"country: Afghanistan<br>experience: 45.8 %<br>acceptability: 80.2 %<br>\", \"country: Albania<br>experience: nan %<br>acceptability: 6.8 %<br>\", \"country: Angola<br>experience: 24.3 %<br>acceptability: 25.2 %<br>\", \"country: Armenia<br>experience: 3.5 %<br>acceptability: 10.1 %<br>\", \"country: Azerbaijan<br>experience: 9.3 %<br>acceptability: 49.0 %<br>\", \"country: Bangladesh<br>experience: nan %<br>acceptability: 20.1 %<br>\", \"country: Benin<br>experience: 11.2 %<br>acceptability: 31.8 %<br>\", null, \"country: Burkina Faso<br>experience: 8.9 %<br>acceptability: 43.5 %<br>\", \"country: Burundi<br>experience: 17.9 %<br>acceptability: 61.8 %<br>\", \"country: Cambodia<br>experience: 9.3 %<br>acceptability: 49.8 %<br>\", \"country: Cameroon<br>experience: 19.6 %<br>acceptability: 27.7 %<br>\", \"country: Chad<br>experience: 15.6 %<br>acceptability: 73.5 %<br>\", \"country: Colombia<br>experience: nan %<br>acceptability: 3.1 %<br>\", \"country: Comoros<br>experience: 4.3 %<br>acceptability: 39.0 %<br>\", \"country: Congo<br>experience: nan %<br>acceptability: 60.7 %<br>\", null, null, \"country: Dominican Republic<br>experience: 15.1 %<br>acceptability: 2.3 %<br>\", \"country: Egypt<br>experience: 13.5 %<br>acceptability: 35.7 %<br>\", \"country: Eritrea<br>experience: nan %<br>acceptability: 70.7 %<br>\", \"country: Eswatini<br>experience: nan %<br>acceptability: 23.2 %<br>\", \"country: Ethiopia<br>experience: 16.9 %<br>acceptability: 63.0 %<br>\", \"country: Gabon<br>experience: 28.5 %<br>acceptability: 50.2 %<br>\", \"country: Gambia<br>experience: 6.9 %<br>acceptability: 58.4 %<br>\", \"country: Ghana<br>experience: nan %<br>acceptability: 28.3 %<br>\", \"country: Guatemala<br>experience: 7.9 %<br>acceptability: 11.0 %<br>\", \"country: Guinea<br>experience: nan %<br>acceptability: 67.2 %<br>\", \"country: Guyana<br>experience: nan %<br>acceptability: 16.3 %<br>\", \"country: Haiti<br>experience: 10.1 %<br>acceptability: 16.6 %<br>\", \"country: Honduras<br>experience: 10.0 %<br>acceptability: 12.4 %<br>\", \"country: India<br>experience: 20.6 %<br>acceptability: 44.6 %<br>\", \"country: Indonesia<br>experience: nan %<br>acceptability: 32.0 %<br>\", \"country: Jordan<br>experience: 12.7 %<br>acceptability: 14.1 %<br>\", \"country: Kenya<br>experience: 22.7 %<br>acceptability: 41.8 %<br>\", null, \"country: Lesotho<br>experience: nan %<br>acceptability: 33.3 %<br>\", \"country: Liberia<br>experience: nan %<br>acceptability: 42.5 %<br>\", \"country: Madagascar<br>experience: nan %<br>acceptability: 32.3 %<br>\", \"country: Malawi<br>experience: 16.3 %<br>acceptability: 16.3 %<br>\", \"country: Maldives<br>experience: 5.5 %<br>acceptability: 22.0 %<br>\", \"country: Mali<br>experience: 18.1 %<br>acceptability: 79.4 %<br>\", null, \"country: Morocco<br>experience: nan %<br>acceptability: 63.9 %<br>\", \"country: Mozambique<br>experience: 14.7 %<br>acceptability: 13.3 %<br>\", \"country: Myanmar<br>experience: 10.2 %<br>acceptability: 51.2 %<br>\", \"country: Namibia<br>experience: 18.7 %<br>acceptability: 28.2 %<br>\", \"country: Nepal<br>experience: 10.0 %<br>acceptability: 28.5 %<br>\", \"country: Nicaragua<br>experience: nan %<br>acceptability: 12.5 %<br>\", \"country: Niger<br>experience: nan %<br>acceptability: 59.6 %<br>\", \"country: Nigeria<br>experience: 11.8 %<br>acceptability: 28.0 %<br>\", \"country: Pakistan<br>experience: 13.6 %<br>acceptability: 41.1 %<br>\", \"country: Papua New Guinea<br>experience: 44.4 %<br>acceptability: 69.8 %<br>\", \"country: Peru<br>experience: 12.1 %<br>acceptability: 3.5 %<br>\", \"country: Philippines<br>experience: 4.4 %<br>acceptability: 10.9 %<br>\", \"country: Rwanda<br>experience: 17.6 %<br>acceptability: 41.4 %<br>\", \"country: Sao Tome and Principe<br>experience: 25.5 %<br>acceptability: 19.5 %<br>\", \"country: Senegal<br>experience: 4.6 %<br>acceptability: 39.1 %<br>\", \"country: Sierra Leone<br>experience: 38.4 %<br>acceptability: 48.6 %<br>\", \"country: South Africa<br>experience: 9.0 %<br>acceptability: 5.5 %<br>\", \"country: Tajikistan<br>experience: 18.7 %<br>acceptability: 63.6 %<br>\", null, \"country: Timor-Leste<br>experience: 33.1 %<br>acceptability: 74.0 %<br>\", \"country: Togo<br>experience: 10.8 %<br>acceptability: 28.7 %<br>\", \"country: Turkey<br>experience: nan %<br>acceptability: 13.3 %<br>\", \"country: Turkmenistan<br>experience: nan %<br>acceptability: 51.7 %<br>\", \"country: Uganda<br>experience: 22.5 %<br>acceptability: 49.0 %<br>\", \"country: Ukraine<br>experience: 10.0 %<br>acceptability: 3.6 %<br>\", \"country: Yemen<br>experience: nan %<br>acceptability: 48.7 %<br>\", \"country: Zambia<br>experience: 21.1 %<br>acceptability: 45.1 %<br>\", \"country: Zimbabwe<br>experience: 15.3 %<br>acceptability: 38.7 %<br>\"], \"type\": \"choropleth\", \"visible\": false, \"z\": [45.8, null, 24.3, 3.5, 9.3, null, 11.2, null, 8.9, 17.9, 9.3, 19.6, 15.6, null, 4.3, null, 30.3, 21.3, 15.1, 13.5, null, null, 16.9, 28.5, 6.9, null, 7.9, null, null, 10.1, 10.0, 20.6, null, 12.7, 22.7, 16.9, null, null, null, 16.3, 5.5, 18.1, 14.1, null, 14.7, 10.2, 18.7, 10.0, null, null, 11.8, 13.6, 44.4, 12.1, 4.4, 17.6, 25.5, 4.6, 38.4, 9.0, 18.7, 27.1, 33.1, 10.8, null, null, 22.5, 10.0, null, 21.1, 15.3]}, {\"colorscale\": [[0.0, \"rgb(255,245,240)\"], [0.125, \"rgb(254,224,210)\"], [0.25, \"rgb(252,187,161)\"], [0.375, \"rgb(252,146,114)\"], [0.5, \"rgb(251,106,74)\"], [0.625, \"rgb(239,59,44)\"], [0.75, \"rgb(203,24,29)\"], [0.875, \"rgb(165,15,21)\"], [1.0, \"rgb(103,0,13)\"]], \"hoverinfosrc\": \"text\", \"locations\": [\"AFG\", \"ALB\", \"AGO\", \"ARM\", \"AZE\", \"BGD\", \"BEN\", null, \"BFA\", \"BDI\", \"KHM\", \"CMR\", \"TCD\", \"COL\", \"COM\", \"COG\", null, null, \"DOM\", \"EGY\", \"ERI\", \"SWZ\", \"ETH\", \"GAB\", \"GMB\", \"GHA\", \"GTM\", \"GIN\", \"GUY\", \"HTI\", \"HND\", \"IND\", \"IDN\", \"JOR\", \"KEN\", null, \"LSO\", \"LBR\", \"MDG\", \"MWI\", \"MDV\", \"MLI\", null, \"MAR\", \"MOZ\", \"MMR\", \"NAM\", \"NPL\", \"NIC\", \"NER\", \"NGA\", \"PAK\", \"PNG\", \"PER\", \"PHL\", \"RWA\", \"STP\", \"SEN\", \"SLE\", \"ZAF\", \"TJK\", null, \"TLS\", \"TGO\", \"TUR\", \"TKM\", \"UGA\", \"UKR\", \"YEM\", \"ZMB\", \"ZWE\"], \"text\": [\"country: Afghanistan<br>experience: 45.8 %<br>acceptability: 80.2 %<br>\", \"country: Albania<br>experience: nan %<br>acceptability: 6.8 %<br>\", \"country: Angola<br>experience: 24.3 %<br>acceptability: 25.2 %<br>\", \"country: Armenia<br>experience: 3.5 %<br>acceptability: 10.1 %<br>\", \"country: Azerbaijan<br>experience: 9.3 %<br>acceptability: 49.0 %<br>\", \"country: Bangladesh<br>experience: nan %<br>acceptability: 20.1 %<br>\", \"country: Benin<br>experience: 11.2 %<br>acceptability: 31.8 %<br>\", null, \"country: Burkina Faso<br>experience: 8.9 %<br>acceptability: 43.5 %<br>\", \"country: Burundi<br>experience: 17.9 %<br>acceptability: 61.8 %<br>\", \"country: Cambodia<br>experience: 9.3 %<br>acceptability: 49.8 %<br>\", \"country: Cameroon<br>experience: 19.6 %<br>acceptability: 27.7 %<br>\", \"country: Chad<br>experience: 15.6 %<br>acceptability: 73.5 %<br>\", \"country: Colombia<br>experience: nan %<br>acceptability: 3.1 %<br>\", \"country: Comoros<br>experience: 4.3 %<br>acceptability: 39.0 %<br>\", \"country: Congo<br>experience: nan %<br>acceptability: 60.7 %<br>\", null, null, \"country: Dominican Republic<br>experience: 15.1 %<br>acceptability: 2.3 %<br>\", \"country: Egypt<br>experience: 13.5 %<br>acceptability: 35.7 %<br>\", \"country: Eritrea<br>experience: nan %<br>acceptability: 70.7 %<br>\", \"country: Eswatini<br>experience: nan %<br>acceptability: 23.2 %<br>\", \"country: Ethiopia<br>experience: 16.9 %<br>acceptability: 63.0 %<br>\", \"country: Gabon<br>experience: 28.5 %<br>acceptability: 50.2 %<br>\", \"country: Gambia<br>experience: 6.9 %<br>acceptability: 58.4 %<br>\", \"country: Ghana<br>experience: nan %<br>acceptability: 28.3 %<br>\", \"country: Guatemala<br>experience: 7.9 %<br>acceptability: 11.0 %<br>\", \"country: Guinea<br>experience: nan %<br>acceptability: 67.2 %<br>\", \"country: Guyana<br>experience: nan %<br>acceptability: 16.3 %<br>\", \"country: Haiti<br>experience: 10.1 %<br>acceptability: 16.6 %<br>\", \"country: Honduras<br>experience: 10.0 %<br>acceptability: 12.4 %<br>\", \"country: India<br>experience: 20.6 %<br>acceptability: 44.6 %<br>\", \"country: Indonesia<br>experience: nan %<br>acceptability: 32.0 %<br>\", \"country: Jordan<br>experience: 12.7 %<br>acceptability: 14.1 %<br>\", \"country: Kenya<br>experience: 22.7 %<br>acceptability: 41.8 %<br>\", null, \"country: Lesotho<br>experience: nan %<br>acceptability: 33.3 %<br>\", \"country: Liberia<br>experience: nan %<br>acceptability: 42.5 %<br>\", \"country: Madagascar<br>experience: nan %<br>acceptability: 32.3 %<br>\", \"country: Malawi<br>experience: 16.3 %<br>acceptability: 16.3 %<br>\", \"country: Maldives<br>experience: 5.5 %<br>acceptability: 22.0 %<br>\", \"country: Mali<br>experience: 18.1 %<br>acceptability: 79.4 %<br>\", null, \"country: Morocco<br>experience: nan %<br>acceptability: 63.9 %<br>\", \"country: Mozambique<br>experience: 14.7 %<br>acceptability: 13.3 %<br>\", \"country: Myanmar<br>experience: 10.2 %<br>acceptability: 51.2 %<br>\", \"country: Namibia<br>experience: 18.7 %<br>acceptability: 28.2 %<br>\", \"country: Nepal<br>experience: 10.0 %<br>acceptability: 28.5 %<br>\", \"country: Nicaragua<br>experience: nan %<br>acceptability: 12.5 %<br>\", \"country: Niger<br>experience: nan %<br>acceptability: 59.6 %<br>\", \"country: Nigeria<br>experience: 11.8 %<br>acceptability: 28.0 %<br>\", \"country: Pakistan<br>experience: 13.6 %<br>acceptability: 41.1 %<br>\", \"country: Papua New Guinea<br>experience: 44.4 %<br>acceptability: 69.8 %<br>\", \"country: Peru<br>experience: 12.1 %<br>acceptability: 3.5 %<br>\", \"country: Philippines<br>experience: 4.4 %<br>acceptability: 10.9 %<br>\", \"country: Rwanda<br>experience: 17.6 %<br>acceptability: 41.4 %<br>\", \"country: Sao Tome and Principe<br>experience: 25.5 %<br>acceptability: 19.5 %<br>\", \"country: Senegal<br>experience: 4.6 %<br>acceptability: 39.1 %<br>\", \"country: Sierra Leone<br>experience: 38.4 %<br>acceptability: 48.6 %<br>\", \"country: South Africa<br>experience: 9.0 %<br>acceptability: 5.5 %<br>\", \"country: Tajikistan<br>experience: 18.7 %<br>acceptability: 63.6 %<br>\", null, \"country: Timor-Leste<br>experience: 33.1 %<br>acceptability: 74.0 %<br>\", \"country: Togo<br>experience: 10.8 %<br>acceptability: 28.7 %<br>\", \"country: Turkey<br>experience: nan %<br>acceptability: 13.3 %<br>\", \"country: Turkmenistan<br>experience: nan %<br>acceptability: 51.7 %<br>\", \"country: Uganda<br>experience: 22.5 %<br>acceptability: 49.0 %<br>\", \"country: Ukraine<br>experience: 10.0 %<br>acceptability: 3.6 %<br>\", \"country: Yemen<br>experience: nan %<br>acceptability: 48.7 %<br>\", \"country: Zambia<br>experience: 21.1 %<br>acceptability: 45.1 %<br>\", \"country: Zimbabwe<br>experience: 15.3 %<br>acceptability: 38.7 %<br>\"], \"type\": \"choropleth\", \"z\": [80.2, 6.8, 25.2, 10.1, 49.0, 20.1, 31.8, 16.1, 43.5, 61.8, 49.8, 27.7, 73.5, 3.1, 39.0, 60.7, 74.8, 47.9, 2.3, 35.7, 70.7, 23.2, 63.0, 50.2, 58.4, 28.3, 11.0, 67.2, 16.3, 16.6, 12.4, 44.6, 32.0, 14.1, 41.8, 33.7, 33.3, 42.5, 32.3, 16.3, 22.0, 79.4, 20.8, 63.9, 13.3, 51.2, 28.2, 28.5, 12.5, 59.6, 28.0, 41.1, 69.8, 3.5, 10.9, 41.4, 19.5, 39.1, 48.6, 5.5, 63.6, 58.0, 74.0, 28.7, 13.3, 51.7, 49.0, 3.6, 48.7, 45.1, 38.7]}],                        {\"template\": {\"data\": {\"bar\": [{\"error_x\": {\"color\": \"#2a3f5f\"}, \"error_y\": {\"color\": \"#2a3f5f\"}, \"marker\": {\"line\": {\"color\": \"#E5ECF6\", \"width\": 0.5}}, \"type\": \"bar\"}], \"barpolar\": [{\"marker\": {\"line\": {\"color\": \"#E5ECF6\", \"width\": 0.5}}, \"type\": \"barpolar\"}], \"carpet\": [{\"aaxis\": {\"endlinecolor\": \"#2a3f5f\", \"gridcolor\": \"white\", \"linecolor\": \"white\", \"minorgridcolor\": \"white\", \"startlinecolor\": \"#2a3f5f\"}, \"baxis\": {\"endlinecolor\": \"#2a3f5f\", \"gridcolor\": \"white\", \"linecolor\": \"white\", \"minorgridcolor\": \"white\", \"startlinecolor\": \"#2a3f5f\"}, \"type\": \"carpet\"}], \"choropleth\": [{\"colorbar\": {\"outlinewidth\": 0, \"ticks\": \"\"}, \"type\": \"choropleth\"}], \"contour\": [{\"colorbar\": {\"outlinewidth\": 0, \"ticks\": \"\"}, \"colorscale\": [[0.0, \"#0d0887\"], [0.1111111111111111, \"#46039f\"], [0.2222222222222222, \"#7201a8\"], [0.3333333333333333, \"#9c179e\"], [0.4444444444444444, \"#bd3786\"], [0.5555555555555556, \"#d8576b\"], [0.6666666666666666, \"#ed7953\"], [0.7777777777777778, \"#fb9f3a\"], [0.8888888888888888, \"#fdca26\"], [1.0, \"#f0f921\"]], \"type\": \"contour\"}], \"contourcarpet\": [{\"colorbar\": {\"outlinewidth\": 0, \"ticks\": \"\"}, \"type\": \"contourcarpet\"}], \"heatmap\": [{\"colorbar\": {\"outlinewidth\": 0, \"ticks\": \"\"}, \"colorscale\": [[0.0, \"#0d0887\"], [0.1111111111111111, \"#46039f\"], [0.2222222222222222, \"#7201a8\"], [0.3333333333333333, \"#9c179e\"], [0.4444444444444444, \"#bd3786\"], [0.5555555555555556, \"#d8576b\"], [0.6666666666666666, \"#ed7953\"], [0.7777777777777778, \"#fb9f3a\"], [0.8888888888888888, \"#fdca26\"], [1.0, \"#f0f921\"]], \"type\": \"heatmap\"}], \"heatmapgl\": [{\"colorbar\": {\"outlinewidth\": 0, \"ticks\": \"\"}, \"colorscale\": [[0.0, \"#0d0887\"], [0.1111111111111111, \"#46039f\"], [0.2222222222222222, \"#7201a8\"], [0.3333333333333333, \"#9c179e\"], [0.4444444444444444, \"#bd3786\"], [0.5555555555555556, \"#d8576b\"], [0.6666666666666666, \"#ed7953\"], [0.7777777777777778, \"#fb9f3a\"], [0.8888888888888888, \"#fdca26\"], [1.0, \"#f0f921\"]], \"type\": \"heatmapgl\"}], \"histogram\": [{\"marker\": {\"colorbar\": {\"outlinewidth\": 0, \"ticks\": \"\"}}, \"type\": \"histogram\"}], \"histogram2d\": [{\"colorbar\": {\"outlinewidth\": 0, \"ticks\": \"\"}, \"colorscale\": [[0.0, \"#0d0887\"], [0.1111111111111111, \"#46039f\"], [0.2222222222222222, \"#7201a8\"], [0.3333333333333333, \"#9c179e\"], [0.4444444444444444, \"#bd3786\"], [0.5555555555555556, \"#d8576b\"], [0.6666666666666666, \"#ed7953\"], [0.7777777777777778, \"#fb9f3a\"], [0.8888888888888888, \"#fdca26\"], [1.0, \"#f0f921\"]], \"type\": \"histogram2d\"}], \"histogram2dcontour\": [{\"colorbar\": {\"outlinewidth\": 0, \"ticks\": \"\"}, \"colorscale\": [[0.0, \"#0d0887\"], [0.1111111111111111, \"#46039f\"], [0.2222222222222222, \"#7201a8\"], [0.3333333333333333, \"#9c179e\"], [0.4444444444444444, \"#bd3786\"], [0.5555555555555556, \"#d8576b\"], [0.6666666666666666, \"#ed7953\"], [0.7777777777777778, \"#fb9f3a\"], [0.8888888888888888, \"#fdca26\"], [1.0, \"#f0f921\"]], \"type\": \"histogram2dcontour\"}], \"mesh3d\": [{\"colorbar\": {\"outlinewidth\": 0, \"ticks\": \"\"}, \"type\": \"mesh3d\"}], \"parcoords\": [{\"line\": {\"colorbar\": {\"outlinewidth\": 0, \"ticks\": \"\"}}, \"type\": \"parcoords\"}], \"pie\": [{\"automargin\": true, \"type\": \"pie\"}], \"scatter\": [{\"marker\": {\"colorbar\": {\"outlinewidth\": 0, \"ticks\": \"\"}}, \"type\": \"scatter\"}], \"scatter3d\": [{\"line\": {\"colorbar\": {\"outlinewidth\": 0, \"ticks\": \"\"}}, \"marker\": {\"colorbar\": {\"outlinewidth\": 0, \"ticks\": \"\"}}, \"type\": \"scatter3d\"}], \"scattercarpet\": [{\"marker\": {\"colorbar\": {\"outlinewidth\": 0, \"ticks\": \"\"}}, \"type\": \"scattercarpet\"}], \"scattergeo\": [{\"marker\": {\"colorbar\": {\"outlinewidth\": 0, \"ticks\": \"\"}}, \"type\": \"scattergeo\"}], \"scattergl\": [{\"marker\": {\"colorbar\": {\"outlinewidth\": 0, \"ticks\": \"\"}}, \"type\": \"scattergl\"}], \"scattermapbox\": [{\"marker\": {\"colorbar\": {\"outlinewidth\": 0, \"ticks\": \"\"}}, \"type\": \"scattermapbox\"}], \"scatterpolar\": [{\"marker\": {\"colorbar\": {\"outlinewidth\": 0, \"ticks\": \"\"}}, \"type\": \"scatterpolar\"}], \"scatterpolargl\": [{\"marker\": {\"colorbar\": {\"outlinewidth\": 0, \"ticks\": \"\"}}, \"type\": \"scatterpolargl\"}], \"scatterternary\": [{\"marker\": {\"colorbar\": {\"outlinewidth\": 0, \"ticks\": \"\"}}, \"type\": \"scatterternary\"}], \"surface\": [{\"colorbar\": {\"outlinewidth\": 0, \"ticks\": \"\"}, \"colorscale\": [[0.0, \"#0d0887\"], [0.1111111111111111, \"#46039f\"], [0.2222222222222222, \"#7201a8\"], [0.3333333333333333, \"#9c179e\"], [0.4444444444444444, \"#bd3786\"], [0.5555555555555556, \"#d8576b\"], [0.6666666666666666, \"#ed7953\"], [0.7777777777777778, \"#fb9f3a\"], [0.8888888888888888, \"#fdca26\"], [1.0, \"#f0f921\"]], \"type\": \"surface\"}], \"table\": [{\"cells\": {\"fill\": {\"color\": \"#EBF0F8\"}, \"line\": {\"color\": \"white\"}}, \"header\": {\"fill\": {\"color\": \"#C8D4E3\"}, \"line\": {\"color\": \"white\"}}, \"type\": \"table\"}]}, \"layout\": {\"annotationdefaults\": {\"arrowcolor\": \"#2a3f5f\", \"arrowhead\": 0, \"arrowwidth\": 1}, \"autotypenumbers\": \"strict\", \"coloraxis\": {\"colorbar\": {\"outlinewidth\": 0, \"ticks\": \"\"}}, \"colorscale\": {\"diverging\": [[0, \"#8e0152\"], [0.1, \"#c51b7d\"], [0.2, \"#de77ae\"], [0.3, \"#f1b6da\"], [0.4, \"#fde0ef\"], [0.5, \"#f7f7f7\"], [0.6, \"#e6f5d0\"], [0.7, \"#b8e186\"], [0.8, \"#7fbc41\"], [0.9, \"#4d9221\"], [1, \"#276419\"]], \"sequential\": [[0.0, \"#0d0887\"], [0.1111111111111111, \"#46039f\"], [0.2222222222222222, \"#7201a8\"], [0.3333333333333333, \"#9c179e\"], [0.4444444444444444, \"#bd3786\"], [0.5555555555555556, \"#d8576b\"], [0.6666666666666666, \"#ed7953\"], [0.7777777777777778, \"#fb9f3a\"], [0.8888888888888888, \"#fdca26\"], [1.0, \"#f0f921\"]], \"sequentialminus\": [[0.0, \"#0d0887\"], [0.1111111111111111, \"#46039f\"], [0.2222222222222222, \"#7201a8\"], [0.3333333333333333, \"#9c179e\"], [0.4444444444444444, \"#bd3786\"], [0.5555555555555556, \"#d8576b\"], [0.6666666666666666, \"#ed7953\"], [0.7777777777777778, \"#fb9f3a\"], [0.8888888888888888, \"#fdca26\"], [1.0, \"#f0f921\"]]}, \"colorway\": [\"#636efa\", \"#EF553B\", \"#00cc96\", \"#ab63fa\", \"#FFA15A\", \"#19d3f3\", \"#FF6692\", \"#B6E880\", \"#FF97FF\", \"#FECB52\"], \"font\": {\"color\": \"#2a3f5f\"}, \"geo\": {\"bgcolor\": \"white\", \"lakecolor\": \"white\", \"landcolor\": \"#E5ECF6\", \"showlakes\": true, \"showland\": true, \"subunitcolor\": \"white\"}, \"hoverlabel\": {\"align\": \"left\"}, \"hovermode\": \"closest\", \"mapbox\": {\"style\": \"light\"}, \"paper_bgcolor\": \"white\", \"plot_bgcolor\": \"#E5ECF6\", \"polar\": {\"angularaxis\": {\"gridcolor\": \"white\", \"linecolor\": \"white\", \"ticks\": \"\"}, \"bgcolor\": \"#E5ECF6\", \"radialaxis\": {\"gridcolor\": \"white\", \"linecolor\": \"white\", \"ticks\": \"\"}}, \"scene\": {\"xaxis\": {\"backgroundcolor\": \"#E5ECF6\", \"gridcolor\": \"white\", \"gridwidth\": 2, \"linecolor\": \"white\", \"showbackground\": true, \"ticks\": \"\", \"zerolinecolor\": \"white\"}, \"yaxis\": {\"backgroundcolor\": \"#E5ECF6\", \"gridcolor\": \"white\", \"gridwidth\": 2, \"linecolor\": \"white\", \"showbackground\": true, \"ticks\": \"\", \"zerolinecolor\": \"white\"}, \"zaxis\": {\"backgroundcolor\": \"#E5ECF6\", \"gridcolor\": \"white\", \"gridwidth\": 2, \"linecolor\": \"white\", \"showbackground\": true, \"ticks\": \"\", \"zerolinecolor\": \"white\"}}, \"shapedefaults\": {\"line\": {\"color\": \"#2a3f5f\"}}, \"ternary\": {\"aaxis\": {\"gridcolor\": \"white\", \"linecolor\": \"white\", \"ticks\": \"\"}, \"baxis\": {\"gridcolor\": \"white\", \"linecolor\": \"white\", \"ticks\": \"\"}, \"bgcolor\": \"#E5ECF6\", \"caxis\": {\"gridcolor\": \"white\", \"linecolor\": \"white\", \"ticks\": \"\"}}, \"title\": {\"x\": 0.05}, \"xaxis\": {\"automargin\": true, \"gridcolor\": \"white\", \"linecolor\": \"white\", \"ticks\": \"\", \"title\": {\"standoff\": 15}, \"zerolinecolor\": \"white\", \"zerolinewidth\": 2}, \"yaxis\": {\"automargin\": true, \"gridcolor\": \"white\", \"linecolor\": \"white\", \"ticks\": \"\", \"title\": {\"standoff\": 15}, \"zerolinecolor\": \"white\", \"zerolinewidth\": 2}}}, \"updatemenus\": [{\"active\": 0, \"buttons\": [{\"args\": [{\"visible\": [false, false, true]}], \"label\": \"Acceptability\", \"method\": \"restyle\"}, {\"args\": [{\"visible\": [false, true, false]}], \"label\": \"Experience\", \"method\": \"restyle\"}, {\"args\": [{\"visible\": [true, false, false]}], \"label\": \"Difference (Acceptatbility-Experience)\", \"method\": \"restyle\"}], \"direction\": \"right\", \"showactive\": true, \"type\": \"buttons\", \"x\": 0.57, \"y\": 1.2}]},                        {\"responsive\": true}                    ).then(function(){\n",
       "                            \n",
       "var gd = document.getElementById('35e079fd-8946-4cf6-aea2-942f1d2ffe9a');\n",
       "var x = new MutationObserver(function (mutations, observer) {{\n",
       "        var display = window.getComputedStyle(gd).display;\n",
       "        if (!display || display === 'none') {{\n",
       "            console.log([gd, 'removed!']);\n",
       "            Plotly.purge(gd);\n",
       "            observer.disconnect();\n",
       "        }}\n",
       "}});\n",
       "\n",
       "// Listen for the removal of the full notebook cells\n",
       "var notebookContainer = gd.closest('#notebook-container');\n",
       "if (notebookContainer) {{\n",
       "    x.observe(notebookContainer, {childList: true});\n",
       "}}\n",
       "\n",
       "// Listen for the clearing of the current output cell\n",
       "var outputEl = gd.closest('.output');\n",
       "if (outputEl) {{\n",
       "    x.observe(outputEl, {childList: true});\n",
       "}}\n",
       "\n",
       "                        })                };                });            </script>        </div>"
      ]
     },
     "metadata": {},
     "output_type": "display_data"
    }
   ],
   "source": [
    "# create figure\n",
    "acc = \"Wife beating justified for at least one specific reason\" + \" [Women]\"\n",
    "exp = \"Physical violence committed by husband/partner in last 12 months\"\n",
    "\n",
    "fig = go.Figure()\n",
    "hover_text = 'country: ' + df['country'] + \"<br>\" + \\\n",
    "              'experience: ' + df[exp].astype(str) + ' %<br>' + \\\n",
    "              'acceptability: ' + df[acc].astype(str) + ' %<br>'\n",
    "\n",
    "# Add surface trace\n",
    "fig.add_trace(go.Choropleth(z=(df[acc]-df[exp])/df[acc].values.tolist(),\n",
    "                            locations=df['iso_code'].values.tolist(),\n",
    "                            text=hover_text, hoverinfosrc='text',\n",
    "                            visible=False,\n",
    "                            zmin=-1.0,\n",
    "                            zmax=1.0,\n",
    "                            colorscale='PiYG_r'\n",
    "                           ))\n",
    "\n",
    "fig.add_trace(go.Choropleth(z=df[exp].values.tolist(),\n",
    "                            locations=df['iso_code'].values.tolist(), \n",
    "                            text=hover_text, hoverinfosrc='text',\n",
    "                            colorscale=\"Greens\",\n",
    "                            visible=False))\n",
    "\n",
    "fig.add_trace(go.Choropleth(z=df[acc].values.tolist(),\n",
    "                            locations=df['iso_code'].values.tolist(), \n",
    "                            text=hover_text, hoverinfosrc='text',\n",
    "                            colorscale=\"Reds\",))\n",
    "\n",
    "fig.update_layout(\n",
    "    updatemenus=[\n",
    "        dict(\n",
    "            type=\"buttons\",\n",
    "            direction=\"right\",\n",
    "            active=0,\n",
    "            x=0.57,\n",
    "            y=1.2,\n",
    "            buttons=list([\n",
    "                dict(label=\"Acceptability\",\n",
    "                     method=\"restyle\",\n",
    "                     args = [{'visible': [False, False, True]}]\n",
    "                    ),\n",
    "                dict(label=\"Experience\",\n",
    "                     method=\"restyle\",\n",
    "                     args=[{'visible': [False, True, False]}]),\n",
    "                dict(label=\"Difference (Acceptatbility-Experience)\",\n",
    "                     method=\"restyle\",\n",
    "                     args = [{'visible': [True, False, False]}]),\n",
    "                    \n",
    "            ]),\n",
    "        showactive=True,)\n",
    "    ])\n",
    "fig.show()"
   ]
  },
  {
   "cell_type": "markdown",
   "id": "swiss-suggestion",
   "metadata": {},
   "source": [
    "The above figure shows the distribution of acceptability and experience of violence among women. Here, violence is considered as \"acceptable\" for the respondent if she answered any of the acceptability question positively. Here, the experience of violence corresponds to any positive answer (answer other than \"never\") to any of the physical violence question. The dataset was generated using [STATcompiler](https://www.statcompiler.com/).\n",
    "\n",
    "Acceptability is calculated as the percentage of women who answered \"True\" to at least one of the acceptability question. While experience counts the percentage of women who answer \"yes, in the last twelve\" to at least one of the physical violence question.\n",
    "The (normalized) difference map is computed as $(acceptability-experience)/acceptability$.\n",
    "\n",
    "Both acceptability and experience are highest in Afghanistan. Acceptability is highest in subsaharan african countries, middle east and south/southeast Asia, and lowest in Europe and Latin America. Experience is above 10% in most countries and highest in Papua New Guinea and Afghanistan. The difference map shows, in green, countries where acceptability is lower experience than experience. This situation may be seen as a good thing if we consider that public awareness may drive a change in society as suggested by the fact that these countries have relatively lower experience percentage points. In countries colored purple experience is higher than acceptability. These countries tend to have relatively high experience scores. Angola has a score close to 0, due to a relatively low acceptability but high experience. Could this low acceptability score signal that a change is about to come in Angola?\n",
    "\n",
    "The numbers shown here, and especially the experience score must be taken as lower bounds since domestic violence is most likely under-reported."
   ]
  },
  {
   "cell_type": "markdown",
   "id": "touched-zimbabwe",
   "metadata": {},
   "source": [
    "<a id=\"DHS\"></a>\n",
    "<p style=\"color:darkred; font-family:Futura; font-size:40px\">4. Analysis of the DHS women questionnaire</p>"
   ]
  },
  {
   "cell_type": "markdown",
   "id": "romantic-white",
   "metadata": {},
   "source": [
    "<a id=\"feat\"></a>\n",
    "# 1. Feature selection "
   ]
  },
  {
   "cell_type": "code",
   "execution_count": 11,
   "id": "framed-chorus",
   "metadata": {},
   "outputs": [
    {
     "data": {
      "text/plain": [
       "(8348, 4275)"
      ]
     },
     "execution_count": 11,
     "metadata": {},
     "output_type": "execute_result"
    }
   ],
   "source": [
    "# Load data\n",
    "df_IR = pd.read_stata(\"./Data/ZZIR62FL.DTA\", convert_categoricals=False)\n",
    "df_IR.shape"
   ]
  },
  {
   "cell_type": "markdown",
   "id": "little-messaging",
   "metadata": {},
   "source": [
    "Then, let's define a subset of features to use"
   ]
  },
  {
   "cell_type": "code",
   "execution_count": 12,
   "id": "regional-determination",
   "metadata": {},
   "outputs": [
    {
     "data": {
      "text/plain": [
       "38"
      ]
     },
     "execution_count": 12,
     "metadata": {},
     "output_type": "execute_result"
    }
   ],
   "source": [
    "# Subset of features\n",
    "# background\n",
    "\n",
    "edu = 'v106'\n",
    "violence_justified = 'v744' # a-e\n",
    "age = 'v012'\n",
    "age_group = 'v013'\n",
    "litteracy = 'v155'\n",
    "media_paper = 'v157'\n",
    "media_radio = 'v158'\n",
    "media_tv = 'v159'\n",
    "sample_weight = 'v005' # must be divided by 1e6\n",
    "ever_married = 'v020'\n",
    "# residence = 'v025'\n",
    "time2water = 'v115'\n",
    "\n",
    "has_elec = 'v119'\n",
    "has_radio = 'v120'\n",
    "has_tv = 'v121'\n",
    "\n",
    "has_fridge='v122'\n",
    "has_bicycle = 'v123'\n",
    "has_moto = 'v124'\n",
    "has_car = 'v125'\n",
    "religion = 'v130'\n",
    "ethnicity = 'v131'\n",
    "place_of_residence = 'v134'\n",
    "edu_attainment = 'v149'\n",
    "relation2household_head='v150'\n",
    "sex_household_head = 'v151'\n",
    "age_household_head = 'v152'\n",
    "\n",
    "has_phone_landline='v153'\n",
    "has_phone_mobile='v169a'\n",
    "use_internet = 'v171a'\n",
    "use_internet_last_month = 'v171b'\n",
    "wealth_index = 'v191'\n",
    "\n",
    "total_child_born = 'v201'\n",
    "num_sons_died = 'v206'\n",
    "num_daughters_died = 'v207'\n",
    "num_dead_child = 'num_dead_child'\n",
    "num_living_child = 'v218'\n",
    "\n",
    "\n",
    "selected_for_dom_violence_interview = 'v044'\n",
    "\n",
    "husband_edu_level = 'v701'# 's904'\n",
    "husband_occupation = 's908a'\n",
    "resp_occupation = 's913a'\n",
    "\n",
    "# Domestic violence\n",
    "is_currently_in_union= 'v502'\n",
    "weight_dom_violence = 'd005'\n",
    "control_issues = 'd101' #a-j\n",
    "num_control_issues = 'd102'\n",
    "emotional_violence = \"d103\" # a-f\n",
    "emotional_violence_any = 'emotional_violence_any' #'d104'\n",
    "physical_violence = 'd105' # a-n detailed acts of violence\n",
    "physical_violence_less_severe = 'd106'\n",
    "physical_violence_severe = 'd107'\n",
    "sexual_violence = 'd108'\n",
    "\n",
    "violence = 'violence'\n",
    "# any_violence = 'd105' or 'd106' or 'd107'\n",
    "\n",
    "violence_to_husband ='d112'\n",
    "partner_drinks_alcohol='d113'\n",
    "partner_drinks_alcohol_freq = 'd114'\n",
    "sought_help = 'd119' # a to xk; y=no one\n",
    "mother_beaten = 'd121'\n",
    "\n",
    "\n",
    "edu_w = 'v106' # education level women, value =0-3\n",
    "edu_m = 'mv106' # education level men, \n",
    "#Age (v012) is recorded in\n",
    "#completed years, and is typically reported in 5-year groups (v013). \n",
    "# age_group_w = \"v013\"\n",
    "# Info for men is in the Men's individual recode (MR) dataset\n",
    "\n",
    "\n",
    "\n",
    "list_col0 = ['caseid', 'v000', sample_weight,\n",
    "            edu, age, age_group, litteracy,\n",
    "            media_paper, media_radio, media_tv,\n",
    "            ever_married, \n",
    "            has_elec, has_radio, has_tv, has_fridge, has_bicycle, has_car, has_moto, \n",
    "            has_phone_landline, \n",
    "#             has_phone_mobile,\n",
    "            religion, ethnicity,\n",
    "            place_of_residence, age_household_head,\n",
    "            relation2household_head,\n",
    "            wealth_index,\n",
    "            total_child_born, num_living_child, \n",
    "            \n",
    "            husband_edu_level,\n",
    "#             husband_occupation, resp_occupation,\n",
    "            \n",
    "            \n",
    "            selected_for_dom_violence_interview, weight_dom_violence,\n",
    "            is_currently_in_union, num_control_issues, #emotional_violence_any, \n",
    "            physical_violence_less_severe, physical_violence_severe, sexual_violence,\n",
    "            partner_drinks_alcohol, partner_drinks_alcohol_freq, #sought_help,\n",
    "            mother_beaten\n",
    "           ]\n",
    "len(list_col0)\n"
   ]
  },
  {
   "cell_type": "markdown",
   "id": "tribal-scientist",
   "metadata": {},
   "source": [
    "<a id=\"clean\"></a>\n",
    "# 2. Data cleaning"
   ]
  },
  {
   "cell_type": "code",
   "execution_count": 4,
   "id": "another-heritage",
   "metadata": {},
   "outputs": [],
   "source": [
    "# Prepare clean format for multiple questions\n",
    "\n",
    "# Violence_justified\n",
    "# =======\n",
    "'''\n",
    "V744A                  Beating justified if wife goes out without tell 6103    1    N    I    1    0   No   No\n",
    "                               0  No\n",
    "                               1  Yes\n",
    "                               8  Don't know\n",
    "                           (m) 9  Missing\n",
    "                          (na)    Not applicable\n",
    "'''\n",
    "# I assume 0 if v744 in [0, 8, 9, na]; 1 otherwise\n",
    "\n",
    "\n",
    "# Control issues\n",
    "# =======\n",
    "'''\n",
    "D101A                  Husband/partner jealous if respondent talks wit 8272    1    N    I    1    0   No   No\n",
    "                               0  No\n",
    "                               1  Yes\n",
    "                               8  Don't know\n",
    "                           (m) 9  Missing\n",
    "                          (na)    Not applicable\n",
    "'''\n",
    "# For cleaning: same as previous\n",
    "\n",
    "# Physical or sexual violence\n",
    "# =======\n",
    "'''\n",
    "D105A                  Ever been pushed, shook or had something thrown 8291    1    N    I    1    0   No   No\n",
    "                               0  Never\n",
    "                               1  Often\n",
    "                               2  Sometimes\n",
    "                               3  Yes, but not in the last 12 months\n",
    "                               4  Yes, but frequency in last 12 months missing\n",
    "                           (m) 9  Missing\n",
    "                          (na)    Not applicable\n",
    "'''\n",
    "# Let's consider true if hit during the past 12 months only\n",
    "# So, we clean as 0 if d105a in [0, 2,3,4,9,na]\n",
    "\n",
    "\n",
    "# Emotional violence\n",
    "# =======\n",
    "'''\n",
    "D103A                  Ever been humiliated by husband/partner         8284    1    N    I    1    0   No   No\n",
    "                               0  Never\n",
    "                               1  Often\n",
    "                               2  Sometimes\n",
    "                               3  Yes, but not in the last 12 months\n",
    "                               4  Yes, but frequency in last 12 months missing\n",
    "                           (m) 9  Missing\n",
    "                          (na)    Not applicable\n",
    "'''\n",
    "# Same as physicial violence for cleaning\n",
    "\n",
    "\n",
    "\n",
    "cleaning_dict = {\n",
    "     violence_justified: {'num_questions': 5, 'values_0': [8,9]},\n",
    "     control_issues:     {'num_questions': 10, 'values_0': [8,9]},\n",
    "     physical_violence:  {'num_questions': 14, 'values_0': [2,3,4,9]},\n",
    "     emotional_violence: {'num_questions': 6, 'values_0': [2,3,4,9]},\n",
    "     }\n",
    "        "
   ]
  },
  {
   "cell_type": "code",
   "execution_count": 5,
   "id": "horizontal-egyptian",
   "metadata": {},
   "outputs": [],
   "source": [
    "# Add multiple questions to list_col\n",
    "list_col = list_col0.copy()\n",
    "for key in cleaning_dict.keys():\n",
    "    cleaning_dict[key]['list_col'] = [key + letter for letter in 'abcdefghijklmnopqrstuvwxyz'[:cleaning_dict[key]['num_questions']]]\n",
    "    list_col += cleaning_dict[key]['list_col']"
   ]
  },
  {
   "cell_type": "code",
   "execution_count": 6,
   "id": "international-morris",
   "metadata": {},
   "outputs": [
    {
     "data": {
      "text/plain": [
       "(2017, 73)"
      ]
     },
     "execution_count": 6,
     "metadata": {},
     "output_type": "execute_result"
    }
   ],
   "source": [
    "# Create a subset dataframe that contains only the chosen columns \n",
    "# and only for women who are married and took the domestic violence interview\n",
    "df = df_IR[list_col].copy()\n",
    "df = df[df[is_currently_in_union]==1]\n",
    "df = df[df[selected_for_dom_violence_interview]==1]\n",
    "df.shape"
   ]
  },
  {
   "cell_type": "code",
   "execution_count": 8,
   "id": "sharp-value",
   "metadata": {},
   "outputs": [],
   "source": [
    "for key in cleaning_dict.keys():\n",
    "    df[key + '_sum'] = 0\n",
    "    for letter in 'abcdefghijklmnopqrstuvwxyz'[:cleaning_dict[key]['num_questions']]:\n",
    "        df[key + letter].fillna(0, inplace=True) # There shouldn't be missing na because of preselection of samples, but just in case\n",
    "        for i in cleaning_dict[key]['values_0']:\n",
    "            df.loc[df[key +  letter] == i,key + letter] = 0\n",
    "        df[key + '_sum'] += df[key +  letter]\n",
    "        \n",
    "        # Check that assignment is correct\n",
    "        assert df[key + letter].max() <= 1\n",
    "#         print(key + letter + \":\", df[key + letter].max())"
   ]
  },
  {
   "cell_type": "code",
   "execution_count": 9,
   "id": "dynamic-attack",
   "metadata": {},
   "outputs": [],
   "source": [
    "# Feature engineering\n",
    "df[num_dead_child] = df[total_child_born] - df[num_living_child]"
   ]
  },
  {
   "cell_type": "code",
   "execution_count": null,
   "id": "comparable-responsibility",
   "metadata": {},
   "outputs": [],
   "source": []
  },
  {
   "cell_type": "code",
   "execution_count": 10,
   "id": "micro-stereo",
   "metadata": {},
   "outputs": [],
   "source": [
    "# Weighting features\n",
    "# df[violence_justified + '_weighted'] = df[violence_justified]*df[sample_weight]/1e6\n",
    "# df[violence + '_weighted'] = df[violence]*df[sample_weight]/1e6\n",
    "\n"
   ]
  },
  {
   "cell_type": "markdown",
   "id": "cross-exhibit",
   "metadata": {},
   "source": [
    "<a id=\"EDA\"></a>\n",
    "# 3. Exploratory data analysis"
   ]
  },
  {
   "cell_type": "code",
   "execution_count": 11,
   "id": "valid-beauty",
   "metadata": {},
   "outputs": [
    {
     "data": {
      "text/html": [
       "<div>\n",
       "<style scoped>\n",
       "    .dataframe tbody tr th:only-of-type {\n",
       "        vertical-align: middle;\n",
       "    }\n",
       "\n",
       "    .dataframe tbody tr th {\n",
       "        vertical-align: top;\n",
       "    }\n",
       "\n",
       "    .dataframe thead th {\n",
       "        text-align: right;\n",
       "    }\n",
       "</style>\n",
       "<table border=\"1\" class=\"dataframe\">\n",
       "  <thead>\n",
       "    <tr style=\"text-align: right;\">\n",
       "      <th>d105_sum</th>\n",
       "      <th>0.0</th>\n",
       "      <th>1.0</th>\n",
       "    </tr>\n",
       "    <tr>\n",
       "      <th>v744_sum</th>\n",
       "      <th></th>\n",
       "      <th></th>\n",
       "    </tr>\n",
       "  </thead>\n",
       "  <tbody>\n",
       "    <tr>\n",
       "      <th>0.0</th>\n",
       "      <td>669</td>\n",
       "      <td>36</td>\n",
       "    </tr>\n",
       "    <tr>\n",
       "      <th>1.0</th>\n",
       "      <td>1236</td>\n",
       "      <td>76</td>\n",
       "    </tr>\n",
       "  </tbody>\n",
       "</table>\n",
       "</div>"
      ],
      "text/plain": [
       "d105_sum   0.0  1.0\n",
       "v744_sum           \n",
       "0.0        669   36\n",
       "1.0       1236   76"
      ]
     },
     "metadata": {},
     "output_type": "display_data"
    },
    {
     "data": {
      "text/plain": [
       "<AxesSubplot:title={'center':'Number of respondents for each class of score (only respondent experiencing domestic violence)'}, xlabel='v744_sum', ylabel='1.0'>"
      ]
     },
     "execution_count": 11,
     "metadata": {},
     "output_type": "execute_result"
    },
    {
     "data": {
      "image/png": "[encoded data removed]",
      "text/plain": [
       "<Figure size 1440x720 with 3 Axes>"
      ]
     },
     "metadata": {},
     "output_type": "display_data"
    }
   ],
   "source": [
    "temp = df[[violence_justified + '_sum', physical_violence + '_sum']].copy()\n",
    "temp['value'] = 1\n",
    "temp.loc[temp[physical_violence + '_sum']>=1, physical_violence + '_sum']=1\n",
    "temp.loc[temp[violence_justified + '_sum']>=1, violence_justified + '_sum']=1\n",
    "temp_pivot = temp.pivot_table(columns=[physical_violence + '_sum'],\n",
    "                              index=[violence_justified + '_sum'],\n",
    "                              values='value',aggfunc='count')\n",
    "display(temp_pivot)\n",
    "\n",
    "plt.subplot(311)\n",
    "plt.title('Number of respondents for each class of score (only respondent not experience domestic violence)')\n",
    "sns.barplot(x=temp_pivot.index, y=temp_pivot.loc[:,0])\n",
    "plt.subplot(312)\n",
    "plt.title('% of respondents experiencing domestic violence for each class')\n",
    "sns.barplot(x=temp_pivot.index, y=temp_pivot.loc[:,1]/temp_pivot.loc[:,0])\n",
    "plt.subplot(313)\n",
    "plt.title('Number of respondents for each class of score (only respondent experiencing domestic violence)')\n",
    "sns.barplot(x=temp_pivot.index, y=temp_pivot.loc[:,1])\n"
   ]
  },
  {
   "cell_type": "markdown",
   "id": "completed-abraham",
   "metadata": {},
   "source": [
    "- subplot(1) most respondents answered no to every question (ie v744_sum == 0)\n",
    "- subplot(2) Given the v744 score, the probability to experience violence is higher for higher scores (i.e., P(A|B), where A is score and B is violence)\n",
    "- subplot(3) since there are many more people with a score of 0, most people experiencing violence scored 0 (i.e. P(B|A))\n",
    "\n",
    "The results from subplot 2 and 3, are typical examples of bayesian probability.\n"
   ]
  },
  {
   "cell_type": "code",
   "execution_count": 12,
   "id": "grateful-transfer",
   "metadata": {},
   "outputs": [
    {
     "data": {
      "text/plain": [
       "<AxesSubplot:xlabel='d105_sum', ylabel='v744_sum'>"
      ]
     },
     "execution_count": 12,
     "metadata": {},
     "output_type": "execute_result"
    },
    {
     "data": {
      "image/png": "[encoded data removed]",
      "text/plain": [
       "<Figure size 1440x720 with 2 Axes>"
      ]
     },
     "metadata": {},
     "output_type": "display_data"
    }
   ],
   "source": [
    "temp = df[[violence_justified + '_sum', physical_violence + '_sum']].copy()\n",
    "temp['value'] = 1\n",
    "# temp.loc[temp[physical_violence + '_sum']>=1, physical_violence + '_sum']=1\n",
    "# temp.loc[temp[violence_justified + '_sum']>=1, violence_justified + '_sum']=1\n",
    "temp_pivot = temp.pivot_table(columns=df[physical_violence + '_sum'],\n",
    "                              index=[violence_justified + '_sum'],\n",
    "                              values='value',aggfunc='count')\n",
    "\n",
    "sns.heatmap(temp_pivot,vmax=1000)"
   ]
  },
  {
   "cell_type": "markdown",
   "id": "mysterious-developer",
   "metadata": {},
   "source": [
    "### What is the most common form of physical+sexual domestic violence?"
   ]
  },
  {
   "cell_type": "code",
   "execution_count": 13,
   "id": "purple-producer",
   "metadata": {},
   "outputs": [],
   "source": [
    "key = physical_violence\n",
    "physical_violence_questions_sum = df[[key + letter for letter in 'abcdefghijklmnopqrstuvwxyz'[:cleaning_dict[key]['num_questions']]]].sum()\n",
    "num_physical_violence_respondent = (df[physical_violence + '_sum']>0).sum()"
   ]
  },
  {
   "cell_type": "code",
   "execution_count": 14,
   "id": "black-seller",
   "metadata": {},
   "outputs": [
    {
     "data": {
      "text/plain": [
       "<AxesSubplot:>"
      ]
     },
     "execution_count": 14,
     "metadata": {},
     "output_type": "execute_result"
    },
    {
     "data": {
      "image/png": "[encoded data removed]",
      "text/plain": [
       "<Figure size 1440x720 with 1 Axes>"
      ]
     },
     "metadata": {},
     "output_type": "display_data"
    }
   ],
   "source": [
    "sns.barplot(y=physical_violence_questions_sum/num_physical_violence_respondent, x=physical_violence_questions_sum.index)"
   ]
  },
  {
   "cell_type": "markdown",
   "id": "juvenile-internet",
   "metadata": {},
   "source": [
    "### What are forms of violence that occur together?\n",
    "    \n",
    "    "
   ]
  },
  {
   "cell_type": "code",
   "execution_count": 15,
   "id": "understanding-royal",
   "metadata": {},
   "outputs": [
    {
     "data": {
      "text/plain": [
       "112"
      ]
     },
     "execution_count": 15,
     "metadata": {},
     "output_type": "execute_result"
    }
   ],
   "source": [
    "list_col_a = cleaning_dict[emotional_violence]['list_col']\n",
    "list_col_b = cleaning_dict[physical_violence]['list_col']\n",
    "list_col = list_col_a + list_col_b\n",
    "temp = df[[emotional_violence + \"_sum\", physical_violence + \"_sum\"]].copy()\n",
    "# temp_phy = df[physical_violence + \"_sum\"]\n",
    "\n",
    "temp[emotional_violence + \"_sum\"] = temp[emotional_violence + \"_sum\"]>0\n",
    "temp[physical_violence + \"_sum\"] = temp[physical_violence + \"_sum\"]>0\n",
    "\n",
    "temp.loc[temp[emotional_violence + \"_sum\"]==1,physical_violence + \"_sum\"].sum()/temp.shape[0]\n",
    "# temp.sum()/temp.shape[0]*100\n",
    "(df[cleaning_dict[physical_violence]['list_col']].sum(axis=1)>0).sum()\n",
    "# temp[emotional_violence + \"_sum\"].sum()\n",
    "# # temp = df[list_col]\n",
    "# co_occurence = (temp.T@temp)#.values\n",
    "# for i in range(co_occurence.shape[0]):\n",
    "#     co_occurence.iloc[i,:] /= co_occurence.iloc[i,i]\n",
    "    \n",
    "# sns.heatmap(co_occurence*100,annot=True)\n",
    "# _ = plt.title(\"Co-occurence of positive physical or sexual violence acts in the last 12 months\")"
   ]
  },
  {
   "cell_type": "code",
   "execution_count": null,
   "id": "organic-stamp",
   "metadata": {},
   "outputs": [],
   "source": []
  },
  {
   "cell_type": "code",
   "execution_count": 16,
   "id": "pressed-wrestling",
   "metadata": {},
   "outputs": [],
   "source": [
    "# Select some features for mutual information analysis\n",
    "# list_col_model = [edu, age, age_group, litteracy,\n",
    "#             media_paper, media_radio, media_tv,has_elec, has_radio, has_tv, has_fridge, has_bicycle, has_car, has_moto, \n",
    "#             has_phone_landline, \n",
    "# #             has_phone_mobile,\n",
    "#             religion, ethnicity,\n",
    "# #             place_of_residence, \n",
    "#             age_household_head,\n",
    "#             relation2household_head,\n",
    "#             wealth_index,\n",
    "#             total_child_born, num_living_child, num_dead_child, \n",
    "            \n",
    "            \n",
    "#             husband_edu_level, \n",
    "# #             num_control_issues,\n",
    "#             partner_drinks_alcohol, partner_drinks_alcohol_freq,\n",
    "#             control_issues + '_sum',\n",
    "#             violence_justified + '_sum',\n",
    "# #             violence_justified,\n",
    "#             emotional_violence + '_sum',\n",
    "# #             emotional_violence_any,\n",
    "#             physical_violence + '_sum',\n",
    "            \n",
    "#             mother_beaten,\n",
    "# #             husband_occupation, resp_occupation,\n",
    "#             ]\n",
    "list_col_model = [\n",
    "            litteracy,\n",
    "            age,      \n",
    "            mother_beaten,\n",
    "            wealth_index,\n",
    "            num_living_child,\n",
    "            edu,      \n",
    "            husband_edu_level, \n",
    "#             partner_drinks_alcohol, \n",
    "            partner_drinks_alcohol_freq,\n",
    "            control_issues + '_sum',\n",
    "            violence_justified + '_sum',\n",
    "            emotional_violence + '_sum',\n",
    "            physical_violence + '_sum',\n",
    "            ]\n",
    "X = df[list_col_model].copy()\n",
    "explicit_feature_names = [\n",
    "    'Literacy', \n",
    "    'Age', \n",
    "    'Did your father ever beat your mother', \n",
    "    'wealth index', \n",
    "    'number of children',\n",
    "    'Education level', \n",
    "    \"Husband's education level\", \n",
    "#     \"Does your husband drink alcohol?\",\n",
    "    'How often does your husband drink alcohol?', \n",
    "    'Is your husband jealous, or not trusting you with money?',\n",
    "    'Is a husband justified to beat his wife?',\n",
    "    'Have you ever been humiliated, insulted or threatened by your husband?',\n",
    "#     'Physical violence'\n",
    "    ]\n",
    "\n",
    "\n",
    "# for key in cleaning_dict.keys():\n",
    "#     cleaning_dict[key]['list_col'] = [key + letter for letter in 'abcdefghijklmnopqrstuvwxyz'[:cleaning_dict[key]['num_questions']]]\n",
    "#     list_col += cleaning_dict[key]['list_col']\n",
    "\n",
    "# X.loc[:,husband_occupation] = X.loc[:,husband_occupation].astype('int8') # /!\\ contains \"8\" as Nan\n",
    "# X.loc[:,resp_occupation] = X.loc[:,resp_occupation].astype('int8') # /!\\ contains \"8\" as Nan\n",
    "\n",
    "# replace not applicable by \"doesn't drink\" for alcohol related question\n",
    "for col in [partner_drinks_alcohol_freq, mother_beaten]:\n",
    "# for col in [partner_drinks_alcohol, partner_drinks_alcohol_freq, mother_beaten]:\n",
    "    X[col].fillna(0, inplace=True)\n",
    "    \n",
    "\n",
    "\n",
    "# feature engineering\n",
    "age_diff = 'age_diff'\n",
    "age_ratio = 'age_ratio'\n",
    "# X[age_diff] = X[age] - X[age_household_head]\n",
    "\n",
    "X.loc[:,'v701'].fillna(0,inplace=True) # only 2 missing values in Congo, 0 in Benin\n",
    "\n",
    "X.loc[X[litteracy]>=3,litteracy] = 0\n",
    "X.loc[X[litteracy]<=1,litteracy] = 0\n",
    "X.loc[X[litteracy]==2,litteracy] = 1\n",
    "\n",
    "\n",
    "# cast the following columns as int8 to treat them as discrete features\n",
    "for col in [ partner_drinks_alcohol_freq, mother_beaten, #relation2household_head,\n",
    "           husband_edu_level]:#, emotional_violence_any]: \n",
    "# for col in [partner_drinks_alcohol, partner_drinks_alcohol_freq, mother_beaten, relation2household_head,\n",
    "#            husband_edu_level]:#, emotional_violence_any]: \n",
    "    X.loc[:,col] = X.loc[:,col].astype('int8') # /!\\ contains \"8\" as Nan\n",
    "\n",
    "    \n",
    "# cast the following columns a floats continuous features\n",
    "# for col in [total_child_born, num_living_child, num_dead_child, age, age_household_head, age_diff,\n",
    "#            violence_justified + '_sum', \n",
    "#             emotional_violence + '_sum',\n",
    "#             physical_violence + '_sum', \n",
    "#             control_issues + '_sum',\n",
    "#             wealth_index]:\n",
    "for col in [num_living_child, #num_dead_child, total_child_born, \n",
    "            age, #age_household_head, age_diff,\n",
    "            violence_justified + '_sum', \n",
    "            emotional_violence + '_sum',\n",
    "            physical_violence + '_sum', \n",
    "            control_issues + '_sum',\n",
    "            wealth_index]:\n",
    "    X[col] = X[col].astype(float)\n",
    "\n",
    "\n",
    "    \n",
    "discrete_features = X.dtypes == 'int8'\n",
    "X.dropna(inplace=True)\n",
    "# X.dropna().info()"
   ]
  },
  {
   "cell_type": "code",
   "execution_count": 17,
   "id": "varying-morning",
   "metadata": {},
   "outputs": [],
   "source": [
    "# dict(zip(X.columns,explicit_feature_names))\n",
    "# X.info()"
   ]
  },
  {
   "cell_type": "code",
   "execution_count": 27,
   "id": "composed-argument",
   "metadata": {},
   "outputs": [
    {
     "data": {
      "text/plain": [
       "(2011, 12)"
      ]
     },
     "execution_count": 27,
     "metadata": {},
     "output_type": "execute_result"
    }
   ],
   "source": [
    "# Mutual information classification\n",
    "from sklearn.feature_selection import mutual_info_classif\n",
    "\n",
    "def make_mi_scores(X, y, discrete_features):\n",
    "    mi_scores = mutual_info_classif(X, y, discrete_features=discrete_features)\n",
    "    mi_scores = pd.Series(mi_scores, name=\"MI Scores\", index=X.columns)\n",
    "    mi_scores = mi_scores.sort_values(ascending=False)\n",
    "    return mi_scores\n",
    "\n",
    "\n",
    "\n",
    "def plot_mi_scores(scores):\n",
    "    scores = scores.sort_values(ascending=True)\n",
    "    width = np.arange(len(scores))\n",
    "    ticks = list(scores.index)\n",
    "    plt.barh(width, scores)\n",
    "    plt.yticks(width, ticks)\n",
    "    plt.title(\"Mutual Information Scores\", fontsize=25)\n"
   ]
  },
  {
   "cell_type": "code",
   "execution_count": 19,
   "id": "opposite-compilation",
   "metadata": {},
   "outputs": [],
   "source": [
    "# Let's try subsampling the majority class (no violence) to get better classification on the minority class (i.e. the class of interest)\n",
    "from sklearn.model_selection import train_test_split\n",
    "\n",
    "def subsample(X,y,imbalance_fac=1):\n",
    "    y_select = df[physical_violence + \"_sum\"]>0\n",
    "    y_negative = y[y_select==0].copzy()\n",
    "    y_positive = y[y_select==1].copy()\n",
    "    \n",
    "    X_negative = X.loc[y_select==0,:].copy()\n",
    "    X_positive = X.loc[y_select==1,:].copy()\n",
    "    \n",
    "#     # duplicate positive cases\n",
    "#     for i in range(4):\n",
    "#         y_positive = np.concatenate([y_positive, y_positive])\n",
    "#         X_positive = np.concatenate([X_positive, X_positive],axis=0)\n",
    "    \n",
    "    # subsample negative cases\n",
    "    _, X_negative_sub, _, y_negative_sub = train_test_split(X_negative,y_negative, test_size=imbalance_fac*len(y_positive))#, stratify=True )\n",
    "    return (pd.DataFrame(np.concatenate([X_negative_sub,X_positive]), columns=X.columns), \n",
    "            pd.Series(np.concatenate([y_negative_sub,y_positive]), ))\n",
    "\n",
    "\n",
    "# y = df[violence_justified + '_sum']>0\n",
    "# this_X = X.drop(columns=[violence_justified + \"_sum\"] )# +cleaning_dict[violence_justified]['list_col'])\n",
    "# this_X, y = subsample(this_X,y)      \n",
    "# y.shape"
   ]
  },
  {
   "cell_type": "code",
   "execution_count": 20,
   "id": "enclosed-dallas",
   "metadata": {},
   "outputs": [
    {
     "data": {
      "image/png": "[encoded data removed]",
      "text/plain": [
       "<Figure size 1440x720 with 1 Axes>"
      ]
     },
     "metadata": {},
     "output_type": "display_data"
    }
   ],
   "source": [
    "# for itarget, target_feature in enumerate([violence_justified, physical_violence]):\n",
    "for itarget, target_feature in enumerate([physical_violence]):    \n",
    "    y = X[target_feature + '_sum']>0\n",
    "    \n",
    "    plt.subplot(1,2,itarget+1)\n",
    "    this_X = X.drop(columns=[target_feature + \"_sum\"] )\n",
    "    discrete_features = this_X.dtypes == 'int8'\n",
    "    mi_scores = pd.Series(np.zeros(this_X.columns.shape), index= this_X.columns)\n",
    "    n = 20\n",
    "    for i in range(n):\n",
    "        X_sub, y_sub = subsample(this_X,y)     \n",
    "        \n",
    "        mi_scores += 1.0/n*make_mi_scores(X_sub, y_sub, discrete_features)\n",
    "        \n",
    "    mi_scores.rename(dict(zip(X.columns,explicit_feature_names)), inplace=True)\n",
    "    plot_mi_scores(mi_scores)\n"
   ]
  },
  {
   "cell_type": "code",
   "execution_count": 21,
   "id": "damaged-pattern",
   "metadata": {},
   "outputs": [
    {
     "name": "stdout",
     "output_type": "stream",
     "text": [
      "v155:  [0. 1.]\n",
      "v012:  [30. 46. 37. 25. 35. 33. 47. 24. 40. 27. 29. 45. 32. 43. 41. 20. 26. 22.\n",
      " 23. 18. 19. 44. 39. 28. 36. 34. 17. 42. 48. 31. 21. 38. 49. 16. 15.]\n",
      "d121:  [1 8 0]\n",
      "v191:  [-128996.   75335.   -6776. ...   45998.  183690.   46408.]\n",
      "v218:  [ 4.  2.  5.  1.  6.  3.  0.  8.  7.  9. 10.]\n",
      "v106:  [0 1 2 3]\n",
      "v701:  [0 2 3 1 8]\n",
      "d114:  [0 2 1]\n",
      "d101_sum:  [3. 0. 2. 4. 5. 1.]\n",
      "v744_sum:  [5. 0. 2. 4. 3. 1.]\n",
      "d103_sum:  [0. 1. 2. 3.]\n",
      "d105_sum:  [0. 1. 2. 5. 4. 3. 9. 8. 7.]\n"
     ]
    }
   ],
   "source": [
    "# Clean up missing values\n",
    "# X.info()\n",
    "for col in X.columns:\n",
    "    print(col + \": \", X[col].unique())"
   ]
  },
  {
   "cell_type": "code",
   "execution_count": null,
   "id": "medium-novelty",
   "metadata": {},
   "outputs": [],
   "source": []
  },
  {
   "cell_type": "markdown",
   "id": "comparable-exhaust",
   "metadata": {},
   "source": [
    "# Let's try prediction"
   ]
  },
  {
   "cell_type": "code",
   "execution_count": 22,
   "id": "coastal-mineral",
   "metadata": {},
   "outputs": [
    {
     "data": {
      "text/plain": [
       "{'max_depth': 9, 'min_samples_leaf': 0.07}"
      ]
     },
     "metadata": {},
     "output_type": "display_data"
    },
    {
     "name": "stdout",
     "output_type": "stream",
     "text": [
      "[[0.28888889 0.17777778]\n",
      " [0.22222222 0.31111111]]\n",
      "f1_score: 0.6086956521739131\n",
      "              precision    recall  f1-score   support\n",
      "\n",
      "       False       0.57      0.62      0.59        21\n",
      "        True       0.64      0.58      0.61        24\n",
      "\n",
      "    accuracy                           0.60        45\n",
      "   macro avg       0.60      0.60      0.60        45\n",
      "weighted avg       0.60      0.60      0.60        45\n",
      "\n"
     ]
    }
   ],
   "source": [
    "from sklearn.tree import DecisionTreeClassifier\n",
    "from sklearn. ensemble import GradientBoostingClassifier, RandomForestClassifier\n",
    "from sklearn.model_selection import train_test_split\n",
    "from sklearn.metrics import accuracy_score\n",
    "from sklearn import tree\n",
    "from sklearn.metrics import confusion_matrix, classification_report\n",
    "from sklearn.model_selection import GridSearchCV\n",
    "from sklearn.metrics import f1_score, roc_auc_score\n",
    "y = X[physical_violence + \"_sum\"]>0\n",
    "this_X = X.drop(columns=[physical_violence + \"_sum\"])\n",
    "this_X.columns\n",
    "discrete_features = this_X.dtypes == 'int8'\n",
    "X_model = pd.get_dummies(this_X, columns=this_X.columns[discrete_features])\n",
    "imbalance_fac = 1\n",
    "X_model, y = subsample(X_model,y, imbalance_fac=imbalance_fac)      \n",
    "X_train, X_test, y_train, y_test = train_test_split(X_model.values,y.values, test_size=0.2)\n",
    "\n",
    "param_grid = dict(max_depth=[9], \n",
    "                  min_samples_leaf=[0.05, 0.07, 0.1, 0.15, 0.2, 0.25, .3, 0.5],\n",
    "                 )\n",
    "\n",
    " \n",
    "clf = DecisionTreeClassifier(min_impurity_decrease=0.0001,\n",
    "                             class_weight={0:1, 1:imbalance_fac}, \n",
    "                             )\n",
    "\n",
    "clf_cv = GridSearchCV(clf, param_grid, cv=3, scoring='recall')\n",
    "\n",
    "\n",
    "clf_cv.fit(X_train, y_train)\n",
    "display(clf_cv.best_params_)\n",
    "y_pred = clf_cv.best_estimator_.predict(X_test)\n",
    "\n",
    "print(confusion_matrix(y_test, y_pred)/y_test.shape[0])\n",
    "classif_dict = classification_report(y_test,y_pred, output_dict=True)\n",
    "print(\"f1_score:\", classif_dict['True']['f1-score'])\n",
    "print(classification_report(y_test,y_pred))"
   ]
  },
  {
   "cell_type": "code",
   "execution_count": 23,
   "id": "opened-effort",
   "metadata": {},
   "outputs": [
    {
     "data": {
      "image/png": "[encoded data removed]",
      "text/plain": [
       "<Figure size 1440x720 with 1 Axes>"
      ]
     },
     "metadata": {},
     "output_type": "display_data"
    }
   ],
   "source": [
    "expl_feature_names_model =(list(X_model.columns.copy()))\n",
    "# expl_feature_names_model.rename({'v012':  '5-year age group'}, inplace=True)\n",
    "\n",
    "expl_feature_names_model[:6] = [\n",
    "    '5-year age group', \n",
    "    'Wealth Index',\n",
    "    'Number of children',\n",
    "    'Is your husband jealous, \\nor not trusting you with money?',\n",
    "    'Is a husband justified to beat his wife?',\n",
    "    'Have you ever been humiliated, \\ninsulted or threatened by your husband?',\n",
    "]\n",
    "# fig, ax = plt.subplots(1,1)\n",
    "# _ = tree.plot_tree(clf_cv.best_estimator_, feature_names=X_model.columns, filled=True, \n",
    "#                    impurity=False, proportion=True, precision=2, rounded=True)\n",
    "_ = tree.plot_tree(clf_cv.best_estimator_, feature_names=expl_feature_names_model, filled=True, \n",
    "                   impurity=False, proportion=True, precision=2, rounded=True,fontsize=15)\n",
    "\n",
    "# _ = tree.plot_tree(clf, feature_names=X_model.columns)"
   ]
  },
  {
   "cell_type": "code",
   "execution_count": 24,
   "id": "novel-circular",
   "metadata": {},
   "outputs": [
    {
     "data": {
      "text/plain": [
       "Index(['v155', 'v012', 'v191', 'v218', 'd101_sum', 'v744_sum', 'd103_sum',\n",
       "       'd121_0', 'd121_1', 'd121_8', 'v106_0', 'v106_1', 'v106_2', 'v106_3',\n",
       "       'v701_0', 'v701_1', 'v701_2', 'v701_3', 'v701_8', 'd114_0', 'd114_1',\n",
       "       'd114_2'],\n",
       "      dtype='object')"
      ]
     },
     "execution_count": 24,
     "metadata": {},
     "output_type": "execute_result"
    }
   ],
   "source": [
    "X_model.columns"
   ]
  },
  {
   "cell_type": "code",
   "execution_count": 25,
   "id": "quality-picture",
   "metadata": {},
   "outputs": [],
   "source": [
    "\n",
    "#     'Litteracy',\n",
    "    \n",
    "#     'Did your father ever beat your mother', \n",
    "\n",
    "    \n",
    "#     'Education level', \n",
    "#     \"Husband's education level\", \n",
    "# #     \"Does your husband drink alcohol?\",\n",
    "#     'How often does your husband drink alcohol?', \n",
    "    \n",
    "    \n",
    "    \n",
    "# #     'Physical violence'\n",
    "#     ]"
   ]
  },
  {
   "cell_type": "code",
   "execution_count": 26,
   "id": "hindu-restaurant",
   "metadata": {},
   "outputs": [
    {
     "ename": "AttributeError",
     "evalue": "'numpy.ndarray' object has no attribute 'values'",
     "output_type": "error",
     "traceback": [
      "\u001b[0;31m---------------------------------------------------------------------------\u001b[0m",
      "\u001b[0;31mAttributeError\u001b[0m                            Traceback (most recent call last)",
      "\u001b[0;32m<ipython-input-26-ef78855436b1>\u001b[0m in \u001b[0;36m<module>\u001b[0;34m\u001b[0m\n\u001b[0;32m----> 1\u001b[0;31m \u001b[0mnp\u001b[0m\u001b[0;34m.\u001b[0m\u001b[0msum\u001b[0m\u001b[0;34m(\u001b[0m\u001b[0mnp\u001b[0m\u001b[0;34m.\u001b[0m\u001b[0mabs\u001b[0m\u001b[0;34m(\u001b[0m\u001b[0my_test\u001b[0m\u001b[0;34m.\u001b[0m\u001b[0mvalues\u001b[0m\u001b[0;34m-\u001b[0m\u001b[0my_pred\u001b[0m\u001b[0;34m)\u001b[0m\u001b[0;34m)\u001b[0m\u001b[0;34m\u001b[0m\u001b[0;34m\u001b[0m\u001b[0m\n\u001b[0m",
      "\u001b[0;31mAttributeError\u001b[0m: 'numpy.ndarray' object has no attribute 'values'"
     ]
    }
   ],
   "source": [
    "np.sum(np.abs(y_test.values-y_pred))"
   ]
  },
  {
   "cell_type": "code",
   "execution_count": null,
   "id": "acceptable-jaguar",
   "metadata": {},
   "outputs": [],
   "source": [
    "np.sum(y_test.values.astype(int) - y_pred.astype(int))"
   ]
  },
  {
   "cell_type": "code",
   "execution_count": null,
   "id": "retained-rabbit",
   "metadata": {},
   "outputs": [],
   "source": [
    "cleaning_dict"
   ]
  },
  {
   "cell_type": "code",
   "execution_count": null,
   "id": "unlikely-technology",
   "metadata": {},
   "outputs": [],
   "source": [
    "# For Ettore\n",
    "df[cleaning_dict['v744']['list_col'] + cleaning_dict['d105']['list_col'] + cleaning_dict['d103']['list_col']].astype(int).to_csv('data_Ettore.csv')"
   ]
  },
  {
   "cell_type": "code",
   "execution_count": null,
   "id": "after-transsexual",
   "metadata": {},
   "outputs": [],
   "source": []
  },
  {
   "cell_type": "code",
   "execution_count": null,
   "id": "neural-tender",
   "metadata": {},
   "outputs": [],
   "source": [
    "mi_benin = mi_scores.copy()"
   ]
  },
  {
   "cell_type": "code",
   "execution_count": null,
   "id": "worldwide-insulation",
   "metadata": {},
   "outputs": [],
   "source": [
    "mi_congo = mi_scores.copy()"
   ]
  },
  {
   "cell_type": "code",
   "execution_count": null,
   "id": "religious-bikini",
   "metadata": {},
   "outputs": [],
   "source": [
    "mpl.rc('font', size=30)\n",
    "fig = plt.figure(figsize=[20,15])\n",
    "for i, scores in enumerate([mi_benin, mi_congo]):\n",
    "    width = 2*np.arange(len(scores))\n",
    "    scores = scores.sort_values(ascending=True)\n",
    "    plt.barh(-0.8*i+width, scores)\n",
    "\n",
    "\n",
    "\n",
    "ticks = list(scores.index)\n",
    "\n",
    "\n",
    "plt.yticks(width, ticks)\n",
    "plt.title(\"Mutual Information Scores\", fontsize=40)\n"
   ]
  },
  {
   "cell_type": "code",
   "execution_count": null,
   "id": "collect-asthma",
   "metadata": {},
   "outputs": [],
   "source": []
  },
  {
   "cell_type": "code",
   "execution_count": null,
   "id": "defined-interaction",
   "metadata": {},
   "outputs": [],
   "source": []
  }
 ],
 "metadata": {
  "kernelspec": {
   "display_name": "Python 3",
   "language": "python",
   "name": "python3"
  },
  "language_info": {
   "codemirror_mode": {
    "name": "ipython",
    "version": 3
   },
   "file_extension": ".py",
   "mimetype": "text/x-python",
   "name": "python",
   "nbconvert_exporter": "python",
   "pygments_lexer": "ipython3",
   "version": "3.8.0"
  }
 },
 "nbformat": 4,
 "nbformat_minor": 5
}
